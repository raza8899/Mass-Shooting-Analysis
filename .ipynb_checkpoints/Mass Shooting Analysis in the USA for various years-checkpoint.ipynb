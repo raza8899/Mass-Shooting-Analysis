{
 "cells": [
  {
   "cell_type": "code",
   "execution_count": 1,
   "metadata": {},
   "outputs": [
    {
     "ename": "ModuleNotFoundError",
     "evalue": "No module named 'seaborn'",
     "output_type": "error",
     "traceback": [
      "\u001b[0;31m---------------------------------------------------------------------------\u001b[0m",
      "\u001b[0;31mModuleNotFoundError\u001b[0m                       Traceback (most recent call last)",
      "\u001b[0;32m<ipython-input-1-46ab246792f4>\u001b[0m in \u001b[0;36m<module>\u001b[0;34m\u001b[0m\n\u001b[1;32m      2\u001b[0m \u001b[0;32mimport\u001b[0m \u001b[0mmatplotlib\u001b[0m\u001b[0;34m.\u001b[0m\u001b[0mpyplot\u001b[0m \u001b[0;32mas\u001b[0m \u001b[0mplt\u001b[0m\u001b[0;34m\u001b[0m\u001b[0;34m\u001b[0m\u001b[0m\n\u001b[1;32m      3\u001b[0m \u001b[0;32mimport\u001b[0m \u001b[0mnumpy\u001b[0m \u001b[0;32mas\u001b[0m \u001b[0mnp\u001b[0m\u001b[0;34m\u001b[0m\u001b[0;34m\u001b[0m\u001b[0m\n\u001b[0;32m----> 4\u001b[0;31m \u001b[0;32mimport\u001b[0m \u001b[0mseaborn\u001b[0m \u001b[0;32mas\u001b[0m \u001b[0msns\u001b[0m\u001b[0;34m\u001b[0m\u001b[0;34m\u001b[0m\u001b[0m\n\u001b[0m\u001b[1;32m      5\u001b[0m \u001b[0mget_ipython\u001b[0m\u001b[0;34m(\u001b[0m\u001b[0;34m)\u001b[0m\u001b[0;34m.\u001b[0m\u001b[0mrun_line_magic\u001b[0m\u001b[0;34m(\u001b[0m\u001b[0;34m''\u001b[0m\u001b[0;34m,\u001b[0m \u001b[0;34m'matplotlib inline'\u001b[0m\u001b[0;34m)\u001b[0m\u001b[0;34m\u001b[0m\u001b[0;34m\u001b[0m\u001b[0m\n\u001b[1;32m      6\u001b[0m \u001b[0;32mimport\u001b[0m \u001b[0mplotly\u001b[0m\u001b[0;34m.\u001b[0m\u001b[0moffline\u001b[0m \u001b[0;32mas\u001b[0m \u001b[0mpy\u001b[0m\u001b[0;34m\u001b[0m\u001b[0;34m\u001b[0m\u001b[0m\n",
      "\u001b[0;31mModuleNotFoundError\u001b[0m: No module named 'seaborn'"
     ]
    }
   ],
   "source": [
    "import pandas as pd\n",
    "import matplotlib.pyplot as plt\n",
    "import numpy as np\n",
    "import seaborn as sns\n",
    "% matplotlib inline\n",
    "import plotly.offline as py\n",
    "init_notebook_mode(connected=True)\n",
    "py.init_notebook_mode(connected=True)\n",
    "import plotly.graph_objs as go\n",
    "import plotly.tools as tls"
   ]
  },
  {
   "cell_type": "code",
   "execution_count": null,
   "metadata": {},
   "outputs": [],
   "source": [
    "my_data= pd.read_csv(\"../../Python_New_Work/Mass_Sho/Mass_Shooting.csv\",encoding='latin-1')"
   ]
  },
  {
   "cell_type": "code",
   "execution_count": null,
   "metadata": {},
   "outputs": [],
   "source": [
    "my_data.head(5)"
   ]
  },
  {
   "cell_type": "code",
   "execution_count": null,
   "metadata": {},
   "outputs": [],
   "source": [
    "my_data.columns.values\n"
   ]
  },
  {
   "cell_type": "markdown",
   "metadata": {},
   "source": [
    "#### Checking the null values in the columns"
   ]
  },
  {
   "cell_type": "code",
   "execution_count": null,
   "metadata": {},
   "outputs": [],
   "source": [
    "\n",
    "my_data.isnull().sum()"
   ]
  },
  {
   "cell_type": "code",
   "execution_count": null,
   "metadata": {},
   "outputs": [],
   "source": [
    "from datetime import datetime\n"
   ]
  },
  {
   "cell_type": "code",
   "execution_count": null,
   "metadata": {},
   "outputs": [],
   "source": [
    "my_data['Date']=pd.to_datetime(my_data['Date'])"
   ]
  },
  {
   "cell_type": "code",
   "execution_count": null,
   "metadata": {},
   "outputs": [],
   "source": [
    "my_data['Shooting_year']=my_data['Date'].dt.year\n",
    "my_data['Shooting_month']=my_data['Date'].dt.month"
   ]
  },
  {
   "cell_type": "markdown",
   "metadata": {},
   "source": [
    "#### Filling the Null location values by extracting the data from Title column"
   ]
  },
  {
   "cell_type": "code",
   "execution_count": null,
   "metadata": {},
   "outputs": [],
   "source": [
    "my_data['loc1']=my_data.Title.str.extract('([A-Za-z]+, [A-Za-z]+)',expand=False)\n",
    "my_data['loc2']=my_data.Title.str.extract('([A-Za-z]+ )', expand=False)"
   ]
  },
  {
   "cell_type": "code",
   "execution_count": null,
   "metadata": {},
   "outputs": [],
   "source": [
    "for i in range(len(my_data)):\n",
    "    if(pd.isnull(my_data.loc[i,'Location'])):\n",
    "        my_data.loc[i,'Location1']=my_data.loc[i,'loc1']\n",
    "        if(pd.isnull(my_data['Location1'][i])):\n",
    "            my_data.loc[i,'Location1']=my_data.loc[i,'loc2']\n",
    "    else:\n",
    "        my_data.loc[i,'Location1'] = my_data.loc[i,'Location']\n",
    "    "
   ]
  },
  {
   "cell_type": "code",
   "execution_count": null,
   "metadata": {},
   "outputs": [],
   "source": [
    "my_data=my_data.drop(['Location','loc1','loc2'],axis=1)"
   ]
  },
  {
   "cell_type": "code",
   "execution_count": null,
   "metadata": {},
   "outputs": [],
   "source": [
    "my_data.rename(columns={'Location1':'Location'},inplace=True)"
   ]
  },
  {
   "cell_type": "code",
   "execution_count": null,
   "metadata": {},
   "outputs": [],
   "source": [
    "my_data['State']=my_data[\"Location\"].str.rpartition(',')[2]"
   ]
  },
  {
   "cell_type": "code",
   "execution_count": null,
   "metadata": {},
   "outputs": [],
   "source": [
    "my_data['State'][my_data['State'].str.len()==3].value_counts().head()"
   ]
  },
  {
   "cell_type": "code",
   "execution_count": null,
   "metadata": {},
   "outputs": [],
   "source": [
    "my_data['State'].replace([' CA',' VA',' WA',' NM',' LA',' GA',' MD',' FL',' CO',' TX',' PA',' TN',' AZ',' NV',' AL',' DE',' NJ'],\n",
    "                           ['California','Virginia','Washington','New Mexico','Louisiana','Georgia','Maryland','Florida',\n",
    "                            'Colorado','Texas','Pennsylvania','Tennessee','Arizona','Nevada','Alabama','Delaware','New Jersey'], inplace=True)"
   ]
  },
  {
   "cell_type": "code",
   "execution_count": null,
   "metadata": {},
   "outputs": [],
   "source": [
    "my_data['State'].value_counts().head()"
   ]
  },
  {
   "cell_type": "code",
   "execution_count": null,
   "metadata": {},
   "outputs": [],
   "source": [
    "my_data['Gender'].value_counts().head()"
   ]
  },
  {
   "cell_type": "markdown",
   "metadata": {},
   "source": [
    "#### Reducing the Redundancy"
   ]
  },
  {
   "cell_type": "code",
   "execution_count": null,
   "metadata": {},
   "outputs": [],
   "source": [
    "my_data['Gender'].replace([\"M\",\"M/F\"],['Male','Male/Female'],inplace=True)"
   ]
  },
  {
   "cell_type": "code",
   "execution_count": null,
   "metadata": {
    "scrolled": false
   },
   "outputs": [],
   "source": [
    "my_data['Race'].value_counts()"
   ]
  },
  {
   "cell_type": "code",
   "execution_count": null,
   "metadata": {},
   "outputs": [],
   "source": [
    "my_data['Race'].replace(['White American or European American','white','White',\n",
    "                         'White American or European American/Some other Race'],\n",
    "                        ['White','White','White','White'],inplace=True)\n",
    "my_data['Race'].replace(['Black American or African American', 'black', \n",
    "                           'Black American or African American/Unknown'], ['Black', 'Black', 'Black'], inplace=True)\n",
    "my_data['Race'].replace(['Asian', 'Asian American/Some other race'], ['Asian American', 'Asian American'], inplace=True)\n",
    "my_data['Race'].replace(['Unknown', 'Some other race', 'Two or more races'], ['Other', 'Other' ,'Other'], inplace=True)\n",
    "my_data['Race'].replace(['Native American or Alaska Native'], ['Native American'], inplace=True)"
   ]
  },
  {
   "cell_type": "code",
   "execution_count": null,
   "metadata": {},
   "outputs": [],
   "source": [
    "my_data['Race'].value_counts()"
   ]
  },
  {
   "cell_type": "code",
   "execution_count": null,
   "metadata": {},
   "outputs": [],
   "source": [
    "my_data['Mental Health Issues'].value_counts()"
   ]
  },
  {
   "cell_type": "code",
   "execution_count": null,
   "metadata": {},
   "outputs": [],
   "source": [
    "my_data['Mental Health Issues'].replace(['unknown','Unclear'],['Unknown','Unknown'],inplace=True)"
   ]
  },
  {
   "cell_type": "code",
   "execution_count": null,
   "metadata": {},
   "outputs": [],
   "source": [
    "my_data['Target'].value_counts()"
   ]
  },
  {
   "cell_type": "markdown",
   "metadata": {},
   "source": [
    "#### Converting the same type of value into one category"
   ]
  },
  {
   "cell_type": "code",
   "execution_count": null,
   "metadata": {},
   "outputs": [],
   "source": [
    "my_data['FTarget'] = np.nan\n",
    "my_data.loc[my_data['Target'].str.contains(\"family\",case=False, na=False), 'FTarget'] = 'Family'\n",
    "my_data.loc[my_data['Target'].str.contains(\"Ex-\",case=False, na=False), 'FTarget'] = 'Family'\n",
    "my_data.loc[my_data['Target'].str.contains(\"coworker\",case=False, na=False), 'FTarget'] = 'Coworkers'\n",
    "my_data.loc[my_data['Target'].str.contains(\"employee\",case=False, na=False), 'FTarget'] = 'Coworkers'\n",
    "my_data.loc[my_data['Target'].str.contains(\"Student\",case=False, na=False), 'FTarget'] = 'School'\n",
    "my_data.loc[my_data['Target'].str.contains(\"player\",case=False, na=False), 'FTarget'] = 'School'\n",
    "my_data.loc[my_data['Target'].str.contains(\"teacher\",case=False, na=False), 'FTarget'] = 'School'\n",
    "my_data.loc[my_data['Target'].str.contains(\"school\",case=False, na=False), 'FTarget'] = 'School'\n",
    "my_data.loc[my_data['Target'].str.contains(\"random\",case=False, na=False), 'FTarget'] = 'Random'\n",
    "\n"
   ]
  },
  {
   "cell_type": "code",
   "execution_count": null,
   "metadata": {},
   "outputs": [],
   "source": [
    "my_data['FTarget'].fillna(my_data['Target'],inplace=True)"
   ]
  },
  {
   "cell_type": "code",
   "execution_count": null,
   "metadata": {},
   "outputs": [],
   "source": [
    "my_data['FTarget'].value_counts()"
   ]
  },
  {
   "cell_type": "code",
   "execution_count": null,
   "metadata": {},
   "outputs": [],
   "source": [
    "my_data['Incident Area'].value_counts()"
   ]
  },
  {
   "cell_type": "code",
   "execution_count": null,
   "metadata": {},
   "outputs": [],
   "source": [
    "my_data['Area'] = np.nan\n",
    "my_data.loc[my_data['Incident Area'].str.contains(\"school\",case=False, na=False), 'Area'] = 'School'\n",
    "my_data.loc[my_data['Incident Area'].str.contains(\"University\",case=False, na=False), 'Area'] = 'School'\n",
    "my_data.loc[my_data['Incident Area'].str.contains(\"college\",case=False, na=False), 'Area'] = 'School'\n",
    "my_data.loc[my_data['Incident Area'].str.contains(\"dormitory\",case=False, na=False), 'Area'] = 'School'\n",
    "my_data.loc[my_data['Incident Area'].str.contains(\"lecture\",case=False, na=False), 'Area'] = 'School'\n",
    "my_data.loc[my_data['Incident Area'].str.contains(\"scool\",case=False, na=False), 'Area'] = 'School'\n",
    "my_data.loc[my_data['Incident Area'].str.contains(\"academy\",case=False, na=False), 'Area'] = 'School'\n",
    "my_data.loc[my_data['Incident Area'].str.contains(\"classroom\",case=False, na=False), 'Area'] = 'School'\n",
    "my_data.loc[my_data['Incident Area'].str.contains(\"apartment\",case=False, na=False), 'Area'] = 'Home'\n",
    "my_data.loc[my_data['Incident Area'].str.contains(\"house\",case=False, na=False), 'Area'] = 'Home'\n",
    "my_data.loc[my_data['Incident Area'].str.contains(\"home\",case=False, na=False), 'Area'] = 'Home'\n",
    "my_data.loc[my_data['Incident Area'].str.contains(\"shop\",case=False, na=False), 'Area'] = 'Shop'\n",
    "my_data.loc[my_data['Incident Area'].str.contains(\"Store\",case=False, na=False), 'Area'] = 'Shop'\n",
    "my_data.loc[my_data['Incident Area'].str.contains(\"Restaurant\",case=False, na=False), 'Area'] = 'Shop'\n",
    "my_data.loc[my_data['Incident Area'].str.contains(\"salon\",case=False, na=False), 'Area'] = 'Shop'\n",
    "my_data.loc[my_data['Incident Area'].str.contains(\"spa\",case=False, na=False), 'Area'] = 'Shop'\n",
    "my_data.loc[my_data['Incident Area'].str.contains(\"Cafe\",case=False, na=False), 'Area'] = 'Shop'\n",
    "my_data.loc[my_data['Incident Area'].str.contains(\"grocery\",case=False, na=False), 'Area'] = 'Shop'\n",
    "my_data.loc[my_data['Incident Area'].str.contains(\"mart\",case=False, na=False), 'Area'] = 'Shop'\n",
    "my_data.loc[my_data['Incident Area'].str.contains(\"Office\",case=False, na=False), 'Area'] = 'Work'\n",
    "my_data.loc[my_data['Incident Area'].str.contains(\"Company\",case=False, na=False), 'Area'] = 'Work'\n",
    "my_data.loc[my_data['Incident Area'].str.contains(\"work\",case=False, na=False), 'Area'] = 'Work'\n",
    "my_data.loc[my_data['Incident Area'].str.contains(\"conference\",case=False, na=False), 'Area'] = 'Work'\n",
    "my_data.loc[my_data['Incident Area'].str.contains(\"firm\",case=False, na=False), 'Area'] = 'Work'\n",
    "my_data.loc[my_data['Incident Area'].str.contains(\"street\",case=False, na=False), 'Area'] = 'Road'\n",
    "my_data.loc[my_data['Incident Area'].str.contains(\"lot\",case=False, na=False), 'Area'] = 'Road'\n",
    "my_data.loc[my_data['Incident Area'].str.contains(\"walk\",case=False, na=False), 'Area'] = 'Road'\n",
    "my_data.loc[my_data['Incident Area'].str.contains(\"highway\",case=False, na=False), 'Area'] = 'Road'\n",
    "my_data.loc[my_data['Incident Area'].str.contains(\"interstate\",case=False, na=False), 'Area'] = 'Road'\n",
    "my_data.loc[my_data['Incident Area'].str.contains(\"club\",case=False, na=False), 'Area'] = 'Pub-Club'\n",
    "my_data.loc[my_data['Incident Area'].str.contains(\"pub\",case=False, na=False), 'Area'] = 'Pub-Club'\n",
    "my_data.loc[my_data['Incident Area'].str.contains(\"gas\",case=False, na=False), 'Area'] = 'Gas-Station'\n",
    "my_data.loc[my_data['Incident Area'].str.contains(\"party\",case=False, na=False), 'Area'] = 'Party'\n",
    "my_data.loc[my_data['Incident Area'].str.contains(\"airport\",case=False, na=False), 'Area'] = 'Airport'\n",
    "my_data.loc[my_data['Incident Area'].str.contains(\"clinic\",case=False, na=False), 'Area'] = 'Hospital'\n",
    "my_data.loc[my_data['Incident Area'].str.contains(\"Hospital\",case=False, na=False), 'Area'] = 'Hospital'\n",
    "my_data.loc[my_data['Incident Area'].str.contains(\"church\",case=False, na=False), 'Area'] = 'Religious'\n",
    "my_data.loc[my_data['Incident Area'].str.contains(\"temple\",case=False, na=False), 'Area'] = 'Religious'\n",
    "my_data.loc[my_data['Incident Area'].str.contains(\"monastery\",case=False, na=False), 'Area'] = 'Religious'\n",
    "my_data.Area.fillna(my_data['Incident Area'],inplace=True)"
   ]
  },
  {
   "cell_type": "code",
   "execution_count": null,
   "metadata": {},
   "outputs": [],
   "source": [
    "my_data['Cause'].value_counts()"
   ]
  },
  {
   "cell_type": "code",
   "execution_count": null,
   "metadata": {},
   "outputs": [],
   "source": [
    "my_data['Cause'].replace(['domestic disputer'],['domestic dispute'],inplace=True)"
   ]
  },
  {
   "cell_type": "code",
   "execution_count": null,
   "metadata": {},
   "outputs": [],
   "source": [
    "my_data[\"Open/Close Location\"].value_counts()"
   ]
  },
  {
   "cell_type": "code",
   "execution_count": null,
   "metadata": {},
   "outputs": [],
   "source": [
    "my_data['Open/Close Location'].replace(['Open+CLose'],['Open+Close'],inplace=True)\n"
   ]
  },
  {
   "cell_type": "code",
   "execution_count": null,
   "metadata": {},
   "outputs": [],
   "source": [
    "my_data['Age1']=np.nan\n",
    "my_data.loc[my_data[\"Age\"].str.contains(',',case=False,na=False),'Age1']=my_data['Age'].str.rpartition(\",\")[0]"
   ]
  },
  {
   "cell_type": "code",
   "execution_count": null,
   "metadata": {},
   "outputs": [],
   "source": [
    "my_data[\"Age1\"].fillna(my_data['Age'],inplace=True)\n",
    "my_data=my_data.drop('Age',axis=1)"
   ]
  },
  {
   "cell_type": "code",
   "execution_count": null,
   "metadata": {},
   "outputs": [],
   "source": [
    "my_data.rename(columns={'Age1':'Age'},inplace=True)"
   ]
  },
  {
   "cell_type": "code",
   "execution_count": null,
   "metadata": {},
   "outputs": [],
   "source": [
    "my_data.isnull().sum()"
   ]
  },
  {
   "cell_type": "code",
   "execution_count": null,
   "metadata": {},
   "outputs": [],
   "source": [
    "useful_data = pd.DataFrame(my_data[['Date', 'Shooting_year', 'Shooting_month', 'State', 'Fatalities','Injured', 'Total victims', 'Policeman Killed', 'Age', \n",
    "                             'Race', 'Gender','Cause', 'Area', 'FTarget', 'Latitude', 'Longitude','Mental Health Issues','Employeed (Y/N)']])\n",
    "useful_data.head(2)"
   ]
  },
  {
   "cell_type": "code",
   "execution_count": null,
   "metadata": {},
   "outputs": [],
   "source": [
    "trace1= go.Histogram(x=useful_data.Date,marker=dict(color='rgba(255, 68, 26, 1)'),name='date')\n",
    "data=[trace1]\n",
    "layout=dict(plot_bgcolor='rgba(228, 255, 148, 1)',title=\" US Mass Shotings 1965-2017 Details\",\n",
    "            yaxis=dict(title=\"Count of Shootings\"),\n",
    "            xaxis=dict(title=\"Killings in a particular time Interval\",type='date')\n",
    "           ,updatemenus=[dict(x=0.1,y=1.11,yanchor='top',active=1,showactive=True,\n",
    "                            buttons=[dict(args=['xbins.size','M1'],label='Month',method='restyle')\n",
    "                                    ,dict(args=['xbins.size','M12'],label='Year',method='restyle')\n",
    "                                    ,dict(args=['xbins.size','M3'],label='Quarter',method='restyle'),\n",
    "                                    dict(args=['xbins.size','D1'],label='Day',method='restyle')])])\n",
    "fig=dict(data=data,layout=layout)\n",
    "py.iplot(fig)"
   ]
  },
  {
   "cell_type": "code",
   "execution_count": null,
   "metadata": {},
   "outputs": [],
   "source": [
    "ms_year_stats = my_data[['Shooting_year', 'Total victims' ]].groupby(['Shooting_year']\n",
    "             ,as_index=False).sum().sort_values(by='Shooting_year', ascending=False)\n",
    "ms_year_stats1 = my_data[['Shooting_year', 'Fatalities' ]].groupby(['Shooting_year'],\n",
    "                   as_index=False).sum().sort_values(by='Shooting_year', ascending=False)\n",
    "ms_year_stats2 = my_data[['Shooting_year', 'Injured' ]].groupby(['Shooting_year'], \n",
    "                as_index=False).sum().sort_values(by='Shooting_year', ascending=False)\n",
    "ms_year_stats3 = my_data[['Shooting_year', 'Total victims' ]].groupby(['Shooting_year'], \n",
    "                as_index=False).count().sort_values(by='Shooting_year', ascending=False)\n",
    "\n"
   ]
  },
  {
   "cell_type": "code",
   "execution_count": null,
   "metadata": {},
   "outputs": [],
   "source": [
    "trace1=go.Scatter(mode='lines+markers',x=ms_year_stats['Shooting_year'],\n",
    "                  y=ms_year_stats['Total victims'],name='Total Victims')\n",
    "trace2=go.Scatter(mode='lines+markers',x=ms_year_stats1['Shooting_year'],\n",
    "                  y=ms_year_stats1['Fatalities'],name='Fatalities')\n",
    "trace3=go.Scatter(mode='lines+markers',x=ms_year_stats2['Shooting_year'],\n",
    "                  y=ms_year_stats2['Injured'],name='Injuries')\n",
    "trace4=go.Scatter(mode='lines',x=ms_year_stats3['Shooting_year'],\n",
    "                  y=ms_year_stats3['Total victims'],name='Count of Shooting')"
   ]
  },
  {
   "cell_type": "code",
   "execution_count": null,
   "metadata": {},
   "outputs": [],
   "source": [
    "data=[trace1,trace2,trace3,trace4]\n",
    "layout=dict(title='Fatalities and Injuries in Various Years')\n",
    "py.iplot(dict(data=data,layout=layout))"
   ]
  },
  {
   "cell_type": "code",
   "execution_count": null,
   "metadata": {},
   "outputs": [],
   "source": [
    "ms_cause_cnt = useful_data[['Cause', \n",
    "                            'Total victims' ]].groupby(['Cause'], as_index=False).count().sort_values(by='Total victims'\n",
    "                          , ascending=False)"
   ]
  },
  {
   "cell_type": "code",
   "execution_count": null,
   "metadata": {},
   "outputs": [],
   "source": [
    "ms_cause_cnt=ms_cause_cnt[ms_cause_cnt['Total victims']>9]"
   ]
  },
  {
   "cell_type": "markdown",
   "metadata": {},
   "source": [
    "### Cause which invoked more Number of Shootings"
   ]
  },
  {
   "cell_type": "code",
   "execution_count": null,
   "metadata": {},
   "outputs": [],
   "source": [
    "ms_cause_cnt\n"
   ]
  },
  {
   "cell_type": "markdown",
   "metadata": {},
   "source": [
    "#### Cause that resulted in more number of victims during shooting"
   ]
  },
  {
   "cell_type": "code",
   "execution_count": null,
   "metadata": {},
   "outputs": [],
   "source": [
    "ms_cause_sum = useful_data[['Cause', 'Total victims' ]].groupby(['Cause'], \n",
    "        as_index=False).sum().sort_values(by='Total victims', ascending=False)\n",
    "ms_cause_sum=ms_cause_sum[ms_cause_sum['Total victims'] > 9]"
   ]
  },
  {
   "cell_type": "code",
   "execution_count": null,
   "metadata": {},
   "outputs": [],
   "source": [
    "ms_cause_sum"
   ]
  },
  {
   "cell_type": "code",
   "execution_count": null,
   "metadata": {},
   "outputs": [],
   "source": [
    "trace1=go.Pie(values=ms_cause_cnt['Total victims'],labels=ms_cause_cnt['Cause'],\n",
    "              hoverinfo=\"label+percent+name\",name=\"Cause Resulted in Shooting\",hole=0.2,domain={'x':[0,.5]})\n",
    "trace2=go.Pie(values=ms_cause_sum['Total victims'],labels=ms_cause_sum[\"Cause\"],\n",
    "              hoverinfo=\"label+percent\",domain={'x':[0.5,1]},hole=0.2)\n",
    "annotations=[]\n",
    "annotations.append(dict(showarrow=False,font=dict(size=15),text='Number of Shooting for each cause',x=0.1,y=-0.14))\n",
    "annotations.append(dict(showarrow=False,font=dict(size=15),text='Number of Victims for each cause',x=0.9,y=-0.14))\n",
    "layout=dict(title=\" \\b Cause resulting in more number of shooting and number of people affected \\b\",\n",
    "            annotations=annotations)\n",
    "data=[trace1,trace2]\n",
    "py.iplot(dict(data=data,layout=layout))"
   ]
  },
  {
   "cell_type": "code",
   "execution_count": null,
   "metadata": {},
   "outputs": [],
   "source": [
    "ms_race_cnt = useful_data[['Race', 'Total victims' ]].groupby(['Race'],\n",
    "                     as_index=False).count().sort_values(by='Total victims', ascending=False)\n",
    "ms_race_cnt"
   ]
  },
  {
   "cell_type": "code",
   "execution_count": null,
   "metadata": {},
   "outputs": [],
   "source": [
    "ms_race_sum = useful_data[['Race', 'Total victims' ]].groupby(['Race'],\n",
    "                as_index=False).sum().sort_values(by='Total victims', ascending=False)\n",
    "ms_race_sum"
   ]
  },
  {
   "cell_type": "code",
   "execution_count": null,
   "metadata": {},
   "outputs": [],
   "source": [
    "trace1=go.Pie(values=ms_race_cnt['Total victims'],labels=ms_race_cnt['Race'],\n",
    "              hoverinfo=\"label+percent+name\",name=\"Race Resulted in More Shooting\",hole=0.2,domain={'x':[0,.5]})\n",
    "trace2=go.Pie(values=ms_race_sum['Total victims'],labels=ms_race_sum[\"Race\"],\n",
    "              hoverinfo=\"label+percent\",domain={'x':[0.5,1]},hole=0.2)\n",
    "annotations=[]\n",
    "annotations.append(dict(showarrow=False,font=dict(size=15),text='Number of Shooting by each Race',x=0.1,y=-0.14))\n",
    "annotations.append(dict(showarrow=False,font=dict(size=15),text='Number of Victims by each Race',x=0.9,y=-0.14))\n",
    "layout=dict(title=\" \\b Number of shooting and Number of people affected by each Race\",\n",
    "            annotations=annotations)\n",
    "data=[trace1,trace2]\n",
    "py.iplot(dict(data=data,layout=layout))"
   ]
  },
  {
   "cell_type": "markdown",
   "metadata": {},
   "source": [
    "White and black consitute for more number of Mass shootings as well impacting more victims. But, this statistic doesnt not give any clear picture as USA has predominantly more white people, followed by black and then other minorities like latinos, Asians, native Indians etc. The details arent clear to draw any inference based on the race of the shooter."
   ]
  },
  {
   "cell_type": "code",
   "execution_count": null,
   "metadata": {},
   "outputs": [],
   "source": [
    "ms_health_cnt = pd.DataFrame(useful_data[['Cause','Race', 'Mental Health Issues',\n",
    "                                 'Total victims']].groupby(['Cause','Race','Mental Health Issues'],\n",
    "                            as_index=False).count().sort_values(by='Total victims', ascending=False))\n",
    "ms_health_sum = pd.DataFrame(useful_data[['Cause','Race', 'Mental Health Issues',\n",
    "                                 'Total victims']].groupby(['Cause','Race','Mental Health Issues'], \n",
    "                    as_index=False).sum().sort_values(by='Total victims', ascending=False))\n",
    "ms_health_cnt.head()"
   ]
  },
  {
   "cell_type": "code",
   "execution_count": null,
   "metadata": {},
   "outputs": [],
   "source": [
    "ms_health_sum.head()"
   ]
  },
  {
   "cell_type": "code",
   "execution_count": null,
   "metadata": {},
   "outputs": [],
   "source": [
    "\n",
    "trace1= sns.factorplot(x='Total victims',y='Cause',col='Mental Health Issues',hue='Race',size=5,aspect=0.6,\n",
    "                       col_wrap=3,ci=None,saturation=0.9,palette='hot',\n",
    "                       data=ms_health_cnt[ms_health_cnt['Total victims']>2],kind='bar')\n",
    "plt.subplots_adjust(top=0.8)\n",
    "trace1.fig.suptitle(\"Number of Mass Shooting based on Race, Mental Health Issue and Cause\")\n"
   ]
  },
  {
   "cell_type": "code",
   "execution_count": null,
   "metadata": {},
   "outputs": [],
   "source": [
    "\n",
    "trace1= sns.factorplot(x='Total victims',y='Cause',col='Mental Health Issues',hue='Race',size=7,aspect=0.5,\n",
    "                       col_wrap=3,ci=None,saturation=0.9,palette='hot',\n",
    "                       data=ms_health_sum[ms_health_sum['Total victims']>10],kind='bar')\n",
    "plt.subplots_adjust(top=0.8)\n",
    "trace1.fig.suptitle(\"Number of Victims based on Race, Mental Health Issue and Cause\")\n"
   ]
  },
  {
   "cell_type": "code",
   "execution_count": null,
   "metadata": {},
   "outputs": [],
   "source": [
    "impt_groups=my_data.pivot_table(values=['Total victims'],index=['Shooting_year','Race','Cause'],aggfunc=np.sum)"
   ]
  },
  {
   "cell_type": "code",
   "execution_count": null,
   "metadata": {},
   "outputs": [],
   "source": [
    "impt_groups"
   ]
  },
  {
   "cell_type": "code",
   "execution_count": null,
   "metadata": {},
   "outputs": [],
   "source": [
    "ms_state = pd.DataFrame(useful_data[['State','Shooting_year', 'Latitude', 'Longitude', 'Fatalities']]\n",
    "                        [useful_data['Fatalities']>0].sort_values(by='Fatalities', ascending=False))\n",
    "ms_state['Desc'] = ms_state['State'] + '<br>Year ' + (ms_state['Shooting_year']).astype(str) +'<br>Fatalities ' + (ms_state['Fatalities']).astype(str)\n",
    "ms_state.head()"
   ]
  },
  {
   "cell_type": "code",
   "execution_count": null,
   "metadata": {},
   "outputs": [],
   "source": [
    "ms_update_state=pd.DataFrame(ms_state[['State','Fatalities']].groupby(['State'],\n",
    "                                as_index=False).sum().sort_values(by='Fatalities',ascending=False))\n",
    "plt.subplots(figsize=(17,8))\n",
    "sns.barplot(x=ms_update_state[ms_update_state['Fatalities']>2]['State'],\n",
    "            y=ms_update_state[ms_update_state['Fatalities']>2]['Fatalities'])\n",
    "plt.title('States that had most fatalities during shooting')\n",
    "plt.xticks(rotation=90)"
   ]
  },
  {
   "cell_type": "code",
   "execution_count": null,
   "metadata": {
    "scrolled": true
   },
   "outputs": [],
   "source": [
    "ms_school = useful_data[['Shooting_year', 'Fatalities', 'Injured', 'Total victims','State',\n",
    "                         'Race','Cause','Mental Health Issues',\n",
    "                'FTarget', 'Area']][useful_data['Area'] == 'School']\n",
    "ms_school.head()"
   ]
  },
  {
   "cell_type": "code",
   "execution_count": null,
   "metadata": {},
   "outputs": [],
   "source": [
    "ms_school0 = ms_school[['Shooting_year', 'Total victims' ]].groupby(['Shooting_year'], \n",
    "                    as_index=False).sum().sort_values(by='Shooting_year', ascending=False)\n",
    "ms_school1 = ms_school[['Shooting_year', 'Fatalities' ]].groupby(['Shooting_year'],\n",
    "                    as_index=False).sum().sort_values(by='Shooting_year', ascending=False)\n",
    "ms_school2 = ms_school[['Shooting_year', 'Injured' ]].groupby(['Shooting_year'], \n",
    "                    as_index=False).sum().sort_values(by='Shooting_year', ascending=False)\n",
    "ms_school3 = ms_school[['Shooting_year', 'Total victims' ]].groupby(['Shooting_year'], \n",
    "            as_index=False).count().sort_values(by='Shooting_year', ascending=False)"
   ]
  },
  {
   "cell_type": "code",
   "execution_count": null,
   "metadata": {},
   "outputs": [],
   "source": [
    "trace1=go.Scatter(mode='lines+markers',x=ms_school0['Shooting_year'],\n",
    "                  y=ms_school0['Total victims'],name='Total Victims')\n",
    "trace2=go.Scatter(mode='lines+markers',x=ms_school1['Shooting_year'],\n",
    "                  y=ms_school1['Fatalities'],name='Fatalities')\n",
    "trace3=go.Scatter(mode='lines+markers',x=ms_school2['Shooting_year'],\n",
    "                  y=ms_school2['Injured'],name='Injuries')\n",
    "trace4=go.Scatter(mode='lines',x=ms_school3['Shooting_year'],\n",
    "                  y=ms_school3['Total victims'],name='Count of Shooting')\n",
    "layout=dict(title='Shooting Stats in the school')"
   ]
  },
  {
   "cell_type": "code",
   "execution_count": null,
   "metadata": {},
   "outputs": [],
   "source": [
    "data=[trace1,trace2,trace3,trace4]\n",
    "py.iplot(dict(data=data,layout=layout))"
   ]
  },
  {
   "cell_type": "code",
   "execution_count": null,
   "metadata": {},
   "outputs": [],
   "source": [
    "ms_sch_target_cnt = ms_school[['FTarget', 'Total victims' ]].groupby(['FTarget'],\n",
    "            as_index=False).count().sort_values(by='Total victims', ascending=False)\n",
    "ms_sch_target_sum = ms_school[['FTarget', 'Total victims' ]].groupby(['FTarget'],\n",
    "        as_index=False).sum().sort_values(by='Total victims', ascending=False)"
   ]
  },
  {
   "cell_type": "code",
   "execution_count": null,
   "metadata": {},
   "outputs": [],
   "source": [
    "trace1=go.Pie(values=ms_sch_target_cnt['Total victims'],labels=ms_sch_target_cnt['FTarget'],\n",
    "              hoverinfo=\"label+percent+name\",name=\"Target type in Shooting\",hole=0.2,domain={'x':[0,.5]})\n",
    "trace2=go.Pie(values=ms_sch_target_sum['Total victims'],labels=ms_sch_target_sum[\"FTarget\"],\n",
    "              hoverinfo=\"label+percent\",domain={'x':[0.5,1]},hole=0.2)\n",
    "annotations=[]\n",
    "annotations.append(dict(showarrow=False,font=dict(size=15),text='Target type in Shooting',x=0.1,y=-0.14))\n",
    "annotations.append(dict(showarrow=False,font=dict(size=15),text='Victims type in Shooting',x=0.9,y=-0.14))\n",
    "layout=dict(title=\" \\b Type of people in shooting and type of people affected in victims \\b\",\n",
    "            annotations=annotations)\n",
    "data=[trace1,trace2]\n",
    "py.iplot(dict(data=data,layout=layout))"
   ]
  },
  {
   "cell_type": "code",
   "execution_count": null,
   "metadata": {},
   "outputs": [],
   "source": [
    "\n",
    "g = sns.factorplot(x='FTarget', y='Total victims', col='Race', hue= 'Cause', kind='bar', \n",
    "                   data=ms_school[ms_school['Total victims']>5], saturation=.8,\n",
    "               ci=None, aspect=.7,  palette='Set1')\n",
    "g.set_xticklabels(step=1,rotation=45)"
   ]
  },
  {
   "cell_type": "code",
   "execution_count": null,
   "metadata": {},
   "outputs": [],
   "source": [
    "gender_data=pd.DataFrame(useful_data[['Gender','Total victims']].groupby(['Gender'],\n",
    "                                as_index=False).sum().sort_values(by='Total victims',ascending=False))"
   ]
  },
  {
   "cell_type": "code",
   "execution_count": null,
   "metadata": {},
   "outputs": [],
   "source": [
    "gender_data"
   ]
  },
  {
   "cell_type": "markdown",
   "metadata": {},
   "source": [
    "Various colors : aliceblue, antiquewhite, aqua, aquamarine, azure,\n",
    "            beige, bisque, black, blanchedalmond, blue,\n",
    "            blueviolet, brown, burlywood, cadetblue,\n",
    "            chartreuse, chocolate, coral, cornflowerblue,\n",
    "            cornsilk, crimson, cyan, darkblue, darkcyan,\n",
    "            darkgoldenrod, darkgray, darkgrey, darkgreen,\n",
    "            darkkhaki, darkmagenta, darkolivegreen, darkorange,\n",
    "            darkorchid, darkred, darksalmon, darkseagreen,\n",
    "            darkslateblue, darkslategray, darkslategrey,\n",
    "            darkturquoise, darkviolet, deeppink, deepskyblue,\n",
    "            dimgray, dimgrey, dodgerblue, firebrick,\n",
    "            floralwhite, forestgreen, fuchsia, gainsboro,\n",
    "            ghostwhite, gold, goldenrod, gray, grey, green,\n",
    "            greenyellow, honeydew, hotpink, indianred, indigo,\n",
    "            ivory, khaki, lavender, lavenderblush, lawngreen,\n",
    "            lemonchiffon, lightblue, lightcoral, lightcyan,\n",
    "            lightgoldenrodyellow, lightgray, lightgrey,\n",
    "            lightgreen, lightpink, lightsalmon, lightseagreen,\n",
    "            lightskyblue, lightslategray, lightslategrey,\n",
    "            lightsteelblue, lightyellow, lime, limegreen,\n",
    "            linen, magenta, maroon, mediumaquamarine,\n",
    "            mediumblue, mediumorchid, mediumpurple,\n",
    "            mediumseagreen, mediumslateblue, mediumspringgreen,\n",
    "            mediumturquoise, mediumvioletred, midnightblue,\n",
    "            mintcream, mistyrose, moccasin, navajowhite, navy,\n",
    "            oldlace, olive, olivedrab, orange, orangered,\n",
    "            orchid, palegoldenrod, palegreen, paleturquoise,\n",
    "            palevioletred, papayawhip, peachpuff, peru, pink,\n",
    "            plum, powderblue, purple, red, rosybrown,\n",
    "            royalblue, saddlebrown, salmon, sandybrown,\n",
    "            seagreen, seashell, sienna, silver, skyblue,\n",
    "            slateblue, slategray, slategrey, snow, springgreen,\n",
    "            steelblue, tan, teal, thistle, tomato, turquoise,\n",
    "            violet, wheat, white, whitesmoke, yellow,\n",
    "            yellowgreen"
   ]
  },
  {
   "cell_type": "code",
   "execution_count": null,
   "metadata": {},
   "outputs": [],
   "source": [
    "trace1=go.Scatter(y=gender_data['Total victims'],x=gender_data['Gender'])\n",
    "layout=dict(title='Gender vs Mass Shooting',plot_bgcolor=('peachpuff'))\n",
    "py.iplot(dict(data=[trace1],layout=layout))\n"
   ]
  },
  {
   "cell_type": "code",
   "execution_count": null,
   "metadata": {},
   "outputs": [],
   "source": []
  }
 ],
 "metadata": {
  "kernelspec": {
   "display_name": "Python 3",
   "language": "python",
   "name": "python3"
  },
  "language_info": {
   "codemirror_mode": {
    "name": "ipython",
    "version": 3
   },
   "file_extension": ".py",
   "mimetype": "text/x-python",
   "name": "python",
   "nbconvert_exporter": "python",
   "pygments_lexer": "ipython3",
   "version": "3.6.7"
  }
 },
 "nbformat": 4,
 "nbformat_minor": 2
}
