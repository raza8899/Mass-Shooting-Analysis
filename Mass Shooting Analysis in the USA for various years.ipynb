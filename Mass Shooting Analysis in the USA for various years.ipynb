{
 "cells": [
  {
   "cell_type": "code",
   "execution_count": 3,
   "metadata": {},
   "outputs": [
    {
     "data": {
      "text/html": [
       "<script type=\"text/javascript\">window.PlotlyConfig = {MathJaxConfig: 'local'};</script><script type=\"text/javascript\">if (window.MathJax) {MathJax.Hub.Config({SVG: {font: \"STIX-Web\"}});}</script><script>requirejs.config({paths: { 'plotly': ['https://cdn.plot.ly/plotly-latest.min']},});if(!window._Plotly) {require(['plotly'],function(plotly) {window._Plotly=plotly;});}</script>"
      ],
      "text/vnd.plotly.v1+html": [
       "<script type=\"text/javascript\">window.PlotlyConfig = {MathJaxConfig: 'local'};</script><script type=\"text/javascript\">if (window.MathJax) {MathJax.Hub.Config({SVG: {font: \"STIX-Web\"}});}</script><script>requirejs.config({paths: { 'plotly': ['https://cdn.plot.ly/plotly-latest.min']},});if(!window._Plotly) {require(['plotly'],function(plotly) {window._Plotly=plotly;});}</script>"
      ]
     },
     "metadata": {},
     "output_type": "display_data"
    }
   ],
   "source": [
    "import pandas as pd\n",
    "import matplotlib.pyplot as plt\n",
    "import numpy as np\n",
    "import seaborn as sns\n",
    "% matplotlib inline\n",
    "import plotly.offline as py\n",
    "py.init_notebook_mode(connected=True)\n",
    "import plotly.graph_objs as go\n",
    "import plotly.tools as tls"
   ]
  },
  {
   "cell_type": "code",
   "execution_count": 4,
   "metadata": {},
   "outputs": [],
   "source": [
    "my_data= pd.read_csv(\"../../Python_New_Work/Mass_Sho/Mass_Shooting.csv\",encoding='latin-1')"
   ]
  },
  {
   "cell_type": "code",
   "execution_count": 5,
   "metadata": {},
   "outputs": [
    {
     "data": {
      "text/html": [
       "<div>\n",
       "<style scoped>\n",
       "    .dataframe tbody tr th:only-of-type {\n",
       "        vertical-align: middle;\n",
       "    }\n",
       "\n",
       "    .dataframe tbody tr th {\n",
       "        vertical-align: top;\n",
       "    }\n",
       "\n",
       "    .dataframe thead th {\n",
       "        text-align: right;\n",
       "    }\n",
       "</style>\n",
       "<table border=\"1\" class=\"dataframe\">\n",
       "  <thead>\n",
       "    <tr style=\"text-align: right;\">\n",
       "      <th></th>\n",
       "      <th>S#</th>\n",
       "      <th>Title</th>\n",
       "      <th>Location</th>\n",
       "      <th>Date</th>\n",
       "      <th>Incident Area</th>\n",
       "      <th>Open/Close Location</th>\n",
       "      <th>Target</th>\n",
       "      <th>Cause</th>\n",
       "      <th>Summary</th>\n",
       "      <th>Fatalities</th>\n",
       "      <th>...</th>\n",
       "      <th>Total victims</th>\n",
       "      <th>Policeman Killed</th>\n",
       "      <th>Age</th>\n",
       "      <th>Employeed (Y/N)</th>\n",
       "      <th>Employed at</th>\n",
       "      <th>Mental Health Issues</th>\n",
       "      <th>Race</th>\n",
       "      <th>Gender</th>\n",
       "      <th>Latitude</th>\n",
       "      <th>Longitude</th>\n",
       "    </tr>\n",
       "  </thead>\n",
       "  <tbody>\n",
       "    <tr>\n",
       "      <th>0</th>\n",
       "      <td>1</td>\n",
       "      <td>Texas church mass shooting</td>\n",
       "      <td>Sutherland Springs, TX</td>\n",
       "      <td>11/5/2017</td>\n",
       "      <td>Church</td>\n",
       "      <td>Close</td>\n",
       "      <td>random</td>\n",
       "      <td>unknown</td>\n",
       "      <td>Devin Patrick Kelley, 26, an ex-air force offi...</td>\n",
       "      <td>26</td>\n",
       "      <td>...</td>\n",
       "      <td>46</td>\n",
       "      <td>0.0</td>\n",
       "      <td>26</td>\n",
       "      <td>NaN</td>\n",
       "      <td>NaN</td>\n",
       "      <td>No</td>\n",
       "      <td>White</td>\n",
       "      <td>M</td>\n",
       "      <td>NaN</td>\n",
       "      <td>NaN</td>\n",
       "    </tr>\n",
       "    <tr>\n",
       "      <th>1</th>\n",
       "      <td>2</td>\n",
       "      <td>Walmart shooting in suburban Denver</td>\n",
       "      <td>Thornton, CO</td>\n",
       "      <td>11/1/2017</td>\n",
       "      <td>Wal-Mart</td>\n",
       "      <td>Open</td>\n",
       "      <td>random</td>\n",
       "      <td>unknown</td>\n",
       "      <td>Scott Allen Ostrem, 47, walked into a Walmart ...</td>\n",
       "      <td>3</td>\n",
       "      <td>...</td>\n",
       "      <td>3</td>\n",
       "      <td>0.0</td>\n",
       "      <td>47</td>\n",
       "      <td>NaN</td>\n",
       "      <td>NaN</td>\n",
       "      <td>No</td>\n",
       "      <td>White</td>\n",
       "      <td>M</td>\n",
       "      <td>NaN</td>\n",
       "      <td>NaN</td>\n",
       "    </tr>\n",
       "    <tr>\n",
       "      <th>2</th>\n",
       "      <td>3</td>\n",
       "      <td>Edgewood businees park shooting</td>\n",
       "      <td>Edgewood, MD</td>\n",
       "      <td>10/18/2017</td>\n",
       "      <td>Remodeling Store</td>\n",
       "      <td>Close</td>\n",
       "      <td>coworkers</td>\n",
       "      <td>unknown</td>\n",
       "      <td>Radee Labeeb Prince, 37, fatally shot three pe...</td>\n",
       "      <td>3</td>\n",
       "      <td>...</td>\n",
       "      <td>6</td>\n",
       "      <td>0.0</td>\n",
       "      <td>37</td>\n",
       "      <td>NaN</td>\n",
       "      <td>Advance Granite Store</td>\n",
       "      <td>No</td>\n",
       "      <td>Black</td>\n",
       "      <td>M</td>\n",
       "      <td>NaN</td>\n",
       "      <td>NaN</td>\n",
       "    </tr>\n",
       "    <tr>\n",
       "      <th>3</th>\n",
       "      <td>4</td>\n",
       "      <td>Las Vegas Strip mass shooting</td>\n",
       "      <td>Las Vegas, NV</td>\n",
       "      <td>10/1/2017</td>\n",
       "      <td>Las Vegas Strip Concert outside Mandala Bay</td>\n",
       "      <td>Open</td>\n",
       "      <td>random</td>\n",
       "      <td>unknown</td>\n",
       "      <td>Stephen Craig Paddock, opened fire from the 32...</td>\n",
       "      <td>59</td>\n",
       "      <td>...</td>\n",
       "      <td>585</td>\n",
       "      <td>1.0</td>\n",
       "      <td>64</td>\n",
       "      <td>NaN</td>\n",
       "      <td>NaN</td>\n",
       "      <td>Unclear</td>\n",
       "      <td>White</td>\n",
       "      <td>M</td>\n",
       "      <td>36.181271</td>\n",
       "      <td>-115.134132</td>\n",
       "    </tr>\n",
       "    <tr>\n",
       "      <th>4</th>\n",
       "      <td>5</td>\n",
       "      <td>San Francisco UPS shooting</td>\n",
       "      <td>San Francisco, CA</td>\n",
       "      <td>6/14/2017</td>\n",
       "      <td>UPS facility</td>\n",
       "      <td>Close</td>\n",
       "      <td>coworkers</td>\n",
       "      <td>NaN</td>\n",
       "      <td>Jimmy Lam, 38, fatally shot three coworkers an...</td>\n",
       "      <td>3</td>\n",
       "      <td>...</td>\n",
       "      <td>5</td>\n",
       "      <td>0.0</td>\n",
       "      <td>38</td>\n",
       "      <td>1.0</td>\n",
       "      <td>NaN</td>\n",
       "      <td>Yes</td>\n",
       "      <td>Asian</td>\n",
       "      <td>M</td>\n",
       "      <td>NaN</td>\n",
       "      <td>NaN</td>\n",
       "    </tr>\n",
       "  </tbody>\n",
       "</table>\n",
       "<p>5 rows × 21 columns</p>\n",
       "</div>"
      ],
      "text/plain": [
       "   S#                                Title                Location  \\\n",
       "0   1           Texas church mass shooting  Sutherland Springs, TX   \n",
       "1   2  Walmart shooting in suburban Denver            Thornton, CO   \n",
       "2   3      Edgewood businees park shooting            Edgewood, MD   \n",
       "3   4        Las Vegas Strip mass shooting           Las Vegas, NV   \n",
       "4   5           San Francisco UPS shooting       San Francisco, CA   \n",
       "\n",
       "         Date                                Incident Area  \\\n",
       "0   11/5/2017                                       Church   \n",
       "1   11/1/2017                                     Wal-Mart   \n",
       "2  10/18/2017                             Remodeling Store   \n",
       "3   10/1/2017  Las Vegas Strip Concert outside Mandala Bay   \n",
       "4   6/14/2017                                 UPS facility   \n",
       "\n",
       "  Open/Close Location     Target    Cause  \\\n",
       "0               Close     random  unknown   \n",
       "1                Open     random  unknown   \n",
       "2               Close  coworkers  unknown   \n",
       "3                Open     random  unknown   \n",
       "4               Close  coworkers      NaN   \n",
       "\n",
       "                                             Summary  Fatalities     ...      \\\n",
       "0  Devin Patrick Kelley, 26, an ex-air force offi...          26     ...       \n",
       "1  Scott Allen Ostrem, 47, walked into a Walmart ...           3     ...       \n",
       "2  Radee Labeeb Prince, 37, fatally shot three pe...           3     ...       \n",
       "3  Stephen Craig Paddock, opened fire from the 32...          59     ...       \n",
       "4  Jimmy Lam, 38, fatally shot three coworkers an...           3     ...       \n",
       "\n",
       "   Total victims  Policeman Killed  Age Employeed (Y/N)  \\\n",
       "0             46               0.0   26             NaN   \n",
       "1              3               0.0   47             NaN   \n",
       "2              6               0.0   37             NaN   \n",
       "3            585               1.0   64             NaN   \n",
       "4              5               0.0   38             1.0   \n",
       "\n",
       "             Employed at Mental Health Issues   Race Gender   Latitude  \\\n",
       "0                    NaN                   No  White      M        NaN   \n",
       "1                    NaN                   No  White      M        NaN   \n",
       "2  Advance Granite Store                   No  Black      M        NaN   \n",
       "3                    NaN              Unclear  White      M  36.181271   \n",
       "4                    NaN                  Yes  Asian      M        NaN   \n",
       "\n",
       "    Longitude  \n",
       "0         NaN  \n",
       "1         NaN  \n",
       "2         NaN  \n",
       "3 -115.134132  \n",
       "4         NaN  \n",
       "\n",
       "[5 rows x 21 columns]"
      ]
     },
     "execution_count": 5,
     "metadata": {},
     "output_type": "execute_result"
    }
   ],
   "source": [
    "my_data.head(5)"
   ]
  },
  {
   "cell_type": "code",
   "execution_count": 6,
   "metadata": {},
   "outputs": [
    {
     "data": {
      "text/plain": [
       "array(['S#', 'Title', 'Location', 'Date', 'Incident Area',\n",
       "       'Open/Close Location', 'Target', 'Cause', 'Summary', 'Fatalities',\n",
       "       'Injured', 'Total victims', 'Policeman Killed', 'Age',\n",
       "       'Employeed (Y/N)', 'Employed at', 'Mental Health Issues', 'Race',\n",
       "       'Gender', 'Latitude', 'Longitude'], dtype=object)"
      ]
     },
     "execution_count": 6,
     "metadata": {},
     "output_type": "execute_result"
    }
   ],
   "source": [
    "my_data.columns.values\n"
   ]
  },
  {
   "cell_type": "markdown",
   "metadata": {},
   "source": [
    "#### Checking the null values in the columns"
   ]
  },
  {
   "cell_type": "code",
   "execution_count": 7,
   "metadata": {},
   "outputs": [
    {
     "data": {
      "text/plain": [
       "S#                        0\n",
       "Title                     0\n",
       "Location                 45\n",
       "Date                      0\n",
       "Incident Area            62\n",
       "Open/Close Location      28\n",
       "Target                    5\n",
       "Cause                    77\n",
       "Summary                   0\n",
       "Fatalities                0\n",
       "Injured                   0\n",
       "Total victims             0\n",
       "Policeman Killed          6\n",
       "Age                     144\n",
       "Employeed (Y/N)         256\n",
       "Employed at             282\n",
       "Mental Health Issues      0\n",
       "Race                      2\n",
       "Gender                    0\n",
       "Latitude                 20\n",
       "Longitude                20\n",
       "dtype: int64"
      ]
     },
     "execution_count": 7,
     "metadata": {},
     "output_type": "execute_result"
    }
   ],
   "source": [
    "\n",
    "my_data.isnull().sum()"
   ]
  },
  {
   "cell_type": "code",
   "execution_count": 8,
   "metadata": {},
   "outputs": [],
   "source": [
    "from datetime import datetime\n"
   ]
  },
  {
   "cell_type": "code",
   "execution_count": 9,
   "metadata": {},
   "outputs": [],
   "source": [
    "my_data['Date']=pd.to_datetime(my_data['Date'])"
   ]
  },
  {
   "cell_type": "code",
   "execution_count": 10,
   "metadata": {},
   "outputs": [],
   "source": [
    "my_data['Shooting_year']=my_data['Date'].dt.year\n",
    "my_data['Shooting_month']=my_data['Date'].dt.month"
   ]
  },
  {
   "cell_type": "markdown",
   "metadata": {},
   "source": [
    "#### Filling the Null location values by extracting the data from Title column"
   ]
  },
  {
   "cell_type": "code",
   "execution_count": 11,
   "metadata": {},
   "outputs": [],
   "source": [
    "my_data['loc1']=my_data.Title.str.extract('([A-Za-z]+, [A-Za-z]+)',expand=False)\n",
    "my_data['loc2']=my_data.Title.str.extract('([A-Za-z]+ )', expand=False)"
   ]
  },
  {
   "cell_type": "code",
   "execution_count": 12,
   "metadata": {},
   "outputs": [],
   "source": [
    "for i in range(len(my_data)):\n",
    "    if(pd.isnull(my_data.loc[i,'Location'])):\n",
    "        my_data.loc[i,'Location1']=my_data.loc[i,'loc1']\n",
    "        if(pd.isnull(my_data['Location1'][i])):\n",
    "            my_data.loc[i,'Location1']=my_data.loc[i,'loc2']\n",
    "    else:\n",
    "        my_data.loc[i,'Location1'] = my_data.loc[i,'Location']\n",
    "    "
   ]
  },
  {
   "cell_type": "code",
   "execution_count": 13,
   "metadata": {},
   "outputs": [],
   "source": [
    "my_data=my_data.drop(['Location','loc1','loc2'],axis=1)"
   ]
  },
  {
   "cell_type": "code",
   "execution_count": 14,
   "metadata": {},
   "outputs": [],
   "source": [
    "my_data.rename(columns={'Location1':'Location'},inplace=True)"
   ]
  },
  {
   "cell_type": "code",
   "execution_count": 15,
   "metadata": {},
   "outputs": [],
   "source": [
    "my_data['State']=my_data[\"Location\"].str.rpartition(',')[2]"
   ]
  },
  {
   "cell_type": "code",
   "execution_count": 16,
   "metadata": {},
   "outputs": [
    {
     "data": {
      "text/plain": [
       " CA    5\n",
       " VA    3\n",
       " NM    2\n",
       " WA    2\n",
       " LA    2\n",
       "Name: State, dtype: int64"
      ]
     },
     "execution_count": 16,
     "metadata": {},
     "output_type": "execute_result"
    }
   ],
   "source": [
    "my_data['State'][my_data['State'].str.len()==3].value_counts().head()"
   ]
  },
  {
   "cell_type": "code",
   "execution_count": 17,
   "metadata": {},
   "outputs": [],
   "source": [
    "my_data['State'].replace([' CA',' VA',' WA',' NM',' LA',' GA',' MD',' FL',' CO',' TX',' PA',' TN',' AZ',' NV',' AL',' DE',' NJ'],\n",
    "                           ['California','Virginia','Washington','New Mexico','Louisiana','Georgia','Maryland','Florida',\n",
    "                            'Colorado','Texas','Pennsylvania','Tennessee','Arizona','Nevada','Alabama','Delaware','New Jersey'], inplace=True)"
   ]
  },
  {
   "cell_type": "code",
   "execution_count": 18,
   "metadata": {},
   "outputs": [
    {
     "data": {
      "text/plain": [
       " California    29\n",
       " Florida       21\n",
       " Texas         16\n",
       " Georgia       14\n",
       " Washington    14\n",
       "Name: State, dtype: int64"
      ]
     },
     "execution_count": 18,
     "metadata": {},
     "output_type": "execute_result"
    }
   ],
   "source": [
    "my_data['State'].value_counts().head()"
   ]
  },
  {
   "cell_type": "code",
   "execution_count": 19,
   "metadata": {},
   "outputs": [
    {
     "data": {
      "text/plain": [
       "Male           272\n",
       "Unknown         21\n",
       "M               20\n",
       "Female           5\n",
       "Male/Female      4\n",
       "Name: Gender, dtype: int64"
      ]
     },
     "execution_count": 19,
     "metadata": {},
     "output_type": "execute_result"
    }
   ],
   "source": [
    "my_data['Gender'].value_counts().head()"
   ]
  },
  {
   "cell_type": "markdown",
   "metadata": {},
   "source": [
    "#### Reducing the Redundancy"
   ]
  },
  {
   "cell_type": "code",
   "execution_count": 20,
   "metadata": {},
   "outputs": [],
   "source": [
    "my_data['Gender'].replace([\"M\",\"M/F\"],['Male','Male/Female'],inplace=True)"
   ]
  },
  {
   "cell_type": "code",
   "execution_count": 21,
   "metadata": {
    "scrolled": false
   },
   "outputs": [
    {
     "data": {
      "text/plain": [
       "White American or European American                    122\n",
       "Black American or African American                      76\n",
       "Unknown                                                 42\n",
       "Some other race                                         20\n",
       "white                                                   12\n",
       "Asian American                                          11\n",
       "White                                                    9\n",
       "Asian                                                    6\n",
       "Latino                                                   5\n",
       "Black                                                    5\n",
       "black                                                    3\n",
       "Native American or Alaska Native                         3\n",
       "Two or more races                                        2\n",
       "Other                                                    2\n",
       "Asian American/Some other race                           1\n",
       "Black American or African American/Unknown               1\n",
       "White American or European American/Some other Race      1\n",
       "Name: Race, dtype: int64"
      ]
     },
     "execution_count": 21,
     "metadata": {},
     "output_type": "execute_result"
    }
   ],
   "source": [
    "my_data['Race'].value_counts()"
   ]
  },
  {
   "cell_type": "code",
   "execution_count": 22,
   "metadata": {},
   "outputs": [],
   "source": [
    "my_data['Race'].replace(['White American or European American','white','White',\n",
    "                         'White American or European American/Some other Race'],\n",
    "                        ['White','White','White','White'],inplace=True)\n",
    "my_data['Race'].replace(['Black American or African American', 'black', \n",
    "                           'Black American or African American/Unknown'], ['Black', 'Black', 'Black'], inplace=True)\n",
    "my_data['Race'].replace(['Asian', 'Asian American/Some other race'], ['Asian American', 'Asian American'], inplace=True)\n",
    "my_data['Race'].replace(['Unknown', 'Some other race', 'Two or more races'], ['Other', 'Other' ,'Other'], inplace=True)\n",
    "my_data['Race'].replace(['Native American or Alaska Native'], ['Native American'], inplace=True)"
   ]
  },
  {
   "cell_type": "code",
   "execution_count": 23,
   "metadata": {},
   "outputs": [
    {
     "data": {
      "text/plain": [
       "White              144\n",
       "Black               85\n",
       "Other               66\n",
       "Asian American      18\n",
       "Latino               5\n",
       "Native American      3\n",
       "Name: Race, dtype: int64"
      ]
     },
     "execution_count": 23,
     "metadata": {},
     "output_type": "execute_result"
    }
   ],
   "source": [
    "my_data['Race'].value_counts()"
   ]
  },
  {
   "cell_type": "code",
   "execution_count": 24,
   "metadata": {},
   "outputs": [
    {
     "data": {
      "text/plain": [
       "Unknown    110\n",
       "Yes        106\n",
       "No          93\n",
       "Unclear     13\n",
       "unknown      1\n",
       "Name: Mental Health Issues, dtype: int64"
      ]
     },
     "execution_count": 24,
     "metadata": {},
     "output_type": "execute_result"
    }
   ],
   "source": [
    "my_data['Mental Health Issues'].value_counts()"
   ]
  },
  {
   "cell_type": "code",
   "execution_count": 25,
   "metadata": {},
   "outputs": [],
   "source": [
    "my_data['Mental Health Issues'].replace(['unknown','Unclear'],['Unknown','Unknown'],inplace=True)"
   ]
  },
  {
   "cell_type": "code",
   "execution_count": 26,
   "metadata": {},
   "outputs": [
    {
     "data": {
      "text/plain": [
       "random                       140\n",
       "Family                        37\n",
       "Coworkers                     17\n",
       "Students                      16\n",
       "Students+Teachers             14\n",
       "Ex-Coworkers                   9\n",
       "party guests                   8\n",
       "Policeman                      7\n",
       "Ex-Wife                        7\n",
       "coworkers                      5\n",
       "Teachers                       5\n",
       "neighbors                      4\n",
       "Ex-Wife & Family               3\n",
       "school girls                   2\n",
       "Friends                        2\n",
       "police                         2\n",
       "Children                       2\n",
       "Ex-Girlfriend                  2\n",
       "partner's family               1\n",
       "basketball players             1\n",
       "black men                      1\n",
       "Marines                        1\n",
       "Ex-Girlfriend & Family         1\n",
       "drug dealer                    1\n",
       "women                          1\n",
       "welding shop employees         1\n",
       "lawyers                        1\n",
       "rapper+random                  1\n",
       "Ex-GirlFriend                  1\n",
       "Ex-Girlfriend+random           1\n",
       "Family+students                1\n",
       "uninvited guests               1\n",
       "club members                   1\n",
       "Family+random                  1\n",
       "Social Workers                 1\n",
       "Girlfriend                     1\n",
       "protestors                     1\n",
       "Family/Neighbors               1\n",
       "TSA Officer                    1\n",
       "prayer group                   1\n",
       "Coworker's Family              1\n",
       "Ex-girlfriend                  1\n",
       "hunters                        1\n",
       "Policeman+Council Member       1\n",
       "Congresswoman                  1\n",
       "birthday party bus             1\n",
       "Contestant                     1\n",
       "Trooper                        1\n",
       "Sikhs                          1\n",
       "Students+Parents               1\n",
       "psychologist+psychiatrist      1\n",
       "postmaster                     1\n",
       "House Owner                    1\n",
       "monks                          1\n",
       "Name: Target, dtype: int64"
      ]
     },
     "execution_count": 26,
     "metadata": {},
     "output_type": "execute_result"
    }
   ],
   "source": [
    "my_data['Target'].value_counts()"
   ]
  },
  {
   "cell_type": "markdown",
   "metadata": {},
   "source": [
    "#### Converting the same type of value into one category"
   ]
  },
  {
   "cell_type": "code",
   "execution_count": 27,
   "metadata": {},
   "outputs": [],
   "source": [
    "my_data['FTarget'] = np.nan\n",
    "my_data.loc[my_data['Target'].str.contains(\"family\",case=False, na=False), 'FTarget'] = 'Family'\n",
    "my_data.loc[my_data['Target'].str.contains(\"Ex-\",case=False, na=False), 'FTarget'] = 'Family'\n",
    "my_data.loc[my_data['Target'].str.contains(\"coworker\",case=False, na=False), 'FTarget'] = 'Coworkers'\n",
    "my_data.loc[my_data['Target'].str.contains(\"employee\",case=False, na=False), 'FTarget'] = 'Coworkers'\n",
    "my_data.loc[my_data['Target'].str.contains(\"Student\",case=False, na=False), 'FTarget'] = 'School'\n",
    "my_data.loc[my_data['Target'].str.contains(\"player\",case=False, na=False), 'FTarget'] = 'School'\n",
    "my_data.loc[my_data['Target'].str.contains(\"teacher\",case=False, na=False), 'FTarget'] = 'School'\n",
    "my_data.loc[my_data['Target'].str.contains(\"school\",case=False, na=False), 'FTarget'] = 'School'\n",
    "my_data.loc[my_data['Target'].str.contains(\"random\",case=False, na=False), 'FTarget'] = 'Random'\n",
    "\n"
   ]
  },
  {
   "cell_type": "code",
   "execution_count": 28,
   "metadata": {},
   "outputs": [],
   "source": [
    "my_data['FTarget'].fillna(my_data['Target'],inplace=True)"
   ]
  },
  {
   "cell_type": "code",
   "execution_count": 29,
   "metadata": {},
   "outputs": [
    {
     "data": {
      "text/plain": [
       "Random                       143\n",
       "Family                        54\n",
       "School                        40\n",
       "Coworkers                     33\n",
       "party guests                   8\n",
       "Policeman                      7\n",
       "neighbors                      4\n",
       "Friends                        2\n",
       "police                         2\n",
       "Children                       2\n",
       "drug dealer                    1\n",
       "Contestant                     1\n",
       "Trooper                        1\n",
       "club members                   1\n",
       "Social Workers                 1\n",
       "Policeman+Council Member       1\n",
       "Marines                        1\n",
       "psychologist+psychiatrist      1\n",
       "women                          1\n",
       "lawyers                        1\n",
       "birthday party bus             1\n",
       "hunters                        1\n",
       "House Owner                    1\n",
       "black men                      1\n",
       "Sikhs                          1\n",
       "postmaster                     1\n",
       "uninvited guests               1\n",
       "prayer group                   1\n",
       "TSA Officer                    1\n",
       "protestors                     1\n",
       "Girlfriend                     1\n",
       "Congresswoman                  1\n",
       "monks                          1\n",
       "Name: FTarget, dtype: int64"
      ]
     },
     "execution_count": 29,
     "metadata": {},
     "output_type": "execute_result"
    }
   ],
   "source": [
    "my_data['FTarget'].value_counts()"
   ]
  },
  {
   "cell_type": "code",
   "execution_count": 30,
   "metadata": {},
   "outputs": [
    {
     "data": {
      "text/plain": [
       "Home                                           43\n",
       "Workplace                                       8\n",
       "Home+School                                     7\n",
       "Church                                          5\n",
       "Club                                            4\n",
       "street                                          4\n",
       "School                                          3\n",
       "Fort Hood Army Post                             3\n",
       "Shopping Mall                                   3\n",
       "fraternity house party                          2\n",
       "Bart Township                                   2\n",
       "Multiple Homes                                  2\n",
       "nightclub                                       2\n",
       "backyard of a house                             2\n",
       "City Hall Building                              2\n",
       "Coffee Shop                                     2\n",
       "Apartment Complex                               2\n",
       "restaurant parking                              2\n",
       "outside the house                               2\n",
       "Nursing Home                                    2\n",
       "Movie Theatre                                   2\n",
       "outside the club                                2\n",
       "health clinic                                   2\n",
       "restaurant                                      2\n",
       "bridge                                          1\n",
       "Johnston Post Office                            1\n",
       "Las Vegas Strip Concert outside Mandala Bay     1\n",
       "Central Middle School                           1\n",
       "University of Texas                             1\n",
       "UPS facility                                    1\n",
       "                                               ..\n",
       "Chuck E. Cheese                                 1\n",
       "Chardon High Scool                              1\n",
       "Navistar in Melrose Park                        1\n",
       "outside nightclub                               1\n",
       "Standard Gravure printing company               1\n",
       "Smith County Courthouse                         1\n",
       "ESL in Sunnyvale                                1\n",
       "south shore                                     1\n",
       "hookah bar parking                              1\n",
       "Village West Apartments                         1\n",
       "Spa                                             1\n",
       "Edgewater Technology                            1\n",
       "interstate in Hazelwood                         1\n",
       "at protest                                      1\n",
       "Colerain Township                               1\n",
       "Clara Barton Elementary School                  1\n",
       "lanni's dance club                              1\n",
       "Lecture Hall                                    1\n",
       "Goleta Post Office                              1\n",
       "New York Technical College in Brooklyn          1\n",
       "Luigi's Restaurant                              1\n",
       "Barber Shop                                     1\n",
       "Remodeling Store                                1\n",
       "University of Arizona                           1\n",
       "Christmas Party                                 1\n",
       "drive-by on MLK boulevard in Lafayette          1\n",
       "Bethel Regional High School                     1\n",
       "SuccessTech Academy                             1\n",
       "Outdoor Shopping Mall                           1\n",
       "McDonald's restaurant in San Ysidro             1\n",
       "Name: Incident Area, Length: 175, dtype: int64"
      ]
     },
     "execution_count": 30,
     "metadata": {},
     "output_type": "execute_result"
    }
   ],
   "source": [
    "my_data['Incident Area'].value_counts()"
   ]
  },
  {
   "cell_type": "code",
   "execution_count": 31,
   "metadata": {},
   "outputs": [],
   "source": [
    "my_data['Area'] = np.nan\n",
    "my_data.loc[my_data['Incident Area'].str.contains(\"school\",case=False, na=False), 'Area'] = 'School'\n",
    "my_data.loc[my_data['Incident Area'].str.contains(\"University\",case=False, na=False), 'Area'] = 'School'\n",
    "my_data.loc[my_data['Incident Area'].str.contains(\"college\",case=False, na=False), 'Area'] = 'School'\n",
    "my_data.loc[my_data['Incident Area'].str.contains(\"dormitory\",case=False, na=False), 'Area'] = 'School'\n",
    "my_data.loc[my_data['Incident Area'].str.contains(\"lecture\",case=False, na=False), 'Area'] = 'School'\n",
    "my_data.loc[my_data['Incident Area'].str.contains(\"scool\",case=False, na=False), 'Area'] = 'School'\n",
    "my_data.loc[my_data['Incident Area'].str.contains(\"academy\",case=False, na=False), 'Area'] = 'School'\n",
    "my_data.loc[my_data['Incident Area'].str.contains(\"classroom\",case=False, na=False), 'Area'] = 'School'\n",
    "my_data.loc[my_data['Incident Area'].str.contains(\"apartment\",case=False, na=False), 'Area'] = 'Home'\n",
    "my_data.loc[my_data['Incident Area'].str.contains(\"house\",case=False, na=False), 'Area'] = 'Home'\n",
    "my_data.loc[my_data['Incident Area'].str.contains(\"home\",case=False, na=False), 'Area'] = 'Home'\n",
    "my_data.loc[my_data['Incident Area'].str.contains(\"shop\",case=False, na=False), 'Area'] = 'Shop'\n",
    "my_data.loc[my_data['Incident Area'].str.contains(\"Store\",case=False, na=False), 'Area'] = 'Shop'\n",
    "my_data.loc[my_data['Incident Area'].str.contains(\"Restaurant\",case=False, na=False), 'Area'] = 'Shop'\n",
    "my_data.loc[my_data['Incident Area'].str.contains(\"salon\",case=False, na=False), 'Area'] = 'Shop'\n",
    "my_data.loc[my_data['Incident Area'].str.contains(\"spa\",case=False, na=False), 'Area'] = 'Shop'\n",
    "my_data.loc[my_data['Incident Area'].str.contains(\"Cafe\",case=False, na=False), 'Area'] = 'Shop'\n",
    "my_data.loc[my_data['Incident Area'].str.contains(\"grocery\",case=False, na=False), 'Area'] = 'Shop'\n",
    "my_data.loc[my_data['Incident Area'].str.contains(\"mart\",case=False, na=False), 'Area'] = 'Shop'\n",
    "my_data.loc[my_data['Incident Area'].str.contains(\"Office\",case=False, na=False), 'Area'] = 'Work'\n",
    "my_data.loc[my_data['Incident Area'].str.contains(\"Company\",case=False, na=False), 'Area'] = 'Work'\n",
    "my_data.loc[my_data['Incident Area'].str.contains(\"work\",case=False, na=False), 'Area'] = 'Work'\n",
    "my_data.loc[my_data['Incident Area'].str.contains(\"conference\",case=False, na=False), 'Area'] = 'Work'\n",
    "my_data.loc[my_data['Incident Area'].str.contains(\"firm\",case=False, na=False), 'Area'] = 'Work'\n",
    "my_data.loc[my_data['Incident Area'].str.contains(\"street\",case=False, na=False), 'Area'] = 'Road'\n",
    "my_data.loc[my_data['Incident Area'].str.contains(\"lot\",case=False, na=False), 'Area'] = 'Road'\n",
    "my_data.loc[my_data['Incident Area'].str.contains(\"walk\",case=False, na=False), 'Area'] = 'Road'\n",
    "my_data.loc[my_data['Incident Area'].str.contains(\"highway\",case=False, na=False), 'Area'] = 'Road'\n",
    "my_data.loc[my_data['Incident Area'].str.contains(\"interstate\",case=False, na=False), 'Area'] = 'Road'\n",
    "my_data.loc[my_data['Incident Area'].str.contains(\"club\",case=False, na=False), 'Area'] = 'Pub-Club'\n",
    "my_data.loc[my_data['Incident Area'].str.contains(\"pub\",case=False, na=False), 'Area'] = 'Pub-Club'\n",
    "my_data.loc[my_data['Incident Area'].str.contains(\"gas\",case=False, na=False), 'Area'] = 'Gas-Station'\n",
    "my_data.loc[my_data['Incident Area'].str.contains(\"party\",case=False, na=False), 'Area'] = 'Party'\n",
    "my_data.loc[my_data['Incident Area'].str.contains(\"airport\",case=False, na=False), 'Area'] = 'Airport'\n",
    "my_data.loc[my_data['Incident Area'].str.contains(\"clinic\",case=False, na=False), 'Area'] = 'Hospital'\n",
    "my_data.loc[my_data['Incident Area'].str.contains(\"Hospital\",case=False, na=False), 'Area'] = 'Hospital'\n",
    "my_data.loc[my_data['Incident Area'].str.contains(\"church\",case=False, na=False), 'Area'] = 'Religious'\n",
    "my_data.loc[my_data['Incident Area'].str.contains(\"temple\",case=False, na=False), 'Area'] = 'Religious'\n",
    "my_data.loc[my_data['Incident Area'].str.contains(\"monastery\",case=False, na=False), 'Area'] = 'Religious'\n",
    "my_data.Area.fillna(my_data['Incident Area'],inplace=True)"
   ]
  },
  {
   "cell_type": "code",
   "execution_count": 32,
   "metadata": {},
   "outputs": [
    {
     "data": {
      "text/plain": [
       "psycho                  68\n",
       "terrorism               65\n",
       "anger                   44\n",
       "frustration             18\n",
       "domestic dispute        12\n",
       "unemployement           10\n",
       "revenge                 10\n",
       "racism                   6\n",
       "unknown                  4\n",
       "failing exams            3\n",
       "suspension               1\n",
       "breakup                  1\n",
       "domestic disputer        1\n",
       "robbery                  1\n",
       "religious radicalism     1\n",
       "drunk                    1\n",
       "Name: Cause, dtype: int64"
      ]
     },
     "execution_count": 32,
     "metadata": {},
     "output_type": "execute_result"
    }
   ],
   "source": [
    "my_data['Cause'].value_counts()"
   ]
  },
  {
   "cell_type": "code",
   "execution_count": 33,
   "metadata": {},
   "outputs": [],
   "source": [
    "my_data['Cause'].replace(['domestic disputer'],['domestic dispute'],inplace=True)"
   ]
  },
  {
   "cell_type": "code",
   "execution_count": 34,
   "metadata": {},
   "outputs": [
    {
     "data": {
      "text/plain": [
       "Close         197\n",
       "Open           78\n",
       "Open+Close     19\n",
       "Open+CLose      1\n",
       "Name: Open/Close Location, dtype: int64"
      ]
     },
     "execution_count": 34,
     "metadata": {},
     "output_type": "execute_result"
    }
   ],
   "source": [
    "my_data[\"Open/Close Location\"].value_counts()"
   ]
  },
  {
   "cell_type": "code",
   "execution_count": 35,
   "metadata": {},
   "outputs": [],
   "source": [
    "my_data['Open/Close Location'].replace(['Open+CLose'],['Open+Close'],inplace=True)\n"
   ]
  },
  {
   "cell_type": "code",
   "execution_count": 36,
   "metadata": {},
   "outputs": [],
   "source": [
    "my_data['Age1']=np.nan\n",
    "my_data.loc[my_data[\"Age\"].str.contains(',',case=False,na=False),'Age1']=my_data['Age'].str.rpartition(\",\")[0]"
   ]
  },
  {
   "cell_type": "code",
   "execution_count": 37,
   "metadata": {},
   "outputs": [],
   "source": [
    "my_data[\"Age1\"].fillna(my_data['Age'],inplace=True)\n",
    "my_data=my_data.drop('Age',axis=1)"
   ]
  },
  {
   "cell_type": "code",
   "execution_count": 38,
   "metadata": {},
   "outputs": [],
   "source": [
    "my_data.rename(columns={'Age1':'Age'},inplace=True)"
   ]
  },
  {
   "cell_type": "code",
   "execution_count": 39,
   "metadata": {},
   "outputs": [
    {
     "data": {
      "text/plain": [
       "S#                        0\n",
       "Title                     0\n",
       "Date                      0\n",
       "Incident Area            62\n",
       "Open/Close Location      28\n",
       "Target                    5\n",
       "Cause                    77\n",
       "Summary                   0\n",
       "Fatalities                0\n",
       "Injured                   0\n",
       "Total victims             0\n",
       "Policeman Killed          6\n",
       "Employeed (Y/N)         256\n",
       "Employed at             282\n",
       "Mental Health Issues      0\n",
       "Race                      2\n",
       "Gender                    0\n",
       "Latitude                 20\n",
       "Longitude                20\n",
       "Shooting_year             0\n",
       "Shooting_month            0\n",
       "Location                  0\n",
       "State                     0\n",
       "FTarget                   5\n",
       "Area                     62\n",
       "Age                     144\n",
       "dtype: int64"
      ]
     },
     "execution_count": 39,
     "metadata": {},
     "output_type": "execute_result"
    }
   ],
   "source": [
    "my_data.isnull().sum()"
   ]
  },
  {
   "cell_type": "code",
   "execution_count": 40,
   "metadata": {},
   "outputs": [
    {
     "data": {
      "text/html": [
       "<div>\n",
       "<style scoped>\n",
       "    .dataframe tbody tr th:only-of-type {\n",
       "        vertical-align: middle;\n",
       "    }\n",
       "\n",
       "    .dataframe tbody tr th {\n",
       "        vertical-align: top;\n",
       "    }\n",
       "\n",
       "    .dataframe thead th {\n",
       "        text-align: right;\n",
       "    }\n",
       "</style>\n",
       "<table border=\"1\" class=\"dataframe\">\n",
       "  <thead>\n",
       "    <tr style=\"text-align: right;\">\n",
       "      <th></th>\n",
       "      <th>Date</th>\n",
       "      <th>Shooting_year</th>\n",
       "      <th>Shooting_month</th>\n",
       "      <th>State</th>\n",
       "      <th>Fatalities</th>\n",
       "      <th>Injured</th>\n",
       "      <th>Total victims</th>\n",
       "      <th>Policeman Killed</th>\n",
       "      <th>Age</th>\n",
       "      <th>Race</th>\n",
       "      <th>Gender</th>\n",
       "      <th>Cause</th>\n",
       "      <th>Area</th>\n",
       "      <th>FTarget</th>\n",
       "      <th>Latitude</th>\n",
       "      <th>Longitude</th>\n",
       "      <th>Mental Health Issues</th>\n",
       "      <th>Employeed (Y/N)</th>\n",
       "    </tr>\n",
       "  </thead>\n",
       "  <tbody>\n",
       "    <tr>\n",
       "      <th>0</th>\n",
       "      <td>2017-11-05</td>\n",
       "      <td>2017</td>\n",
       "      <td>11</td>\n",
       "      <td>Texas</td>\n",
       "      <td>26</td>\n",
       "      <td>20</td>\n",
       "      <td>46</td>\n",
       "      <td>0.0</td>\n",
       "      <td>26</td>\n",
       "      <td>White</td>\n",
       "      <td>Male</td>\n",
       "      <td>unknown</td>\n",
       "      <td>Religious</td>\n",
       "      <td>Random</td>\n",
       "      <td>NaN</td>\n",
       "      <td>NaN</td>\n",
       "      <td>No</td>\n",
       "      <td>NaN</td>\n",
       "    </tr>\n",
       "    <tr>\n",
       "      <th>1</th>\n",
       "      <td>2017-11-01</td>\n",
       "      <td>2017</td>\n",
       "      <td>11</td>\n",
       "      <td>Colorado</td>\n",
       "      <td>3</td>\n",
       "      <td>0</td>\n",
       "      <td>3</td>\n",
       "      <td>0.0</td>\n",
       "      <td>47</td>\n",
       "      <td>White</td>\n",
       "      <td>Male</td>\n",
       "      <td>unknown</td>\n",
       "      <td>Shop</td>\n",
       "      <td>Random</td>\n",
       "      <td>NaN</td>\n",
       "      <td>NaN</td>\n",
       "      <td>No</td>\n",
       "      <td>NaN</td>\n",
       "    </tr>\n",
       "  </tbody>\n",
       "</table>\n",
       "</div>"
      ],
      "text/plain": [
       "        Date  Shooting_year  Shooting_month     State  Fatalities  Injured  \\\n",
       "0 2017-11-05           2017              11     Texas          26       20   \n",
       "1 2017-11-01           2017              11  Colorado           3        0   \n",
       "\n",
       "   Total victims  Policeman Killed Age   Race Gender    Cause       Area  \\\n",
       "0             46               0.0  26  White   Male  unknown  Religious   \n",
       "1              3               0.0  47  White   Male  unknown       Shop   \n",
       "\n",
       "  FTarget  Latitude  Longitude Mental Health Issues  Employeed (Y/N)  \n",
       "0  Random       NaN        NaN                   No              NaN  \n",
       "1  Random       NaN        NaN                   No              NaN  "
      ]
     },
     "execution_count": 40,
     "metadata": {},
     "output_type": "execute_result"
    }
   ],
   "source": [
    "useful_data = pd.DataFrame(my_data[['Date', 'Shooting_year', 'Shooting_month', 'State', 'Fatalities','Injured', 'Total victims', 'Policeman Killed', 'Age', \n",
    "                             'Race', 'Gender','Cause', 'Area', 'FTarget', 'Latitude', 'Longitude','Mental Health Issues','Employeed (Y/N)']])\n",
    "useful_data.head(2)"
   ]
  },
  {
   "cell_type": "code",
   "execution_count": 41,
   "metadata": {},
   "outputs": [
    {
     "data": {
      "application/vnd.plotly.v1+json": {
       "config": {
        "linkText": "Export to plot.ly",
        "plotlyServerURL": "https://plot.ly",
        "showLink": true
       },
       "data": [
        {
         "marker": {
          "color": "rgba(255, 68, 26, 1)"
         },
         "name": "date",
         "type": "histogram",
         "uid": "a22758d1-d23b-4fae-8c0e-c9726d8576f0",
         "x": [
          "2017-11-05",
          "2017-11-01",
          "2017-10-18",
          "2017-10-01",
          "2017-06-14",
          "2017-06-07",
          "2017-06-05",
          "2017-05-12",
          "2017-04-18",
          "2017-01-06",
          "2016-09-23",
          "2016-07-17",
          "2016-07-07",
          "2016-06-12",
          "2016-04-29",
          "2016-04-26",
          "2016-04-24",
          "2016-04-21",
          "2016-04-19",
          "2016-04-19",
          "2016-04-19",
          "2016-04-18",
          "2016-04-09",
          "2016-04-09",
          "2016-04-07",
          "2016-04-01",
          "2016-03-31",
          "2016-03-26",
          "2016-03-25",
          "2016-03-25",
          "2016-03-21",
          "2016-03-20",
          "2016-03-19",
          "2016-03-19",
          "2016-03-15",
          "2016-03-13",
          "2016-03-12",
          "2016-03-11",
          "2016-03-11",
          "2016-03-09",
          "2016-03-09",
          "2016-03-07",
          "2016-03-07",
          "2016-03-07",
          "2016-03-06",
          "2016-03-06",
          "2016-03-05",
          "2016-02-28",
          "2016-02-28",
          "2016-02-27",
          "2016-02-26",
          "2016-02-25",
          "2016-02-25",
          "2016-02-25",
          "2016-02-23",
          "2016-02-21",
          "2016-02-21",
          "2016-02-20",
          "2016-02-20",
          "2016-02-20",
          "2016-02-20",
          "2016-02-19",
          "2016-02-09",
          "2016-02-07",
          "2016-02-07",
          "2016-02-06",
          "2016-02-06",
          "2016-02-06",
          "2016-01-31",
          "2016-01-30",
          "2016-01-29",
          "2016-01-27",
          "2016-01-25",
          "2016-01-23",
          "2016-01-23",
          "2016-01-17",
          "2016-01-11",
          "2016-01-07",
          "2016-01-06",
          "2015-12-06",
          "2015-12-02",
          "2015-12-02",
          "2015-11-27",
          "2015-11-23",
          "2015-11-23",
          "2015-11-15",
          "2015-11-13",
          "2015-11-07",
          "2015-11-04",
          "2015-10-31",
          "2015-10-21",
          "2015-10-09",
          "2015-10-01",
          "2015-10-01",
          "2015-09-27",
          "2015-09-17",
          "2015-09-10",
          "2015-08-29",
          "2015-08-26",
          "2015-08-19",
          "2015-08-08",
          "2015-07-23",
          "2015-07-22",
          "2015-07-16",
          "2015-07-12",
          "2015-06-20",
          "2015-06-17",
          "2015-06-16",
          "2015-06-11",
          "2015-06-07",
          "2015-05-31",
          "2015-05-31",
          "2015-05-25",
          "2015-05-12",
          "2015-05-10",
          "2015-05-03",
          "2015-05-01",
          "2015-04-25",
          "2015-04-21",
          "2015-04-16",
          "2015-04-07",
          "2015-04-05",
          "2015-04-03",
          "2015-03-30",
          "2015-03-28",
          "2015-03-19",
          "2015-03-18",
          "2015-03-15",
          "2015-03-13",
          "2015-02-28",
          "2015-02-27",
          "2015-02-26",
          "2015-02-24",
          "2015-02-22",
          "2015-02-22",
          "2015-02-10",
          "2015-02-09",
          "2015-02-07",
          "2015-02-07",
          "2015-02-04",
          "2015-02-01",
          "2015-01-28",
          "2015-01-24",
          "2015-01-24",
          "2015-01-10",
          "2015-01-01",
          "2014-12-15",
          "2014-12-01",
          "2014-11-19",
          "2014-10-24",
          "2014-08-08",
          "2014-06-29",
          "2014-06-08",
          "2014-06-05",
          "2014-05-23",
          "2014-04-29",
          "2014-04-03",
          "2014-04-02",
          "2014-03-23",
          "2014-02-20",
          "2013-12-28",
          "2013-11-01",
          "2013-10-21",
          "2013-09-16",
          "2013-08-14",
          "2013-08-07",
          "2013-08-05",
          "2013-07-26",
          "2013-06-07",
          "2013-04-24",
          "2013-04-21",
          "2013-03-13",
          "2013-02-19",
          "2013-02-03",
          "2013-01-30",
          "2013-01-19",
          "2012-12-14",
          "2012-12-11",
          "2012-10-21",
          "2012-09-28",
          "2012-09-27",
          "2012-08-05",
          "2012-07-20",
          "2012-06-09",
          "2012-05-30",
          "2012-05-20",
          "2012-04-06",
          "2012-04-02",
          "2012-02-27",
          "2012-02-22",
          "2012-01-29",
          "2011-10-12",
          "2011-09-06",
          "2011-07-07",
          "2011-04-06",
          "2011-02-06",
          "2011-01-08",
          "2010-08-03",
          "2010-02-12",
          "2009-11-29",
          "2009-11-29",
          "2009-11-05",
          "2009-04-03",
          "2009-03-29",
          "2009-03-29",
          "2009-03-29",
          "2009-03-10",
          "2008-12-24",
          "2008-10-26",
          "2008-07-24",
          "2008-06-25",
          "2008-02-14",
          "2008-02-07",
          "2007-12-24",
          "2007-12-11",
          "2007-12-09",
          "2007-12-05",
          "2007-10-25",
          "2007-10-11",
          "2007-10-07",
          "2007-04-16",
          "2007-04-10",
          "2007-02-12",
          "2006-10-02",
          "2006-10-02",
          "2006-09-17",
          "2006-08-30",
          "2006-08-24",
          "2006-03-25",
          "2006-01-30",
          "2005-03-21",
          "2005-03-12",
          "2005-02-24",
          "2004-12-08",
          "2004-11-21",
          "2003-08-27",
          "2003-07-08",
          "2003-05-09",
          "2002-10-28",
          "2002-01-16",
          "2001-03-05",
          "2001-02-05",
          "2000-12-26",
          "1999-12-30",
          "1999-12-06",
          "1999-11-02",
          "1999-09-15",
          "1999-07-29",
          "1999-05-20",
          "1999-04-20",
          "1998-10-06",
          "1998-05-21",
          "1998-04-24",
          "1998-03-24",
          "1998-03-06",
          "1997-12-19",
          "1997-12-18",
          "1997-12-01",
          "1997-10-01",
          "1997-09-15",
          "1997-02-19",
          "1996-08-15",
          "1996-02-09",
          "1996-02-02",
          "1995-11-15",
          "1995-04-03",
          "1995-03-21",
          "1995-01-26",
          "1994-12-30",
          "1994-11-07",
          "1994-06-20",
          "1994-05-26",
          "1993-12-16",
          "1993-12-14",
          "1993-12-07",
          "1993-09-17",
          "1993-08-06",
          "1993-07-08",
          "1993-07-01",
          "1993-05-06",
          "1993-05-06",
          "1992-12-14",
          "1992-10-15",
          "1992-09-11",
          "1992-05-01",
          "1991-11-14",
          "1991-11-01",
          "1991-10-16",
          "1991-10-10",
          "1991-08-09",
          "1990-06-17",
          "1989-09-14",
          "1989-08-10",
          "1989-01-17",
          "1988-12-14",
          "1988-09-26",
          "1988-09-22",
          "1988-05-20",
          "1988-02-16",
          "1988-02-11",
          "1987-04-23",
          "1986-12-04",
          "1986-08-20",
          "1986-08-12",
          "1985-03-06",
          "1985-01-21",
          "1984-07-18",
          "1984-06-29",
          "1984-02-24",
          "1983-08-19",
          "1983-02-18",
          "1982-08-20",
          "1982-03-19",
          "1979-10-06",
          "1979-01-29",
          "1976-07-12",
          "1976-02-19",
          "1974-12-30",
          "1974-01-17",
          "1972-12-31",
          "1971-11-11",
          "1966-11-12",
          "1966-08-01"
         ]
        }
       ],
       "layout": {
        "plot_bgcolor": "rgba(228, 255, 148, 1)",
        "title": " US Mass Shotings 1965-2017 Details",
        "updatemenus": [
         {
          "active": 1,
          "buttons": [
           {
            "args": [
             "xbins.size",
             "M1"
            ],
            "label": "Month",
            "method": "restyle"
           },
           {
            "args": [
             "xbins.size",
             "M12"
            ],
            "label": "Year",
            "method": "restyle"
           },
           {
            "args": [
             "xbins.size",
             "M3"
            ],
            "label": "Quarter",
            "method": "restyle"
           },
           {
            "args": [
             "xbins.size",
             "D1"
            ],
            "label": "Day",
            "method": "restyle"
           }
          ],
          "showactive": true,
          "x": 0.1,
          "y": 1.11,
          "yanchor": "top"
         }
        ],
        "xaxis": {
         "title": "Killings in a particular time Interval",
         "type": "date"
        },
        "yaxis": {
         "title": "Count of Shootings"
        }
       }
      },
      "text/html": [
       "<div id=\"8ee22b7c-1c1c-4319-b705-a764df8f66fd\" style=\"height: 525px; width: 100%;\" class=\"plotly-graph-div\"></div><script type=\"text/javascript\">require([\"plotly\"], function(Plotly) { window.PLOTLYENV=window.PLOTLYENV || {};window.PLOTLYENV.BASE_URL=\"https://plot.ly\";Plotly.newPlot(\"8ee22b7c-1c1c-4319-b705-a764df8f66fd\", [{\"name\": \"date\", \"marker\": {\"color\": \"rgba(255, 68, 26, 1)\"}, \"x\": [\"2017-11-05\", \"2017-11-01\", \"2017-10-18\", \"2017-10-01\", \"2017-06-14\", \"2017-06-07\", \"2017-06-05\", \"2017-05-12\", \"2017-04-18\", \"2017-01-06\", \"2016-09-23\", \"2016-07-17\", \"2016-07-07\", \"2016-06-12\", \"2016-04-29\", \"2016-04-26\", \"2016-04-24\", \"2016-04-21\", \"2016-04-19\", \"2016-04-19\", \"2016-04-19\", \"2016-04-18\", \"2016-04-09\", \"2016-04-09\", \"2016-04-07\", \"2016-04-01\", \"2016-03-31\", \"2016-03-26\", \"2016-03-25\", \"2016-03-25\", \"2016-03-21\", \"2016-03-20\", \"2016-03-19\", \"2016-03-19\", \"2016-03-15\", \"2016-03-13\", \"2016-03-12\", \"2016-03-11\", \"2016-03-11\", \"2016-03-09\", \"2016-03-09\", \"2016-03-07\", \"2016-03-07\", \"2016-03-07\", \"2016-03-06\", \"2016-03-06\", \"2016-03-05\", \"2016-02-28\", \"2016-02-28\", \"2016-02-27\", \"2016-02-26\", \"2016-02-25\", \"2016-02-25\", \"2016-02-25\", \"2016-02-23\", \"2016-02-21\", \"2016-02-21\", \"2016-02-20\", \"2016-02-20\", \"2016-02-20\", \"2016-02-20\", \"2016-02-19\", \"2016-02-09\", \"2016-02-07\", \"2016-02-07\", \"2016-02-06\", \"2016-02-06\", \"2016-02-06\", \"2016-01-31\", \"2016-01-30\", \"2016-01-29\", \"2016-01-27\", \"2016-01-25\", \"2016-01-23\", \"2016-01-23\", \"2016-01-17\", \"2016-01-11\", \"2016-01-07\", \"2016-01-06\", \"2015-12-06\", \"2015-12-02\", \"2015-12-02\", \"2015-11-27\", \"2015-11-23\", \"2015-11-23\", \"2015-11-15\", \"2015-11-13\", \"2015-11-07\", \"2015-11-04\", \"2015-10-31\", \"2015-10-21\", \"2015-10-09\", \"2015-10-01\", \"2015-10-01\", \"2015-09-27\", \"2015-09-17\", \"2015-09-10\", \"2015-08-29\", \"2015-08-26\", \"2015-08-19\", \"2015-08-08\", \"2015-07-23\", \"2015-07-22\", \"2015-07-16\", \"2015-07-12\", \"2015-06-20\", \"2015-06-17\", \"2015-06-16\", \"2015-06-11\", \"2015-06-07\", \"2015-05-31\", \"2015-05-31\", \"2015-05-25\", \"2015-05-12\", \"2015-05-10\", \"2015-05-03\", \"2015-05-01\", \"2015-04-25\", \"2015-04-21\", \"2015-04-16\", \"2015-04-07\", \"2015-04-05\", \"2015-04-03\", \"2015-03-30\", \"2015-03-28\", \"2015-03-19\", \"2015-03-18\", \"2015-03-15\", \"2015-03-13\", \"2015-02-28\", \"2015-02-27\", \"2015-02-26\", \"2015-02-24\", \"2015-02-22\", \"2015-02-22\", \"2015-02-10\", \"2015-02-09\", \"2015-02-07\", \"2015-02-07\", \"2015-02-04\", \"2015-02-01\", \"2015-01-28\", \"2015-01-24\", \"2015-01-24\", \"2015-01-10\", \"2015-01-01\", \"2014-12-15\", \"2014-12-01\", \"2014-11-19\", \"2014-10-24\", \"2014-08-08\", \"2014-06-29\", \"2014-06-08\", \"2014-06-05\", \"2014-05-23\", \"2014-04-29\", \"2014-04-03\", \"2014-04-02\", \"2014-03-23\", \"2014-02-20\", \"2013-12-28\", \"2013-11-01\", \"2013-10-21\", \"2013-09-16\", \"2013-08-14\", \"2013-08-07\", \"2013-08-05\", \"2013-07-26\", \"2013-06-07\", \"2013-04-24\", \"2013-04-21\", \"2013-03-13\", \"2013-02-19\", \"2013-02-03\", \"2013-01-30\", \"2013-01-19\", \"2012-12-14\", \"2012-12-11\", \"2012-10-21\", \"2012-09-28\", \"2012-09-27\", \"2012-08-05\", \"2012-07-20\", \"2012-06-09\", \"2012-05-30\", \"2012-05-20\", \"2012-04-06\", \"2012-04-02\", \"2012-02-27\", \"2012-02-22\", \"2012-01-29\", \"2011-10-12\", \"2011-09-06\", \"2011-07-07\", \"2011-04-06\", \"2011-02-06\", \"2011-01-08\", \"2010-08-03\", \"2010-02-12\", \"2009-11-29\", \"2009-11-29\", \"2009-11-05\", \"2009-04-03\", \"2009-03-29\", \"2009-03-29\", \"2009-03-29\", \"2009-03-10\", \"2008-12-24\", \"2008-10-26\", \"2008-07-24\", \"2008-06-25\", \"2008-02-14\", \"2008-02-07\", \"2007-12-24\", \"2007-12-11\", \"2007-12-09\", \"2007-12-05\", \"2007-10-25\", \"2007-10-11\", \"2007-10-07\", \"2007-04-16\", \"2007-04-10\", \"2007-02-12\", \"2006-10-02\", \"2006-10-02\", \"2006-09-17\", \"2006-08-30\", \"2006-08-24\", \"2006-03-25\", \"2006-01-30\", \"2005-03-21\", \"2005-03-12\", \"2005-02-24\", \"2004-12-08\", \"2004-11-21\", \"2003-08-27\", \"2003-07-08\", \"2003-05-09\", \"2002-10-28\", \"2002-01-16\", \"2001-03-05\", \"2001-02-05\", \"2000-12-26\", \"1999-12-30\", \"1999-12-06\", \"1999-11-02\", \"1999-09-15\", \"1999-07-29\", \"1999-05-20\", \"1999-04-20\", \"1998-10-06\", \"1998-05-21\", \"1998-04-24\", \"1998-03-24\", \"1998-03-06\", \"1997-12-19\", \"1997-12-18\", \"1997-12-01\", \"1997-10-01\", \"1997-09-15\", \"1997-02-19\", \"1996-08-15\", \"1996-02-09\", \"1996-02-02\", \"1995-11-15\", \"1995-04-03\", \"1995-03-21\", \"1995-01-26\", \"1994-12-30\", \"1994-11-07\", \"1994-06-20\", \"1994-05-26\", \"1993-12-16\", \"1993-12-14\", \"1993-12-07\", \"1993-09-17\", \"1993-08-06\", \"1993-07-08\", \"1993-07-01\", \"1993-05-06\", \"1993-05-06\", \"1992-12-14\", \"1992-10-15\", \"1992-09-11\", \"1992-05-01\", \"1991-11-14\", \"1991-11-01\", \"1991-10-16\", \"1991-10-10\", \"1991-08-09\", \"1990-06-17\", \"1989-09-14\", \"1989-08-10\", \"1989-01-17\", \"1988-12-14\", \"1988-09-26\", \"1988-09-22\", \"1988-05-20\", \"1988-02-16\", \"1988-02-11\", \"1987-04-23\", \"1986-12-04\", \"1986-08-20\", \"1986-08-12\", \"1985-03-06\", \"1985-01-21\", \"1984-07-18\", \"1984-06-29\", \"1984-02-24\", \"1983-08-19\", \"1983-02-18\", \"1982-08-20\", \"1982-03-19\", \"1979-10-06\", \"1979-01-29\", \"1976-07-12\", \"1976-02-19\", \"1974-12-30\", \"1974-01-17\", \"1972-12-31\", \"1971-11-11\", \"1966-11-12\", \"1966-08-01\"], \"uid\": \"5cee9f4c-8f4f-4726-9076-6c56da5a8713\", \"type\": \"histogram\"}], {\"updatemenus\": [{\"active\": 1, \"y\": 1.11, \"x\": 0.1, \"yanchor\": \"top\", \"showactive\": true, \"buttons\": [{\"method\": \"restyle\", \"label\": \"Month\", \"args\": [\"xbins.size\", \"M1\"]}, {\"method\": \"restyle\", \"label\": \"Year\", \"args\": [\"xbins.size\", \"M12\"]}, {\"method\": \"restyle\", \"label\": \"Quarter\", \"args\": [\"xbins.size\", \"M3\"]}, {\"method\": \"restyle\", \"label\": \"Day\", \"args\": [\"xbins.size\", \"D1\"]}]}], \"xaxis\": {\"type\": \"date\", \"title\": \"Killings in a particular time Interval\"}, \"plot_bgcolor\": \"rgba(228, 255, 148, 1)\", \"title\": \" US Mass Shotings 1965-2017 Details\", \"yaxis\": {\"title\": \"Count of Shootings\"}}, {\"linkText\": \"Export to plot.ly\", \"showLink\": true, \"plotlyServerURL\": \"https://plot.ly\"})});</script><script type=\"text/javascript\">window.addEventListener(\"resize\", function(){window._Plotly.Plots.resize(document.getElementById(\"8ee22b7c-1c1c-4319-b705-a764df8f66fd\"));});</script>"
      ],
      "text/vnd.plotly.v1+html": [
       "<div id=\"8ee22b7c-1c1c-4319-b705-a764df8f66fd\" style=\"height: 525px; width: 100%;\" class=\"plotly-graph-div\"></div><script type=\"text/javascript\">require([\"plotly\"], function(Plotly) { window.PLOTLYENV=window.PLOTLYENV || {};window.PLOTLYENV.BASE_URL=\"https://plot.ly\";Plotly.newPlot(\"8ee22b7c-1c1c-4319-b705-a764df8f66fd\", [{\"name\": \"date\", \"marker\": {\"color\": \"rgba(255, 68, 26, 1)\"}, \"x\": [\"2017-11-05\", \"2017-11-01\", \"2017-10-18\", \"2017-10-01\", \"2017-06-14\", \"2017-06-07\", \"2017-06-05\", \"2017-05-12\", \"2017-04-18\", \"2017-01-06\", \"2016-09-23\", \"2016-07-17\", \"2016-07-07\", \"2016-06-12\", \"2016-04-29\", \"2016-04-26\", \"2016-04-24\", \"2016-04-21\", \"2016-04-19\", \"2016-04-19\", \"2016-04-19\", \"2016-04-18\", \"2016-04-09\", \"2016-04-09\", \"2016-04-07\", \"2016-04-01\", \"2016-03-31\", \"2016-03-26\", \"2016-03-25\", \"2016-03-25\", \"2016-03-21\", \"2016-03-20\", \"2016-03-19\", \"2016-03-19\", \"2016-03-15\", \"2016-03-13\", \"2016-03-12\", \"2016-03-11\", \"2016-03-11\", \"2016-03-09\", \"2016-03-09\", \"2016-03-07\", \"2016-03-07\", \"2016-03-07\", \"2016-03-06\", \"2016-03-06\", \"2016-03-05\", \"2016-02-28\", \"2016-02-28\", \"2016-02-27\", \"2016-02-26\", \"2016-02-25\", \"2016-02-25\", \"2016-02-25\", \"2016-02-23\", \"2016-02-21\", \"2016-02-21\", \"2016-02-20\", \"2016-02-20\", \"2016-02-20\", \"2016-02-20\", \"2016-02-19\", \"2016-02-09\", \"2016-02-07\", \"2016-02-07\", \"2016-02-06\", \"2016-02-06\", \"2016-02-06\", \"2016-01-31\", \"2016-01-30\", \"2016-01-29\", \"2016-01-27\", \"2016-01-25\", \"2016-01-23\", \"2016-01-23\", \"2016-01-17\", \"2016-01-11\", \"2016-01-07\", \"2016-01-06\", \"2015-12-06\", \"2015-12-02\", \"2015-12-02\", \"2015-11-27\", \"2015-11-23\", \"2015-11-23\", \"2015-11-15\", \"2015-11-13\", \"2015-11-07\", \"2015-11-04\", \"2015-10-31\", \"2015-10-21\", \"2015-10-09\", \"2015-10-01\", \"2015-10-01\", \"2015-09-27\", \"2015-09-17\", \"2015-09-10\", \"2015-08-29\", \"2015-08-26\", \"2015-08-19\", \"2015-08-08\", \"2015-07-23\", \"2015-07-22\", \"2015-07-16\", \"2015-07-12\", \"2015-06-20\", \"2015-06-17\", \"2015-06-16\", \"2015-06-11\", \"2015-06-07\", \"2015-05-31\", \"2015-05-31\", \"2015-05-25\", \"2015-05-12\", \"2015-05-10\", \"2015-05-03\", \"2015-05-01\", \"2015-04-25\", \"2015-04-21\", \"2015-04-16\", \"2015-04-07\", \"2015-04-05\", \"2015-04-03\", \"2015-03-30\", \"2015-03-28\", \"2015-03-19\", \"2015-03-18\", \"2015-03-15\", \"2015-03-13\", \"2015-02-28\", \"2015-02-27\", \"2015-02-26\", \"2015-02-24\", \"2015-02-22\", \"2015-02-22\", \"2015-02-10\", \"2015-02-09\", \"2015-02-07\", \"2015-02-07\", \"2015-02-04\", \"2015-02-01\", \"2015-01-28\", \"2015-01-24\", \"2015-01-24\", \"2015-01-10\", \"2015-01-01\", \"2014-12-15\", \"2014-12-01\", \"2014-11-19\", \"2014-10-24\", \"2014-08-08\", \"2014-06-29\", \"2014-06-08\", \"2014-06-05\", \"2014-05-23\", \"2014-04-29\", \"2014-04-03\", \"2014-04-02\", \"2014-03-23\", \"2014-02-20\", \"2013-12-28\", \"2013-11-01\", \"2013-10-21\", \"2013-09-16\", \"2013-08-14\", \"2013-08-07\", \"2013-08-05\", \"2013-07-26\", \"2013-06-07\", \"2013-04-24\", \"2013-04-21\", \"2013-03-13\", \"2013-02-19\", \"2013-02-03\", \"2013-01-30\", \"2013-01-19\", \"2012-12-14\", \"2012-12-11\", \"2012-10-21\", \"2012-09-28\", \"2012-09-27\", \"2012-08-05\", \"2012-07-20\", \"2012-06-09\", \"2012-05-30\", \"2012-05-20\", \"2012-04-06\", \"2012-04-02\", \"2012-02-27\", \"2012-02-22\", \"2012-01-29\", \"2011-10-12\", \"2011-09-06\", \"2011-07-07\", \"2011-04-06\", \"2011-02-06\", \"2011-01-08\", \"2010-08-03\", \"2010-02-12\", \"2009-11-29\", \"2009-11-29\", \"2009-11-05\", \"2009-04-03\", \"2009-03-29\", \"2009-03-29\", \"2009-03-29\", \"2009-03-10\", \"2008-12-24\", \"2008-10-26\", \"2008-07-24\", \"2008-06-25\", \"2008-02-14\", \"2008-02-07\", \"2007-12-24\", \"2007-12-11\", \"2007-12-09\", \"2007-12-05\", \"2007-10-25\", \"2007-10-11\", \"2007-10-07\", \"2007-04-16\", \"2007-04-10\", \"2007-02-12\", \"2006-10-02\", \"2006-10-02\", \"2006-09-17\", \"2006-08-30\", \"2006-08-24\", \"2006-03-25\", \"2006-01-30\", \"2005-03-21\", \"2005-03-12\", \"2005-02-24\", \"2004-12-08\", \"2004-11-21\", \"2003-08-27\", \"2003-07-08\", \"2003-05-09\", \"2002-10-28\", \"2002-01-16\", \"2001-03-05\", \"2001-02-05\", \"2000-12-26\", \"1999-12-30\", \"1999-12-06\", \"1999-11-02\", \"1999-09-15\", \"1999-07-29\", \"1999-05-20\", \"1999-04-20\", \"1998-10-06\", \"1998-05-21\", \"1998-04-24\", \"1998-03-24\", \"1998-03-06\", \"1997-12-19\", \"1997-12-18\", \"1997-12-01\", \"1997-10-01\", \"1997-09-15\", \"1997-02-19\", \"1996-08-15\", \"1996-02-09\", \"1996-02-02\", \"1995-11-15\", \"1995-04-03\", \"1995-03-21\", \"1995-01-26\", \"1994-12-30\", \"1994-11-07\", \"1994-06-20\", \"1994-05-26\", \"1993-12-16\", \"1993-12-14\", \"1993-12-07\", \"1993-09-17\", \"1993-08-06\", \"1993-07-08\", \"1993-07-01\", \"1993-05-06\", \"1993-05-06\", \"1992-12-14\", \"1992-10-15\", \"1992-09-11\", \"1992-05-01\", \"1991-11-14\", \"1991-11-01\", \"1991-10-16\", \"1991-10-10\", \"1991-08-09\", \"1990-06-17\", \"1989-09-14\", \"1989-08-10\", \"1989-01-17\", \"1988-12-14\", \"1988-09-26\", \"1988-09-22\", \"1988-05-20\", \"1988-02-16\", \"1988-02-11\", \"1987-04-23\", \"1986-12-04\", \"1986-08-20\", \"1986-08-12\", \"1985-03-06\", \"1985-01-21\", \"1984-07-18\", \"1984-06-29\", \"1984-02-24\", \"1983-08-19\", \"1983-02-18\", \"1982-08-20\", \"1982-03-19\", \"1979-10-06\", \"1979-01-29\", \"1976-07-12\", \"1976-02-19\", \"1974-12-30\", \"1974-01-17\", \"1972-12-31\", \"1971-11-11\", \"1966-11-12\", \"1966-08-01\"], \"uid\": \"5cee9f4c-8f4f-4726-9076-6c56da5a8713\", \"type\": \"histogram\"}], {\"updatemenus\": [{\"active\": 1, \"y\": 1.11, \"x\": 0.1, \"yanchor\": \"top\", \"showactive\": true, \"buttons\": [{\"method\": \"restyle\", \"label\": \"Month\", \"args\": [\"xbins.size\", \"M1\"]}, {\"method\": \"restyle\", \"label\": \"Year\", \"args\": [\"xbins.size\", \"M12\"]}, {\"method\": \"restyle\", \"label\": \"Quarter\", \"args\": [\"xbins.size\", \"M3\"]}, {\"method\": \"restyle\", \"label\": \"Day\", \"args\": [\"xbins.size\", \"D1\"]}]}], \"xaxis\": {\"type\": \"date\", \"title\": \"Killings in a particular time Interval\"}, \"plot_bgcolor\": \"rgba(228, 255, 148, 1)\", \"title\": \" US Mass Shotings 1965-2017 Details\", \"yaxis\": {\"title\": \"Count of Shootings\"}}, {\"linkText\": \"Export to plot.ly\", \"showLink\": true, \"plotlyServerURL\": \"https://plot.ly\"})});</script><script type=\"text/javascript\">window.addEventListener(\"resize\", function(){window._Plotly.Plots.resize(document.getElementById(\"8ee22b7c-1c1c-4319-b705-a764df8f66fd\"));});</script>"
      ]
     },
     "metadata": {},
     "output_type": "display_data"
    }
   ],
   "source": [
    "trace1= go.Histogram(x=useful_data.Date,marker=dict(color='rgba(255, 68, 26, 1)'),name='date')\n",
    "data=[trace1]\n",
    "layout=dict(plot_bgcolor='rgba(228, 255, 148, 1)',title=\" US Mass Shotings 1965-2017 Details\",\n",
    "            yaxis=dict(title=\"Count of Shootings\"),\n",
    "            xaxis=dict(title=\"Killings in a particular time Interval\",type='date')\n",
    "           ,updatemenus=[dict(x=0.1,y=1.11,yanchor='top',active=1,showactive=True,\n",
    "                            buttons=[dict(args=['xbins.size','M1'],label='Month',method='restyle')\n",
    "                                    ,dict(args=['xbins.size','M12'],label='Year',method='restyle')\n",
    "                                    ,dict(args=['xbins.size','M3'],label='Quarter',method='restyle'),\n",
    "                                    dict(args=['xbins.size','D1'],label='Day',method='restyle')])])\n",
    "fig=dict(data=data,layout=layout)\n",
    "py.iplot(fig)"
   ]
  },
  {
   "cell_type": "code",
   "execution_count": 42,
   "metadata": {},
   "outputs": [],
   "source": [
    "ms_year_stats = my_data[['Shooting_year', 'Total victims' ]].groupby(['Shooting_year']\n",
    "             ,as_index=False).sum().sort_values(by='Shooting_year', ascending=False)\n",
    "ms_year_stats1 = my_data[['Shooting_year', 'Fatalities' ]].groupby(['Shooting_year'],\n",
    "                   as_index=False).sum().sort_values(by='Shooting_year', ascending=False)\n",
    "ms_year_stats2 = my_data[['Shooting_year', 'Injured' ]].groupby(['Shooting_year'], \n",
    "                as_index=False).sum().sort_values(by='Shooting_year', ascending=False)\n",
    "ms_year_stats3 = my_data[['Shooting_year', 'Total victims' ]].groupby(['Shooting_year'], \n",
    "                as_index=False).count().sort_values(by='Shooting_year', ascending=False)\n",
    "\n"
   ]
  },
  {
   "cell_type": "code",
   "execution_count": 43,
   "metadata": {},
   "outputs": [],
   "source": [
    "trace1=go.Scatter(mode='lines+markers',x=ms_year_stats['Shooting_year'],\n",
    "                  y=ms_year_stats['Total victims'],name='Total Victims')\n",
    "trace2=go.Scatter(mode='lines+markers',x=ms_year_stats1['Shooting_year'],\n",
    "                  y=ms_year_stats1['Fatalities'],name='Fatalities')\n",
    "trace3=go.Scatter(mode='lines+markers',x=ms_year_stats2['Shooting_year'],\n",
    "                  y=ms_year_stats2['Injured'],name='Injuries')\n",
    "trace4=go.Scatter(mode='lines',x=ms_year_stats3['Shooting_year'],\n",
    "                  y=ms_year_stats3['Total victims'],name='Count of Shooting')"
   ]
  },
  {
   "cell_type": "code",
   "execution_count": 44,
   "metadata": {},
   "outputs": [
    {
     "data": {
      "application/vnd.plotly.v1+json": {
       "config": {
        "linkText": "Export to plot.ly",
        "plotlyServerURL": "https://plot.ly",
        "showLink": true
       },
       "data": [
        {
         "mode": "lines+markers",
         "name": "Total Victims",
         "type": "scatter",
         "uid": "fbea4e98-b48f-4310-96b6-51de7356167a",
         "x": [
          2017,
          2016,
          2015,
          2014,
          2013,
          2012,
          2011,
          2010,
          2009,
          2008,
          2007,
          2006,
          2005,
          2004,
          2003,
          2002,
          2001,
          2000,
          1999,
          1998,
          1997,
          1996,
          1995,
          1994,
          1993,
          1992,
          1991,
          1990,
          1989,
          1988,
          1987,
          1986,
          1985,
          1984,
          1983,
          1982,
          1979,
          1976,
          1974,
          1972,
          1971,
          1966
         ],
         "y": [
          670,
          455,
          395,
          112,
          101,
          204,
          65,
          17,
          115,
          57,
          123,
          49,
          31,
          19,
          24,
          9,
          24,
          7,
          97,
          58,
          37,
          14,
          17,
          42,
          75,
          30,
          70,
          17,
          59,
          43,
          20,
          29,
          7,
          61,
          18,
          14,
          18,
          17,
          14,
          22,
          5,
          54
         ]
        },
        {
         "mode": "lines+markers",
         "name": "Fatalities",
         "type": "scatter",
         "uid": "e1e4b731-289d-4fc9-981d-0da7b5c65b48",
         "x": [
          2017,
          2016,
          2015,
          2014,
          2013,
          2012,
          2011,
          2010,
          2009,
          2008,
          2007,
          2006,
          2005,
          2004,
          2003,
          2002,
          2001,
          2000,
          1999,
          1998,
          1997,
          1996,
          1995,
          1994,
          1993,
          1992,
          1991,
          1990,
          1989,
          1988,
          1987,
          1986,
          1985,
          1984,
          1983,
          1982,
          1979,
          1976,
          1974,
          1972,
          1971,
          1966
         ],
         "y": [
          113,
          193,
          226,
          45,
          76,
          99,
          29,
          9,
          69,
          28,
          65,
          30,
          21,
          11,
          15,
          7,
          8,
          7,
          45,
          15,
          18,
          12,
          14,
          12,
          29,
          11,
          47,
          12,
          19,
          17,
          6,
          17,
          3,
          31,
          14,
          10,
          4,
          8,
          4,
          10,
          2,
          22
         ]
        },
        {
         "mode": "lines+markers",
         "name": "Injuries",
         "type": "scatter",
         "uid": "d6b69cb8-5744-476b-83e1-47c987333598",
         "x": [
          2017,
          2016,
          2015,
          2014,
          2013,
          2012,
          2011,
          2010,
          2009,
          2008,
          2007,
          2006,
          2005,
          2004,
          2003,
          2002,
          2001,
          2000,
          1999,
          1998,
          1997,
          1996,
          1995,
          1994,
          1993,
          1992,
          1991,
          1990,
          1989,
          1988,
          1987,
          1986,
          1985,
          1984,
          1983,
          1982,
          1979,
          1976,
          1974,
          1972,
          1971,
          1966
         ],
         "y": [
          558,
          277,
          200,
          76,
          32,
          111,
          37,
          5,
          49,
          30,
          61,
          21,
          13,
          9,
          10,
          3,
          17,
          0,
          56,
          44,
          21,
          2,
          4,
          31,
          50,
          20,
          26,
          6,
          43,
          28,
          14,
          13,
          4,
          32,
          4,
          5,
          14,
          9,
          10,
          13,
          4,
          33
         ]
        },
        {
         "mode": "lines",
         "name": "Count of Shooting",
         "type": "scatter",
         "uid": "c7a1ec7b-a8b1-477f-952f-0b70f9728b2e",
         "x": [
          2017,
          2016,
          2015,
          2014,
          2013,
          2012,
          2011,
          2010,
          2009,
          2008,
          2007,
          2006,
          2005,
          2004,
          2003,
          2002,
          2001,
          2000,
          1999,
          1998,
          1997,
          1996,
          1995,
          1994,
          1993,
          1992,
          1991,
          1990,
          1989,
          1988,
          1987,
          1986,
          1985,
          1984,
          1983,
          1982,
          1979,
          1976,
          1974,
          1972,
          1971,
          1966
         ],
         "y": [
          10,
          69,
          67,
          14,
          16,
          15,
          6,
          2,
          8,
          6,
          10,
          7,
          3,
          2,
          3,
          2,
          2,
          1,
          7,
          5,
          6,
          3,
          4,
          4,
          9,
          4,
          5,
          1,
          3,
          6,
          1,
          3,
          2,
          3,
          2,
          2,
          2,
          2,
          2,
          1,
          1,
          2
         ]
        }
       ],
       "layout": {
        "title": "Fatalities and Injuries in Various Years"
       }
      },
      "text/html": [
       "<div id=\"0eacb0de-852b-43b0-80e5-5a924bb191d0\" style=\"height: 525px; width: 100%;\" class=\"plotly-graph-div\"></div><script type=\"text/javascript\">require([\"plotly\"], function(Plotly) { window.PLOTLYENV=window.PLOTLYENV || {};window.PLOTLYENV.BASE_URL=\"https://plot.ly\";Plotly.newPlot(\"0eacb0de-852b-43b0-80e5-5a924bb191d0\", [{\"name\": \"Total Victims\", \"y\": [670, 455, 395, 112, 101, 204, 65, 17, 115, 57, 123, 49, 31, 19, 24, 9, 24, 7, 97, 58, 37, 14, 17, 42, 75, 30, 70, 17, 59, 43, 20, 29, 7, 61, 18, 14, 18, 17, 14, 22, 5, 54], \"x\": [2017, 2016, 2015, 2014, 2013, 2012, 2011, 2010, 2009, 2008, 2007, 2006, 2005, 2004, 2003, 2002, 2001, 2000, 1999, 1998, 1997, 1996, 1995, 1994, 1993, 1992, 1991, 1990, 1989, 1988, 1987, 1986, 1985, 1984, 1983, 1982, 1979, 1976, 1974, 1972, 1971, 1966], \"uid\": \"828febf2-a7c0-4b95-a55b-7c58a57b78bf\", \"mode\": \"lines+markers\", \"type\": \"scatter\"}, {\"name\": \"Fatalities\", \"y\": [113, 193, 226, 45, 76, 99, 29, 9, 69, 28, 65, 30, 21, 11, 15, 7, 8, 7, 45, 15, 18, 12, 14, 12, 29, 11, 47, 12, 19, 17, 6, 17, 3, 31, 14, 10, 4, 8, 4, 10, 2, 22], \"x\": [2017, 2016, 2015, 2014, 2013, 2012, 2011, 2010, 2009, 2008, 2007, 2006, 2005, 2004, 2003, 2002, 2001, 2000, 1999, 1998, 1997, 1996, 1995, 1994, 1993, 1992, 1991, 1990, 1989, 1988, 1987, 1986, 1985, 1984, 1983, 1982, 1979, 1976, 1974, 1972, 1971, 1966], \"uid\": \"0aab4e24-f21d-444f-a579-f34021a4e8ab\", \"mode\": \"lines+markers\", \"type\": \"scatter\"}, {\"name\": \"Injuries\", \"y\": [558, 277, 200, 76, 32, 111, 37, 5, 49, 30, 61, 21, 13, 9, 10, 3, 17, 0, 56, 44, 21, 2, 4, 31, 50, 20, 26, 6, 43, 28, 14, 13, 4, 32, 4, 5, 14, 9, 10, 13, 4, 33], \"x\": [2017, 2016, 2015, 2014, 2013, 2012, 2011, 2010, 2009, 2008, 2007, 2006, 2005, 2004, 2003, 2002, 2001, 2000, 1999, 1998, 1997, 1996, 1995, 1994, 1993, 1992, 1991, 1990, 1989, 1988, 1987, 1986, 1985, 1984, 1983, 1982, 1979, 1976, 1974, 1972, 1971, 1966], \"uid\": \"4a961eb6-64db-40c6-9325-d50e49696acd\", \"mode\": \"lines+markers\", \"type\": \"scatter\"}, {\"name\": \"Count of Shooting\", \"y\": [10, 69, 67, 14, 16, 15, 6, 2, 8, 6, 10, 7, 3, 2, 3, 2, 2, 1, 7, 5, 6, 3, 4, 4, 9, 4, 5, 1, 3, 6, 1, 3, 2, 3, 2, 2, 2, 2, 2, 1, 1, 2], \"x\": [2017, 2016, 2015, 2014, 2013, 2012, 2011, 2010, 2009, 2008, 2007, 2006, 2005, 2004, 2003, 2002, 2001, 2000, 1999, 1998, 1997, 1996, 1995, 1994, 1993, 1992, 1991, 1990, 1989, 1988, 1987, 1986, 1985, 1984, 1983, 1982, 1979, 1976, 1974, 1972, 1971, 1966], \"uid\": \"b6587e81-fe91-4506-90f6-c3815d246a00\", \"mode\": \"lines\", \"type\": \"scatter\"}], {\"title\": \"Fatalities and Injuries in Various Years\"}, {\"linkText\": \"Export to plot.ly\", \"showLink\": true, \"plotlyServerURL\": \"https://plot.ly\"})});</script><script type=\"text/javascript\">window.addEventListener(\"resize\", function(){window._Plotly.Plots.resize(document.getElementById(\"0eacb0de-852b-43b0-80e5-5a924bb191d0\"));});</script>"
      ],
      "text/vnd.plotly.v1+html": [
       "<div id=\"0eacb0de-852b-43b0-80e5-5a924bb191d0\" style=\"height: 525px; width: 100%;\" class=\"plotly-graph-div\"></div><script type=\"text/javascript\">require([\"plotly\"], function(Plotly) { window.PLOTLYENV=window.PLOTLYENV || {};window.PLOTLYENV.BASE_URL=\"https://plot.ly\";Plotly.newPlot(\"0eacb0de-852b-43b0-80e5-5a924bb191d0\", [{\"name\": \"Total Victims\", \"y\": [670, 455, 395, 112, 101, 204, 65, 17, 115, 57, 123, 49, 31, 19, 24, 9, 24, 7, 97, 58, 37, 14, 17, 42, 75, 30, 70, 17, 59, 43, 20, 29, 7, 61, 18, 14, 18, 17, 14, 22, 5, 54], \"x\": [2017, 2016, 2015, 2014, 2013, 2012, 2011, 2010, 2009, 2008, 2007, 2006, 2005, 2004, 2003, 2002, 2001, 2000, 1999, 1998, 1997, 1996, 1995, 1994, 1993, 1992, 1991, 1990, 1989, 1988, 1987, 1986, 1985, 1984, 1983, 1982, 1979, 1976, 1974, 1972, 1971, 1966], \"uid\": \"828febf2-a7c0-4b95-a55b-7c58a57b78bf\", \"mode\": \"lines+markers\", \"type\": \"scatter\"}, {\"name\": \"Fatalities\", \"y\": [113, 193, 226, 45, 76, 99, 29, 9, 69, 28, 65, 30, 21, 11, 15, 7, 8, 7, 45, 15, 18, 12, 14, 12, 29, 11, 47, 12, 19, 17, 6, 17, 3, 31, 14, 10, 4, 8, 4, 10, 2, 22], \"x\": [2017, 2016, 2015, 2014, 2013, 2012, 2011, 2010, 2009, 2008, 2007, 2006, 2005, 2004, 2003, 2002, 2001, 2000, 1999, 1998, 1997, 1996, 1995, 1994, 1993, 1992, 1991, 1990, 1989, 1988, 1987, 1986, 1985, 1984, 1983, 1982, 1979, 1976, 1974, 1972, 1971, 1966], \"uid\": \"0aab4e24-f21d-444f-a579-f34021a4e8ab\", \"mode\": \"lines+markers\", \"type\": \"scatter\"}, {\"name\": \"Injuries\", \"y\": [558, 277, 200, 76, 32, 111, 37, 5, 49, 30, 61, 21, 13, 9, 10, 3, 17, 0, 56, 44, 21, 2, 4, 31, 50, 20, 26, 6, 43, 28, 14, 13, 4, 32, 4, 5, 14, 9, 10, 13, 4, 33], \"x\": [2017, 2016, 2015, 2014, 2013, 2012, 2011, 2010, 2009, 2008, 2007, 2006, 2005, 2004, 2003, 2002, 2001, 2000, 1999, 1998, 1997, 1996, 1995, 1994, 1993, 1992, 1991, 1990, 1989, 1988, 1987, 1986, 1985, 1984, 1983, 1982, 1979, 1976, 1974, 1972, 1971, 1966], \"uid\": \"4a961eb6-64db-40c6-9325-d50e49696acd\", \"mode\": \"lines+markers\", \"type\": \"scatter\"}, {\"name\": \"Count of Shooting\", \"y\": [10, 69, 67, 14, 16, 15, 6, 2, 8, 6, 10, 7, 3, 2, 3, 2, 2, 1, 7, 5, 6, 3, 4, 4, 9, 4, 5, 1, 3, 6, 1, 3, 2, 3, 2, 2, 2, 2, 2, 1, 1, 2], \"x\": [2017, 2016, 2015, 2014, 2013, 2012, 2011, 2010, 2009, 2008, 2007, 2006, 2005, 2004, 2003, 2002, 2001, 2000, 1999, 1998, 1997, 1996, 1995, 1994, 1993, 1992, 1991, 1990, 1989, 1988, 1987, 1986, 1985, 1984, 1983, 1982, 1979, 1976, 1974, 1972, 1971, 1966], \"uid\": \"b6587e81-fe91-4506-90f6-c3815d246a00\", \"mode\": \"lines\", \"type\": \"scatter\"}], {\"title\": \"Fatalities and Injuries in Various Years\"}, {\"linkText\": \"Export to plot.ly\", \"showLink\": true, \"plotlyServerURL\": \"https://plot.ly\"})});</script><script type=\"text/javascript\">window.addEventListener(\"resize\", function(){window._Plotly.Plots.resize(document.getElementById(\"0eacb0de-852b-43b0-80e5-5a924bb191d0\"));});</script>"
      ]
     },
     "metadata": {},
     "output_type": "display_data"
    }
   ],
   "source": [
    "data=[trace1,trace2,trace3,trace4]\n",
    "layout=dict(title='Fatalities and Injuries in Various Years')\n",
    "py.iplot(dict(data=data,layout=layout))"
   ]
  },
  {
   "cell_type": "code",
   "execution_count": 45,
   "metadata": {},
   "outputs": [],
   "source": [
    "ms_cause_cnt = useful_data[['Cause', \n",
    "                            'Total victims' ]].groupby(['Cause'], as_index=False).count().sort_values(by='Total victims'\n",
    "                          , ascending=False)"
   ]
  },
  {
   "cell_type": "code",
   "execution_count": 46,
   "metadata": {},
   "outputs": [],
   "source": [
    "ms_cause_cnt=ms_cause_cnt[ms_cause_cnt['Total victims']>9]"
   ]
  },
  {
   "cell_type": "markdown",
   "metadata": {},
   "source": [
    "### Cause which invoked more Number of Shootings"
   ]
  },
  {
   "cell_type": "code",
   "execution_count": 47,
   "metadata": {},
   "outputs": [
    {
     "data": {
      "text/html": [
       "<div>\n",
       "<style scoped>\n",
       "    .dataframe tbody tr th:only-of-type {\n",
       "        vertical-align: middle;\n",
       "    }\n",
       "\n",
       "    .dataframe tbody tr th {\n",
       "        vertical-align: top;\n",
       "    }\n",
       "\n",
       "    .dataframe thead th {\n",
       "        text-align: right;\n",
       "    }\n",
       "</style>\n",
       "<table border=\"1\" class=\"dataframe\">\n",
       "  <thead>\n",
       "    <tr style=\"text-align: right;\">\n",
       "      <th></th>\n",
       "      <th>Cause</th>\n",
       "      <th>Total victims</th>\n",
       "    </tr>\n",
       "  </thead>\n",
       "  <tbody>\n",
       "    <tr>\n",
       "      <th>6</th>\n",
       "      <td>psycho</td>\n",
       "      <td>68</td>\n",
       "    </tr>\n",
       "    <tr>\n",
       "      <th>12</th>\n",
       "      <td>terrorism</td>\n",
       "      <td>65</td>\n",
       "    </tr>\n",
       "    <tr>\n",
       "      <th>0</th>\n",
       "      <td>anger</td>\n",
       "      <td>44</td>\n",
       "    </tr>\n",
       "    <tr>\n",
       "      <th>5</th>\n",
       "      <td>frustration</td>\n",
       "      <td>18</td>\n",
       "    </tr>\n",
       "    <tr>\n",
       "      <th>2</th>\n",
       "      <td>domestic dispute</td>\n",
       "      <td>13</td>\n",
       "    </tr>\n",
       "    <tr>\n",
       "      <th>9</th>\n",
       "      <td>revenge</td>\n",
       "      <td>10</td>\n",
       "    </tr>\n",
       "    <tr>\n",
       "      <th>13</th>\n",
       "      <td>unemployement</td>\n",
       "      <td>10</td>\n",
       "    </tr>\n",
       "  </tbody>\n",
       "</table>\n",
       "</div>"
      ],
      "text/plain": [
       "               Cause  Total victims\n",
       "6             psycho             68\n",
       "12         terrorism             65\n",
       "0              anger             44\n",
       "5        frustration             18\n",
       "2   domestic dispute             13\n",
       "9            revenge             10\n",
       "13     unemployement             10"
      ]
     },
     "execution_count": 47,
     "metadata": {},
     "output_type": "execute_result"
    }
   ],
   "source": [
    "ms_cause_cnt\n"
   ]
  },
  {
   "cell_type": "markdown",
   "metadata": {},
   "source": [
    "#### Cause that resulted in more number of victims during shooting"
   ]
  },
  {
   "cell_type": "code",
   "execution_count": 48,
   "metadata": {},
   "outputs": [],
   "source": [
    "ms_cause_sum = useful_data[['Cause', 'Total victims' ]].groupby(['Cause'], \n",
    "        as_index=False).sum().sort_values(by='Total victims', ascending=False)\n",
    "ms_cause_sum=ms_cause_sum[ms_cause_sum['Total victims'] > 9]"
   ]
  },
  {
   "cell_type": "code",
   "execution_count": 49,
   "metadata": {},
   "outputs": [
    {
     "data": {
      "text/html": [
       "<div>\n",
       "<style scoped>\n",
       "    .dataframe tbody tr th:only-of-type {\n",
       "        vertical-align: middle;\n",
       "    }\n",
       "\n",
       "    .dataframe tbody tr th {\n",
       "        vertical-align: top;\n",
       "    }\n",
       "\n",
       "    .dataframe thead th {\n",
       "        text-align: right;\n",
       "    }\n",
       "</style>\n",
       "<table border=\"1\" class=\"dataframe\">\n",
       "  <thead>\n",
       "    <tr style=\"text-align: right;\">\n",
       "      <th></th>\n",
       "      <th>Cause</th>\n",
       "      <th>Total victims</th>\n",
       "    </tr>\n",
       "  </thead>\n",
       "  <tbody>\n",
       "    <tr>\n",
       "      <th>12</th>\n",
       "      <td>terrorism</td>\n",
       "      <td>875</td>\n",
       "    </tr>\n",
       "    <tr>\n",
       "      <th>14</th>\n",
       "      <td>unknown</td>\n",
       "      <td>640</td>\n",
       "    </tr>\n",
       "    <tr>\n",
       "      <th>6</th>\n",
       "      <td>psycho</td>\n",
       "      <td>574</td>\n",
       "    </tr>\n",
       "    <tr>\n",
       "      <th>0</th>\n",
       "      <td>anger</td>\n",
       "      <td>270</td>\n",
       "    </tr>\n",
       "    <tr>\n",
       "      <th>5</th>\n",
       "      <td>frustration</td>\n",
       "      <td>120</td>\n",
       "    </tr>\n",
       "    <tr>\n",
       "      <th>13</th>\n",
       "      <td>unemployement</td>\n",
       "      <td>103</td>\n",
       "    </tr>\n",
       "    <tr>\n",
       "      <th>9</th>\n",
       "      <td>revenge</td>\n",
       "      <td>61</td>\n",
       "    </tr>\n",
       "    <tr>\n",
       "      <th>7</th>\n",
       "      <td>racism</td>\n",
       "      <td>54</td>\n",
       "    </tr>\n",
       "    <tr>\n",
       "      <th>2</th>\n",
       "      <td>domestic dispute</td>\n",
       "      <td>49</td>\n",
       "    </tr>\n",
       "    <tr>\n",
       "      <th>4</th>\n",
       "      <td>failing exams</td>\n",
       "      <td>21</td>\n",
       "    </tr>\n",
       "  </tbody>\n",
       "</table>\n",
       "</div>"
      ],
      "text/plain": [
       "               Cause  Total victims\n",
       "12         terrorism            875\n",
       "14           unknown            640\n",
       "6             psycho            574\n",
       "0              anger            270\n",
       "5        frustration            120\n",
       "13     unemployement            103\n",
       "9            revenge             61\n",
       "7             racism             54\n",
       "2   domestic dispute             49\n",
       "4      failing exams             21"
      ]
     },
     "execution_count": 49,
     "metadata": {},
     "output_type": "execute_result"
    }
   ],
   "source": [
    "ms_cause_sum"
   ]
  },
  {
   "cell_type": "code",
   "execution_count": 50,
   "metadata": {},
   "outputs": [
    {
     "data": {
      "application/vnd.plotly.v1+json": {
       "config": {
        "linkText": "Export to plot.ly",
        "plotlyServerURL": "https://plot.ly",
        "showLink": true
       },
       "data": [
        {
         "domain": {
          "x": [
           0,
           0.5
          ]
         },
         "hole": 0.2,
         "hoverinfo": "label+percent+name",
         "labels": [
          "psycho",
          "terrorism",
          "anger",
          "frustration",
          "domestic dispute",
          "revenge",
          "unemployement"
         ],
         "name": "Cause Resulted in Shooting",
         "type": "pie",
         "uid": "cf958126-2391-43ac-ba43-925a6c603771",
         "values": [
          68,
          65,
          44,
          18,
          13,
          10,
          10
         ]
        },
        {
         "domain": {
          "x": [
           0.5,
           1
          ]
         },
         "hole": 0.2,
         "hoverinfo": "label+percent",
         "labels": [
          "terrorism",
          "unknown",
          "psycho",
          "anger",
          "frustration",
          "unemployement",
          "revenge",
          "racism",
          "domestic dispute",
          "failing exams"
         ],
         "type": "pie",
         "uid": "68c27b56-90b0-47e2-9c24-a264cf942319",
         "values": [
          875,
          640,
          574,
          270,
          120,
          103,
          61,
          54,
          49,
          21
         ]
        }
       ],
       "layout": {
        "annotations": [
         {
          "font": {
           "size": 15
          },
          "showarrow": false,
          "text": "Number of Shooting for each cause",
          "x": 0.1,
          "y": -0.14
         },
         {
          "font": {
           "size": 15
          },
          "showarrow": false,
          "text": "Number of Victims for each cause",
          "x": 0.9,
          "y": -0.14
         }
        ],
        "title": " \b Cause resulting in more number of shooting and number of people affected \b"
       }
      },
      "text/html": [
       "<div id=\"132f53b5-799d-4d56-8c82-27c6ed1e89dd\" style=\"height: 525px; width: 100%;\" class=\"plotly-graph-div\"></div><script type=\"text/javascript\">require([\"plotly\"], function(Plotly) { window.PLOTLYENV=window.PLOTLYENV || {};window.PLOTLYENV.BASE_URL=\"https://plot.ly\";Plotly.newPlot(\"132f53b5-799d-4d56-8c82-27c6ed1e89dd\", [{\"name\": \"Cause Resulted in Shooting\", \"hole\": 0.2, \"domain\": {\"x\": [0, 0.5]}, \"labels\": [\"psycho\", \"terrorism\", \"anger\", \"frustration\", \"domestic dispute\", \"revenge\", \"unemployement\"], \"uid\": \"a15c9f6d-81aa-48aa-950a-1588e9b9f602\", \"values\": [68, 65, 44, 18, 13, 10, 10], \"type\": \"pie\", \"hoverinfo\": \"label+percent+name\"}, {\"hole\": 0.2, \"domain\": {\"x\": [0.5, 1]}, \"labels\": [\"terrorism\", \"unknown\", \"psycho\", \"anger\", \"frustration\", \"unemployement\", \"revenge\", \"racism\", \"domestic dispute\", \"failing exams\"], \"uid\": \"7f8d0b66-e7c9-4f07-98db-36a2b13213ac\", \"values\": [875, 640, 574, 270, 120, 103, 61, 54, 49, 21], \"type\": \"pie\", \"hoverinfo\": \"label+percent\"}], {\"annotations\": [{\"x\": 0.1, \"text\": \"Number of Shooting for each cause\", \"font\": {\"size\": 15}, \"y\": -0.14, \"showarrow\": false}, {\"x\": 0.9, \"text\": \"Number of Victims for each cause\", \"font\": {\"size\": 15}, \"y\": -0.14, \"showarrow\": false}], \"title\": \" \\b Cause resulting in more number of shooting and number of people affected \\b\"}, {\"linkText\": \"Export to plot.ly\", \"showLink\": true, \"plotlyServerURL\": \"https://plot.ly\"})});</script><script type=\"text/javascript\">window.addEventListener(\"resize\", function(){window._Plotly.Plots.resize(document.getElementById(\"132f53b5-799d-4d56-8c82-27c6ed1e89dd\"));});</script>"
      ],
      "text/vnd.plotly.v1+html": [
       "<div id=\"132f53b5-799d-4d56-8c82-27c6ed1e89dd\" style=\"height: 525px; width: 100%;\" class=\"plotly-graph-div\"></div><script type=\"text/javascript\">require([\"plotly\"], function(Plotly) { window.PLOTLYENV=window.PLOTLYENV || {};window.PLOTLYENV.BASE_URL=\"https://plot.ly\";Plotly.newPlot(\"132f53b5-799d-4d56-8c82-27c6ed1e89dd\", [{\"name\": \"Cause Resulted in Shooting\", \"hole\": 0.2, \"domain\": {\"x\": [0, 0.5]}, \"labels\": [\"psycho\", \"terrorism\", \"anger\", \"frustration\", \"domestic dispute\", \"revenge\", \"unemployement\"], \"uid\": \"a15c9f6d-81aa-48aa-950a-1588e9b9f602\", \"values\": [68, 65, 44, 18, 13, 10, 10], \"type\": \"pie\", \"hoverinfo\": \"label+percent+name\"}, {\"hole\": 0.2, \"domain\": {\"x\": [0.5, 1]}, \"labels\": [\"terrorism\", \"unknown\", \"psycho\", \"anger\", \"frustration\", \"unemployement\", \"revenge\", \"racism\", \"domestic dispute\", \"failing exams\"], \"uid\": \"7f8d0b66-e7c9-4f07-98db-36a2b13213ac\", \"values\": [875, 640, 574, 270, 120, 103, 61, 54, 49, 21], \"type\": \"pie\", \"hoverinfo\": \"label+percent\"}], {\"annotations\": [{\"x\": 0.1, \"text\": \"Number of Shooting for each cause\", \"font\": {\"size\": 15}, \"y\": -0.14, \"showarrow\": false}, {\"x\": 0.9, \"text\": \"Number of Victims for each cause\", \"font\": {\"size\": 15}, \"y\": -0.14, \"showarrow\": false}], \"title\": \" \\b Cause resulting in more number of shooting and number of people affected \\b\"}, {\"linkText\": \"Export to plot.ly\", \"showLink\": true, \"plotlyServerURL\": \"https://plot.ly\"})});</script><script type=\"text/javascript\">window.addEventListener(\"resize\", function(){window._Plotly.Plots.resize(document.getElementById(\"132f53b5-799d-4d56-8c82-27c6ed1e89dd\"));});</script>"
      ]
     },
     "metadata": {},
     "output_type": "display_data"
    }
   ],
   "source": [
    "trace1=go.Pie(values=ms_cause_cnt['Total victims'],labels=ms_cause_cnt['Cause'],\n",
    "              hoverinfo=\"label+percent+name\",name=\"Cause Resulted in Shooting\",hole=0.2,domain={'x':[0,.5]})\n",
    "trace2=go.Pie(values=ms_cause_sum['Total victims'],labels=ms_cause_sum[\"Cause\"],\n",
    "              hoverinfo=\"label+percent\",domain={'x':[0.5,1]},hole=0.2)\n",
    "annotations=[]\n",
    "annotations.append(dict(showarrow=False,font=dict(size=15),text='Number of Shooting for each cause',x=0.1,y=-0.14))\n",
    "annotations.append(dict(showarrow=False,font=dict(size=15),text='Number of Victims for each cause',x=0.9,y=-0.14))\n",
    "layout=dict(title=\" \\b Cause resulting in more number of shooting and number of people affected \\b\",\n",
    "            annotations=annotations)\n",
    "data=[trace1,trace2]\n",
    "py.iplot(dict(data=data,layout=layout))"
   ]
  },
  {
   "cell_type": "code",
   "execution_count": 51,
   "metadata": {},
   "outputs": [
    {
     "data": {
      "text/html": [
       "<div>\n",
       "<style scoped>\n",
       "    .dataframe tbody tr th:only-of-type {\n",
       "        vertical-align: middle;\n",
       "    }\n",
       "\n",
       "    .dataframe tbody tr th {\n",
       "        vertical-align: top;\n",
       "    }\n",
       "\n",
       "    .dataframe thead th {\n",
       "        text-align: right;\n",
       "    }\n",
       "</style>\n",
       "<table border=\"1\" class=\"dataframe\">\n",
       "  <thead>\n",
       "    <tr style=\"text-align: right;\">\n",
       "      <th></th>\n",
       "      <th>Race</th>\n",
       "      <th>Total victims</th>\n",
       "    </tr>\n",
       "  </thead>\n",
       "  <tbody>\n",
       "    <tr>\n",
       "      <th>5</th>\n",
       "      <td>White</td>\n",
       "      <td>144</td>\n",
       "    </tr>\n",
       "    <tr>\n",
       "      <th>1</th>\n",
       "      <td>Black</td>\n",
       "      <td>85</td>\n",
       "    </tr>\n",
       "    <tr>\n",
       "      <th>4</th>\n",
       "      <td>Other</td>\n",
       "      <td>66</td>\n",
       "    </tr>\n",
       "    <tr>\n",
       "      <th>0</th>\n",
       "      <td>Asian American</td>\n",
       "      <td>18</td>\n",
       "    </tr>\n",
       "    <tr>\n",
       "      <th>2</th>\n",
       "      <td>Latino</td>\n",
       "      <td>5</td>\n",
       "    </tr>\n",
       "    <tr>\n",
       "      <th>3</th>\n",
       "      <td>Native American</td>\n",
       "      <td>3</td>\n",
       "    </tr>\n",
       "  </tbody>\n",
       "</table>\n",
       "</div>"
      ],
      "text/plain": [
       "              Race  Total victims\n",
       "5            White            144\n",
       "1            Black             85\n",
       "4            Other             66\n",
       "0   Asian American             18\n",
       "2           Latino              5\n",
       "3  Native American              3"
      ]
     },
     "execution_count": 51,
     "metadata": {},
     "output_type": "execute_result"
    }
   ],
   "source": [
    "ms_race_cnt = useful_data[['Race', 'Total victims' ]].groupby(['Race'],\n",
    "                     as_index=False).count().sort_values(by='Total victims', ascending=False)\n",
    "ms_race_cnt"
   ]
  },
  {
   "cell_type": "code",
   "execution_count": 52,
   "metadata": {},
   "outputs": [
    {
     "data": {
      "text/html": [
       "<div>\n",
       "<style scoped>\n",
       "    .dataframe tbody tr th:only-of-type {\n",
       "        vertical-align: middle;\n",
       "    }\n",
       "\n",
       "    .dataframe tbody tr th {\n",
       "        vertical-align: top;\n",
       "    }\n",
       "\n",
       "    .dataframe thead th {\n",
       "        text-align: right;\n",
       "    }\n",
       "</style>\n",
       "<table border=\"1\" class=\"dataframe\">\n",
       "  <thead>\n",
       "    <tr style=\"text-align: right;\">\n",
       "      <th></th>\n",
       "      <th>Race</th>\n",
       "      <th>Total victims</th>\n",
       "    </tr>\n",
       "  </thead>\n",
       "  <tbody>\n",
       "    <tr>\n",
       "      <th>5</th>\n",
       "      <td>White</td>\n",
       "      <td>2001</td>\n",
       "    </tr>\n",
       "    <tr>\n",
       "      <th>1</th>\n",
       "      <td>Black</td>\n",
       "      <td>556</td>\n",
       "    </tr>\n",
       "    <tr>\n",
       "      <th>4</th>\n",
       "      <td>Other</td>\n",
       "      <td>474</td>\n",
       "    </tr>\n",
       "    <tr>\n",
       "      <th>0</th>\n",
       "      <td>Asian American</td>\n",
       "      <td>200</td>\n",
       "    </tr>\n",
       "    <tr>\n",
       "      <th>2</th>\n",
       "      <td>Latino</td>\n",
       "      <td>49</td>\n",
       "    </tr>\n",
       "    <tr>\n",
       "      <th>3</th>\n",
       "      <td>Native American</td>\n",
       "      <td>25</td>\n",
       "    </tr>\n",
       "  </tbody>\n",
       "</table>\n",
       "</div>"
      ],
      "text/plain": [
       "              Race  Total victims\n",
       "5            White           2001\n",
       "1            Black            556\n",
       "4            Other            474\n",
       "0   Asian American            200\n",
       "2           Latino             49\n",
       "3  Native American             25"
      ]
     },
     "execution_count": 52,
     "metadata": {},
     "output_type": "execute_result"
    }
   ],
   "source": [
    "ms_race_sum = useful_data[['Race', 'Total victims' ]].groupby(['Race'],\n",
    "                as_index=False).sum().sort_values(by='Total victims', ascending=False)\n",
    "ms_race_sum"
   ]
  },
  {
   "cell_type": "code",
   "execution_count": 53,
   "metadata": {},
   "outputs": [
    {
     "data": {
      "application/vnd.plotly.v1+json": {
       "config": {
        "linkText": "Export to plot.ly",
        "plotlyServerURL": "https://plot.ly",
        "showLink": true
       },
       "data": [
        {
         "domain": {
          "x": [
           0,
           0.5
          ]
         },
         "hole": 0.2,
         "hoverinfo": "label+percent+name",
         "labels": [
          "White",
          "Black",
          "Other",
          "Asian American",
          "Latino",
          "Native American"
         ],
         "name": "Race Resulted in More Shooting",
         "type": "pie",
         "uid": "6471cb8c-e6cb-49eb-a4a4-d670da1a4f06",
         "values": [
          144,
          85,
          66,
          18,
          5,
          3
         ]
        },
        {
         "domain": {
          "x": [
           0.5,
           1
          ]
         },
         "hole": 0.2,
         "hoverinfo": "label+percent",
         "labels": [
          "White",
          "Black",
          "Other",
          "Asian American",
          "Latino",
          "Native American"
         ],
         "type": "pie",
         "uid": "1dd23676-6681-463b-bfa6-48e68bbf45b2",
         "values": [
          2001,
          556,
          474,
          200,
          49,
          25
         ]
        }
       ],
       "layout": {
        "annotations": [
         {
          "font": {
           "size": 15
          },
          "showarrow": false,
          "text": "Number of Shooting by each Race",
          "x": 0.1,
          "y": -0.14
         },
         {
          "font": {
           "size": 15
          },
          "showarrow": false,
          "text": "Number of Victims by each Race",
          "x": 0.9,
          "y": -0.14
         }
        ],
        "title": " \b Number of shooting and Number of people affected by each Race"
       }
      },
      "text/html": [
       "<div id=\"ac53cab7-1c86-46bc-8d3c-355346370102\" style=\"height: 525px; width: 100%;\" class=\"plotly-graph-div\"></div><script type=\"text/javascript\">require([\"plotly\"], function(Plotly) { window.PLOTLYENV=window.PLOTLYENV || {};window.PLOTLYENV.BASE_URL=\"https://plot.ly\";Plotly.newPlot(\"ac53cab7-1c86-46bc-8d3c-355346370102\", [{\"name\": \"Race Resulted in More Shooting\", \"hole\": 0.2, \"domain\": {\"x\": [0, 0.5]}, \"labels\": [\"White\", \"Black\", \"Other\", \"Asian American\", \"Latino\", \"Native American\"], \"uid\": \"0bd32c48-d132-40d9-9de0-d3614f187acf\", \"values\": [144, 85, 66, 18, 5, 3], \"type\": \"pie\", \"hoverinfo\": \"label+percent+name\"}, {\"hole\": 0.2, \"domain\": {\"x\": [0.5, 1]}, \"labels\": [\"White\", \"Black\", \"Other\", \"Asian American\", \"Latino\", \"Native American\"], \"uid\": \"3f4882e8-f4be-429c-96c7-bc30e0035d62\", \"values\": [2001, 556, 474, 200, 49, 25], \"type\": \"pie\", \"hoverinfo\": \"label+percent\"}], {\"annotations\": [{\"x\": 0.1, \"text\": \"Number of Shooting by each Race\", \"font\": {\"size\": 15}, \"y\": -0.14, \"showarrow\": false}, {\"x\": 0.9, \"text\": \"Number of Victims by each Race\", \"font\": {\"size\": 15}, \"y\": -0.14, \"showarrow\": false}], \"title\": \" \\b Number of shooting and Number of people affected by each Race\"}, {\"linkText\": \"Export to plot.ly\", \"showLink\": true, \"plotlyServerURL\": \"https://plot.ly\"})});</script><script type=\"text/javascript\">window.addEventListener(\"resize\", function(){window._Plotly.Plots.resize(document.getElementById(\"ac53cab7-1c86-46bc-8d3c-355346370102\"));});</script>"
      ],
      "text/vnd.plotly.v1+html": [
       "<div id=\"ac53cab7-1c86-46bc-8d3c-355346370102\" style=\"height: 525px; width: 100%;\" class=\"plotly-graph-div\"></div><script type=\"text/javascript\">require([\"plotly\"], function(Plotly) { window.PLOTLYENV=window.PLOTLYENV || {};window.PLOTLYENV.BASE_URL=\"https://plot.ly\";Plotly.newPlot(\"ac53cab7-1c86-46bc-8d3c-355346370102\", [{\"name\": \"Race Resulted in More Shooting\", \"hole\": 0.2, \"domain\": {\"x\": [0, 0.5]}, \"labels\": [\"White\", \"Black\", \"Other\", \"Asian American\", \"Latino\", \"Native American\"], \"uid\": \"0bd32c48-d132-40d9-9de0-d3614f187acf\", \"values\": [144, 85, 66, 18, 5, 3], \"type\": \"pie\", \"hoverinfo\": \"label+percent+name\"}, {\"hole\": 0.2, \"domain\": {\"x\": [0.5, 1]}, \"labels\": [\"White\", \"Black\", \"Other\", \"Asian American\", \"Latino\", \"Native American\"], \"uid\": \"3f4882e8-f4be-429c-96c7-bc30e0035d62\", \"values\": [2001, 556, 474, 200, 49, 25], \"type\": \"pie\", \"hoverinfo\": \"label+percent\"}], {\"annotations\": [{\"x\": 0.1, \"text\": \"Number of Shooting by each Race\", \"font\": {\"size\": 15}, \"y\": -0.14, \"showarrow\": false}, {\"x\": 0.9, \"text\": \"Number of Victims by each Race\", \"font\": {\"size\": 15}, \"y\": -0.14, \"showarrow\": false}], \"title\": \" \\b Number of shooting and Number of people affected by each Race\"}, {\"linkText\": \"Export to plot.ly\", \"showLink\": true, \"plotlyServerURL\": \"https://plot.ly\"})});</script><script type=\"text/javascript\">window.addEventListener(\"resize\", function(){window._Plotly.Plots.resize(document.getElementById(\"ac53cab7-1c86-46bc-8d3c-355346370102\"));});</script>"
      ]
     },
     "metadata": {},
     "output_type": "display_data"
    }
   ],
   "source": [
    "trace1=go.Pie(values=ms_race_cnt['Total victims'],labels=ms_race_cnt['Race'],\n",
    "              hoverinfo=\"label+percent+name\",name=\"Race Resulted in More Shooting\",hole=0.2,domain={'x':[0,.5]})\n",
    "trace2=go.Pie(values=ms_race_sum['Total victims'],labels=ms_race_sum[\"Race\"],\n",
    "              hoverinfo=\"label+percent\",domain={'x':[0.5,1]},hole=0.2)\n",
    "annotations=[]\n",
    "annotations.append(dict(showarrow=False,font=dict(size=15),text='Number of Shooting by each Race',x=0.1,y=-0.14))\n",
    "annotations.append(dict(showarrow=False,font=dict(size=15),text='Number of Victims by each Race',x=0.9,y=-0.14))\n",
    "layout=dict(title=\" \\b Number of shooting and Number of people affected by each Race\",\n",
    "            annotations=annotations)\n",
    "data=[trace1,trace2]\n",
    "py.iplot(dict(data=data,layout=layout))"
   ]
  },
  {
   "cell_type": "markdown",
   "metadata": {},
   "source": [
    "White and black consitute for more number of Mass shootings as well impacting more victims. But, this statistic doesnt not give any clear picture as USA has predominantly more white people, followed by black and then other minorities like latinos, Asians, native Indians etc. The details arent clear to draw any inference based on the race of the shooter."
   ]
  },
  {
   "cell_type": "code",
   "execution_count": 54,
   "metadata": {},
   "outputs": [
    {
     "data": {
      "text/html": [
       "<div>\n",
       "<style scoped>\n",
       "    .dataframe tbody tr th:only-of-type {\n",
       "        vertical-align: middle;\n",
       "    }\n",
       "\n",
       "    .dataframe tbody tr th {\n",
       "        vertical-align: top;\n",
       "    }\n",
       "\n",
       "    .dataframe thead th {\n",
       "        text-align: right;\n",
       "    }\n",
       "</style>\n",
       "<table border=\"1\" class=\"dataframe\">\n",
       "  <thead>\n",
       "    <tr style=\"text-align: right;\">\n",
       "      <th></th>\n",
       "      <th>Cause</th>\n",
       "      <th>Race</th>\n",
       "      <th>Mental Health Issues</th>\n",
       "      <th>Total victims</th>\n",
       "    </tr>\n",
       "  </thead>\n",
       "  <tbody>\n",
       "    <tr>\n",
       "      <th>39</th>\n",
       "      <td>psycho</td>\n",
       "      <td>White</td>\n",
       "      <td>Yes</td>\n",
       "      <td>22</td>\n",
       "    </tr>\n",
       "    <tr>\n",
       "      <th>64</th>\n",
       "      <td>terrorism</td>\n",
       "      <td>White</td>\n",
       "      <td>Yes</td>\n",
       "      <td>18</td>\n",
       "    </tr>\n",
       "    <tr>\n",
       "      <th>37</th>\n",
       "      <td>psycho</td>\n",
       "      <td>White</td>\n",
       "      <td>No</td>\n",
       "      <td>11</td>\n",
       "    </tr>\n",
       "    <tr>\n",
       "      <th>60</th>\n",
       "      <td>terrorism</td>\n",
       "      <td>Other</td>\n",
       "      <td>Unknown</td>\n",
       "      <td>8</td>\n",
       "    </tr>\n",
       "    <tr>\n",
       "      <th>38</th>\n",
       "      <td>psycho</td>\n",
       "      <td>White</td>\n",
       "      <td>Unknown</td>\n",
       "      <td>8</td>\n",
       "    </tr>\n",
       "  </tbody>\n",
       "</table>\n",
       "</div>"
      ],
      "text/plain": [
       "        Cause   Race Mental Health Issues  Total victims\n",
       "39     psycho  White                  Yes             22\n",
       "64  terrorism  White                  Yes             18\n",
       "37     psycho  White                   No             11\n",
       "60  terrorism  Other              Unknown              8\n",
       "38     psycho  White              Unknown              8"
      ]
     },
     "execution_count": 54,
     "metadata": {},
     "output_type": "execute_result"
    }
   ],
   "source": [
    "ms_health_cnt = pd.DataFrame(useful_data[['Cause','Race', 'Mental Health Issues',\n",
    "                                 'Total victims']].groupby(['Cause','Race','Mental Health Issues'],\n",
    "                            as_index=False).count().sort_values(by='Total victims', ascending=False))\n",
    "ms_health_sum = pd.DataFrame(useful_data[['Cause','Race', 'Mental Health Issues',\n",
    "                                 'Total victims']].groupby(['Cause','Race','Mental Health Issues'], \n",
    "                    as_index=False).sum().sort_values(by='Total victims', ascending=False))\n",
    "ms_health_cnt.head()"
   ]
  },
  {
   "cell_type": "code",
   "execution_count": 55,
   "metadata": {},
   "outputs": [
    {
     "data": {
      "text/html": [
       "<div>\n",
       "<style scoped>\n",
       "    .dataframe tbody tr th:only-of-type {\n",
       "        vertical-align: middle;\n",
       "    }\n",
       "\n",
       "    .dataframe tbody tr th {\n",
       "        vertical-align: top;\n",
       "    }\n",
       "\n",
       "    .dataframe thead th {\n",
       "        text-align: right;\n",
       "    }\n",
       "</style>\n",
       "<table border=\"1\" class=\"dataframe\">\n",
       "  <thead>\n",
       "    <tr style=\"text-align: right;\">\n",
       "      <th></th>\n",
       "      <th>Cause</th>\n",
       "      <th>Race</th>\n",
       "      <th>Mental Health Issues</th>\n",
       "      <th>Total victims</th>\n",
       "    </tr>\n",
       "  </thead>\n",
       "  <tbody>\n",
       "    <tr>\n",
       "      <th>72</th>\n",
       "      <td>unknown</td>\n",
       "      <td>White</td>\n",
       "      <td>Unknown</td>\n",
       "      <td>585</td>\n",
       "    </tr>\n",
       "    <tr>\n",
       "      <th>64</th>\n",
       "      <td>terrorism</td>\n",
       "      <td>White</td>\n",
       "      <td>Yes</td>\n",
       "      <td>407</td>\n",
       "    </tr>\n",
       "    <tr>\n",
       "      <th>39</th>\n",
       "      <td>psycho</td>\n",
       "      <td>White</td>\n",
       "      <td>Yes</td>\n",
       "      <td>253</td>\n",
       "    </tr>\n",
       "    <tr>\n",
       "      <th>60</th>\n",
       "      <td>terrorism</td>\n",
       "      <td>Other</td>\n",
       "      <td>Unknown</td>\n",
       "      <td>95</td>\n",
       "    </tr>\n",
       "    <tr>\n",
       "      <th>53</th>\n",
       "      <td>terrorism</td>\n",
       "      <td>Asian American</td>\n",
       "      <td>Yes</td>\n",
       "      <td>83</td>\n",
       "    </tr>\n",
       "  </tbody>\n",
       "</table>\n",
       "</div>"
      ],
      "text/plain": [
       "        Cause            Race Mental Health Issues  Total victims\n",
       "72    unknown           White              Unknown            585\n",
       "64  terrorism           White                  Yes            407\n",
       "39     psycho           White                  Yes            253\n",
       "60  terrorism           Other              Unknown             95\n",
       "53  terrorism  Asian American                  Yes             83"
      ]
     },
     "execution_count": 55,
     "metadata": {},
     "output_type": "execute_result"
    }
   ],
   "source": [
    "ms_health_sum.head()"
   ]
  },
  {
   "cell_type": "code",
   "execution_count": 56,
   "metadata": {},
   "outputs": [
    {
     "data": {
      "text/plain": [
       "Text(0.5,0.98,'Number of Mass Shooting based on Race, Mental Health Issue and Cause')"
      ]
     },
     "execution_count": 56,
     "metadata": {},
     "output_type": "execute_result"
    },
    {
     "data": {
      "image/png": "[encoded data removed]",
      "text/plain": [
       "<matplotlib.figure.Figure at 0x7fa72f2f97f0>"
      ]
     },
     "metadata": {},
     "output_type": "display_data"
    }
   ],
   "source": [
    "\n",
    "trace1= sns.factorplot(x='Total victims',y='Cause',col='Mental Health Issues',hue='Race',size=5,aspect=0.6,\n",
    "                       col_wrap=3,ci=None,saturation=0.9,palette='hot',\n",
    "                       data=ms_health_cnt[ms_health_cnt['Total victims']>2],kind='bar')\n",
    "plt.subplots_adjust(top=0.8)\n",
    "trace1.fig.suptitle(\"Number of Mass Shooting based on Race, Mental Health Issue and Cause\")\n"
   ]
  },
  {
   "cell_type": "code",
   "execution_count": 57,
   "metadata": {},
   "outputs": [
    {
     "data": {
      "text/plain": [
       "Text(0.5,0.98,'Number of Victims based on Race, Mental Health Issue and Cause')"
      ]
     },
     "execution_count": 57,
     "metadata": {},
     "output_type": "execute_result"
    },
    {
     "data": {
      "image/png": "[encoded data removed]",
      "text/plain": [
       "<matplotlib.figure.Figure at 0x7fa72cda4160>"
      ]
     },
     "metadata": {},
     "output_type": "display_data"
    }
   ],
   "source": [
    "\n",
    "trace1= sns.factorplot(x='Total victims',y='Cause',col='Mental Health Issues',hue='Race',size=7,aspect=0.5,\n",
    "                       col_wrap=3,ci=None,saturation=0.9,palette='hot',\n",
    "                       data=ms_health_sum[ms_health_sum['Total victims']>10],kind='bar')\n",
    "plt.subplots_adjust(top=0.8)\n",
    "trace1.fig.suptitle(\"Number of Victims based on Race, Mental Health Issue and Cause\")\n"
   ]
  },
  {
   "cell_type": "code",
   "execution_count": 58,
   "metadata": {},
   "outputs": [],
   "source": [
    "impt_groups=my_data.pivot_table(values=['Total victims'],index=['Shooting_year','Race','Cause'],aggfunc=np.sum)"
   ]
  },
  {
   "cell_type": "code",
   "execution_count": 59,
   "metadata": {},
   "outputs": [
    {
     "data": {
      "text/html": [
       "<div>\n",
       "<style scoped>\n",
       "    .dataframe tbody tr th:only-of-type {\n",
       "        vertical-align: middle;\n",
       "    }\n",
       "\n",
       "    .dataframe tbody tr th {\n",
       "        vertical-align: top;\n",
       "    }\n",
       "\n",
       "    .dataframe thead th {\n",
       "        text-align: right;\n",
       "    }\n",
       "</style>\n",
       "<table border=\"1\" class=\"dataframe\">\n",
       "  <thead>\n",
       "    <tr style=\"text-align: right;\">\n",
       "      <th></th>\n",
       "      <th></th>\n",
       "      <th></th>\n",
       "      <th>Total victims</th>\n",
       "    </tr>\n",
       "    <tr>\n",
       "      <th>Shooting_year</th>\n",
       "      <th>Race</th>\n",
       "      <th>Cause</th>\n",
       "      <th></th>\n",
       "    </tr>\n",
       "  </thead>\n",
       "  <tbody>\n",
       "    <tr>\n",
       "      <th>1966</th>\n",
       "      <th>White</th>\n",
       "      <th>terrorism</th>\n",
       "      <td>54</td>\n",
       "    </tr>\n",
       "    <tr>\n",
       "      <th>1971</th>\n",
       "      <th>White</th>\n",
       "      <th>terrorism</th>\n",
       "      <td>5</td>\n",
       "    </tr>\n",
       "    <tr>\n",
       "      <th>1972</th>\n",
       "      <th>Black</th>\n",
       "      <th>psycho</th>\n",
       "      <td>22</td>\n",
       "    </tr>\n",
       "    <tr>\n",
       "      <th rowspan=\"2\" valign=\"top\">1974</th>\n",
       "      <th>Other</th>\n",
       "      <th>anger</th>\n",
       "      <td>4</td>\n",
       "    </tr>\n",
       "    <tr>\n",
       "      <th>White</th>\n",
       "      <th>terrorism</th>\n",
       "      <td>10</td>\n",
       "    </tr>\n",
       "    <tr>\n",
       "      <th rowspan=\"2\" valign=\"top\">1976</th>\n",
       "      <th rowspan=\"2\" valign=\"top\">White</th>\n",
       "      <th>anger</th>\n",
       "      <td>8</td>\n",
       "    </tr>\n",
       "    <tr>\n",
       "      <th>terrorism</th>\n",
       "      <td>9</td>\n",
       "    </tr>\n",
       "    <tr>\n",
       "      <th>1979</th>\n",
       "      <th>White</th>\n",
       "      <th>terrorism</th>\n",
       "      <td>11</td>\n",
       "    </tr>\n",
       "    <tr>\n",
       "      <th>1982</th>\n",
       "      <th>White</th>\n",
       "      <th>psycho</th>\n",
       "      <td>11</td>\n",
       "    </tr>\n",
       "    <tr>\n",
       "      <th rowspan=\"2\" valign=\"top\">1983</th>\n",
       "      <th>Asian American</th>\n",
       "      <th>terrorism</th>\n",
       "      <td>14</td>\n",
       "    </tr>\n",
       "    <tr>\n",
       "      <th>White</th>\n",
       "      <th>anger</th>\n",
       "      <td>4</td>\n",
       "    </tr>\n",
       "    <tr>\n",
       "      <th rowspan=\"3\" valign=\"top\">1984</th>\n",
       "      <th>Black</th>\n",
       "      <th>terrorism</th>\n",
       "      <td>14</td>\n",
       "    </tr>\n",
       "    <tr>\n",
       "      <th rowspan=\"2\" valign=\"top\">White</th>\n",
       "      <th>psycho</th>\n",
       "      <td>40</td>\n",
       "    </tr>\n",
       "    <tr>\n",
       "      <th>revenge</th>\n",
       "      <td>7</td>\n",
       "    </tr>\n",
       "    <tr>\n",
       "      <th>1985</th>\n",
       "      <th>Black</th>\n",
       "      <th>anger</th>\n",
       "      <td>3</td>\n",
       "    </tr>\n",
       "    <tr>\n",
       "      <th rowspan=\"2\" valign=\"top\">1986</th>\n",
       "      <th>Black</th>\n",
       "      <th>revenge</th>\n",
       "      <td>5</td>\n",
       "    </tr>\n",
       "    <tr>\n",
       "      <th>White</th>\n",
       "      <th>failing exams</th>\n",
       "      <td>4</td>\n",
       "    </tr>\n",
       "    <tr>\n",
       "      <th>1987</th>\n",
       "      <th>White</th>\n",
       "      <th>psycho</th>\n",
       "      <td>20</td>\n",
       "    </tr>\n",
       "    <tr>\n",
       "      <th rowspan=\"5\" valign=\"top\">1988</th>\n",
       "      <th>Black</th>\n",
       "      <th>terrorism</th>\n",
       "      <td>6</td>\n",
       "    </tr>\n",
       "    <tr>\n",
       "      <th rowspan=\"4\" valign=\"top\">White</th>\n",
       "      <th>frustration</th>\n",
       "      <td>3</td>\n",
       "    </tr>\n",
       "    <tr>\n",
       "      <th>psycho</th>\n",
       "      <td>11</td>\n",
       "    </tr>\n",
       "    <tr>\n",
       "      <th>revenge</th>\n",
       "      <td>11</td>\n",
       "    </tr>\n",
       "    <tr>\n",
       "      <th>terrorism</th>\n",
       "      <td>8</td>\n",
       "    </tr>\n",
       "    <tr>\n",
       "      <th rowspan=\"3\" valign=\"top\">1989</th>\n",
       "      <th rowspan=\"3\" valign=\"top\">White</th>\n",
       "      <th>frustration</th>\n",
       "      <td>20</td>\n",
       "    </tr>\n",
       "    <tr>\n",
       "      <th>psycho</th>\n",
       "      <td>4</td>\n",
       "    </tr>\n",
       "    <tr>\n",
       "      <th>terrorism</th>\n",
       "      <td>35</td>\n",
       "    </tr>\n",
       "    <tr>\n",
       "      <th>1990</th>\n",
       "      <th>Black</th>\n",
       "      <th>psycho</th>\n",
       "      <td>17</td>\n",
       "    </tr>\n",
       "    <tr>\n",
       "      <th rowspan=\"3\" valign=\"top\">1991</th>\n",
       "      <th rowspan=\"2\" valign=\"top\">Asian American</th>\n",
       "      <th>frustration</th>\n",
       "      <td>6</td>\n",
       "    </tr>\n",
       "    <tr>\n",
       "      <th>robbery</th>\n",
       "      <td>9</td>\n",
       "    </tr>\n",
       "    <tr>\n",
       "      <th>Black</th>\n",
       "      <th>revenge</th>\n",
       "      <td>3</td>\n",
       "    </tr>\n",
       "    <tr>\n",
       "      <th>...</th>\n",
       "      <th>...</th>\n",
       "      <th>...</th>\n",
       "      <td>...</td>\n",
       "    </tr>\n",
       "    <tr>\n",
       "      <th rowspan=\"13\" valign=\"top\">2015</th>\n",
       "      <th>Asian American</th>\n",
       "      <th>terrorism</th>\n",
       "      <td>35</td>\n",
       "    </tr>\n",
       "    <tr>\n",
       "      <th rowspan=\"5\" valign=\"top\">Black</th>\n",
       "      <th>anger</th>\n",
       "      <td>9</td>\n",
       "    </tr>\n",
       "    <tr>\n",
       "      <th>domestic dispute</th>\n",
       "      <td>4</td>\n",
       "    </tr>\n",
       "    <tr>\n",
       "      <th>psycho</th>\n",
       "      <td>19</td>\n",
       "    </tr>\n",
       "    <tr>\n",
       "      <th>revenge</th>\n",
       "      <td>19</td>\n",
       "    </tr>\n",
       "    <tr>\n",
       "      <th>terrorism</th>\n",
       "      <td>22</td>\n",
       "    </tr>\n",
       "    <tr>\n",
       "      <th rowspan=\"3\" valign=\"top\">Other</th>\n",
       "      <th>domestic dispute</th>\n",
       "      <td>12</td>\n",
       "    </tr>\n",
       "    <tr>\n",
       "      <th>psycho</th>\n",
       "      <td>10</td>\n",
       "    </tr>\n",
       "    <tr>\n",
       "      <th>terrorism</th>\n",
       "      <td>51</td>\n",
       "    </tr>\n",
       "    <tr>\n",
       "      <th rowspan=\"4\" valign=\"top\">White</th>\n",
       "      <th>anger</th>\n",
       "      <td>10</td>\n",
       "    </tr>\n",
       "    <tr>\n",
       "      <th>psycho</th>\n",
       "      <td>28</td>\n",
       "    </tr>\n",
       "    <tr>\n",
       "      <th>racism</th>\n",
       "      <td>5</td>\n",
       "    </tr>\n",
       "    <tr>\n",
       "      <th>terrorism</th>\n",
       "      <td>24</td>\n",
       "    </tr>\n",
       "    <tr>\n",
       "      <th rowspan=\"12\" valign=\"top\">2016</th>\n",
       "      <th rowspan=\"5\" valign=\"top\">Black</th>\n",
       "      <th>anger</th>\n",
       "      <td>12</td>\n",
       "    </tr>\n",
       "    <tr>\n",
       "      <th>frustration</th>\n",
       "      <td>7</td>\n",
       "    </tr>\n",
       "    <tr>\n",
       "      <th>psycho</th>\n",
       "      <td>20</td>\n",
       "    </tr>\n",
       "    <tr>\n",
       "      <th>racism</th>\n",
       "      <td>16</td>\n",
       "    </tr>\n",
       "    <tr>\n",
       "      <th>terrorism</th>\n",
       "      <td>7</td>\n",
       "    </tr>\n",
       "    <tr>\n",
       "      <th rowspan=\"4\" valign=\"top\">Other</th>\n",
       "      <th>anger</th>\n",
       "      <td>32</td>\n",
       "    </tr>\n",
       "    <tr>\n",
       "      <th>domestic dispute</th>\n",
       "      <td>9</td>\n",
       "    </tr>\n",
       "    <tr>\n",
       "      <th>psycho</th>\n",
       "      <td>3</td>\n",
       "    </tr>\n",
       "    <tr>\n",
       "      <th>terrorism</th>\n",
       "      <td>44</td>\n",
       "    </tr>\n",
       "    <tr>\n",
       "      <th rowspan=\"3\" valign=\"top\">White</th>\n",
       "      <th>anger</th>\n",
       "      <td>4</td>\n",
       "    </tr>\n",
       "    <tr>\n",
       "      <th>domestic dispute</th>\n",
       "      <td>18</td>\n",
       "    </tr>\n",
       "    <tr>\n",
       "      <th>psycho</th>\n",
       "      <td>16</td>\n",
       "    </tr>\n",
       "    <tr>\n",
       "      <th rowspan=\"5\" valign=\"top\">2017</th>\n",
       "      <th rowspan=\"2\" valign=\"top\">Black</th>\n",
       "      <th>racism</th>\n",
       "      <td>3</td>\n",
       "    </tr>\n",
       "    <tr>\n",
       "      <th>unknown</th>\n",
       "      <td>6</td>\n",
       "    </tr>\n",
       "    <tr>\n",
       "      <th>Latino</th>\n",
       "      <th>terrorism</th>\n",
       "      <td>11</td>\n",
       "    </tr>\n",
       "    <tr>\n",
       "      <th rowspan=\"2\" valign=\"top\">White</th>\n",
       "      <th>terrorism</th>\n",
       "      <td>3</td>\n",
       "    </tr>\n",
       "    <tr>\n",
       "      <th>unknown</th>\n",
       "      <td>634</td>\n",
       "    </tr>\n",
       "  </tbody>\n",
       "</table>\n",
       "<p>160 rows × 1 columns</p>\n",
       "</div>"
      ],
      "text/plain": [
       "                                               Total victims\n",
       "Shooting_year Race           Cause                          \n",
       "1966          White          terrorism                    54\n",
       "1971          White          terrorism                     5\n",
       "1972          Black          psycho                       22\n",
       "1974          Other          anger                         4\n",
       "              White          terrorism                    10\n",
       "1976          White          anger                         8\n",
       "                             terrorism                     9\n",
       "1979          White          terrorism                    11\n",
       "1982          White          psycho                       11\n",
       "1983          Asian American terrorism                    14\n",
       "              White          anger                         4\n",
       "1984          Black          terrorism                    14\n",
       "              White          psycho                       40\n",
       "                             revenge                       7\n",
       "1985          Black          anger                         3\n",
       "1986          Black          revenge                       5\n",
       "              White          failing exams                 4\n",
       "1987          White          psycho                       20\n",
       "1988          Black          terrorism                     6\n",
       "              White          frustration                   3\n",
       "                             psycho                       11\n",
       "                             revenge                      11\n",
       "                             terrorism                     8\n",
       "1989          White          frustration                  20\n",
       "                             psycho                        4\n",
       "                             terrorism                    35\n",
       "1990          Black          psycho                       17\n",
       "1991          Asian American frustration                   6\n",
       "                             robbery                       9\n",
       "              Black          revenge                       3\n",
       "...                                                      ...\n",
       "2015          Asian American terrorism                    35\n",
       "              Black          anger                         9\n",
       "                             domestic dispute              4\n",
       "                             psycho                       19\n",
       "                             revenge                      19\n",
       "                             terrorism                    22\n",
       "              Other          domestic dispute             12\n",
       "                             psycho                       10\n",
       "                             terrorism                    51\n",
       "              White          anger                        10\n",
       "                             psycho                       28\n",
       "                             racism                        5\n",
       "                             terrorism                    24\n",
       "2016          Black          anger                        12\n",
       "                             frustration                   7\n",
       "                             psycho                       20\n",
       "                             racism                       16\n",
       "                             terrorism                     7\n",
       "              Other          anger                        32\n",
       "                             domestic dispute              9\n",
       "                             psycho                        3\n",
       "                             terrorism                    44\n",
       "              White          anger                         4\n",
       "                             domestic dispute             18\n",
       "                             psycho                       16\n",
       "2017          Black          racism                        3\n",
       "                             unknown                       6\n",
       "              Latino         terrorism                    11\n",
       "              White          terrorism                     3\n",
       "                             unknown                     634\n",
       "\n",
       "[160 rows x 1 columns]"
      ]
     },
     "execution_count": 59,
     "metadata": {},
     "output_type": "execute_result"
    }
   ],
   "source": [
    "impt_groups"
   ]
  },
  {
   "cell_type": "code",
   "execution_count": 60,
   "metadata": {},
   "outputs": [
    {
     "data": {
      "text/html": [
       "<div>\n",
       "<style scoped>\n",
       "    .dataframe tbody tr th:only-of-type {\n",
       "        vertical-align: middle;\n",
       "    }\n",
       "\n",
       "    .dataframe tbody tr th {\n",
       "        vertical-align: top;\n",
       "    }\n",
       "\n",
       "    .dataframe thead th {\n",
       "        text-align: right;\n",
       "    }\n",
       "</style>\n",
       "<table border=\"1\" class=\"dataframe\">\n",
       "  <thead>\n",
       "    <tr style=\"text-align: right;\">\n",
       "      <th></th>\n",
       "      <th>State</th>\n",
       "      <th>Shooting_year</th>\n",
       "      <th>Latitude</th>\n",
       "      <th>Longitude</th>\n",
       "      <th>Fatalities</th>\n",
       "      <th>Desc</th>\n",
       "    </tr>\n",
       "  </thead>\n",
       "  <tbody>\n",
       "    <tr>\n",
       "      <th>3</th>\n",
       "      <td>Nevada</td>\n",
       "      <td>2017</td>\n",
       "      <td>36.181271</td>\n",
       "      <td>-115.134132</td>\n",
       "      <td>59</td>\n",
       "      <td>Nevada&lt;br&gt;Year 2017&lt;br&gt;Fatalities 59</td>\n",
       "    </tr>\n",
       "    <tr>\n",
       "      <th>13</th>\n",
       "      <td>Florida</td>\n",
       "      <td>2016</td>\n",
       "      <td>NaN</td>\n",
       "      <td>NaN</td>\n",
       "      <td>49</td>\n",
       "      <td>Florida&lt;br&gt;Year 2016&lt;br&gt;Fatalities 49</td>\n",
       "    </tr>\n",
       "    <tr>\n",
       "      <th>220</th>\n",
       "      <td>Virginia</td>\n",
       "      <td>2007</td>\n",
       "      <td>37.229573</td>\n",
       "      <td>-80.413939</td>\n",
       "      <td>32</td>\n",
       "      <td>Virginia&lt;br&gt;Year 2007&lt;br&gt;Fatalities 32</td>\n",
       "    </tr>\n",
       "    <tr>\n",
       "      <th>176</th>\n",
       "      <td>Connecticut</td>\n",
       "      <td>2012</td>\n",
       "      <td>41.411908</td>\n",
       "      <td>-73.311963</td>\n",
       "      <td>28</td>\n",
       "      <td>Connecticut&lt;br&gt;Year 2012&lt;br&gt;Fatalities 28</td>\n",
       "    </tr>\n",
       "    <tr>\n",
       "      <th>0</th>\n",
       "      <td>Texas</td>\n",
       "      <td>2017</td>\n",
       "      <td>NaN</td>\n",
       "      <td>NaN</td>\n",
       "      <td>26</td>\n",
       "      <td>Texas&lt;br&gt;Year 2017&lt;br&gt;Fatalities 26</td>\n",
       "    </tr>\n",
       "  </tbody>\n",
       "</table>\n",
       "</div>"
      ],
      "text/plain": [
       "            State  Shooting_year   Latitude   Longitude  Fatalities  \\\n",
       "3          Nevada           2017  36.181271 -115.134132          59   \n",
       "13        Florida           2016        NaN         NaN          49   \n",
       "220      Virginia           2007  37.229573  -80.413939          32   \n",
       "176   Connecticut           2012  41.411908  -73.311963          28   \n",
       "0           Texas           2017        NaN         NaN          26   \n",
       "\n",
       "                                           Desc  \n",
       "3          Nevada<br>Year 2017<br>Fatalities 59  \n",
       "13        Florida<br>Year 2016<br>Fatalities 49  \n",
       "220      Virginia<br>Year 2007<br>Fatalities 32  \n",
       "176   Connecticut<br>Year 2012<br>Fatalities 28  \n",
       "0           Texas<br>Year 2017<br>Fatalities 26  "
      ]
     },
     "execution_count": 60,
     "metadata": {},
     "output_type": "execute_result"
    }
   ],
   "source": [
    "ms_state = pd.DataFrame(useful_data[['State','Shooting_year', 'Latitude', 'Longitude', 'Fatalities']]\n",
    "                        [useful_data['Fatalities']>0].sort_values(by='Fatalities', ascending=False))\n",
    "ms_state['Desc'] = ms_state['State'] + '<br>Year ' + (ms_state['Shooting_year']).astype(str) +'<br>Fatalities ' + (ms_state['Fatalities']).astype(str)\n",
    "ms_state.head()"
   ]
  },
  {
   "cell_type": "code",
   "execution_count": 61,
   "metadata": {},
   "outputs": [
    {
     "data": {
      "text/plain": [
       "(array([ 0,  1,  2,  3,  4,  5,  6,  7,  8,  9, 10, 11, 12, 13, 14, 15, 16,\n",
       "        17, 18, 19, 20, 21, 22, 23, 24, 25, 26, 27, 28, 29, 30, 31, 32, 33,\n",
       "        34, 35, 36, 37, 38, 39, 40, 41, 42, 43, 44, 45, 46, 47, 48, 49, 50,\n",
       "        51, 52, 53, 54, 55, 56, 57, 58]),\n",
       " <a list of 59 Text xticklabel objects>)"
      ]
     },
     "execution_count": 61,
     "metadata": {},
     "output_type": "execute_result"
    },
    {
     "data": {
      "image/png": "[encoded data removed]",
      "text/plain": [
       "<matplotlib.figure.Figure at 0x7fa72f2a9208>"
      ]
     },
     "metadata": {},
     "output_type": "display_data"
    }
   ],
   "source": [
    "ms_update_state=pd.DataFrame(ms_state[['State','Fatalities']].groupby(['State'],\n",
    "                                as_index=False).sum().sort_values(by='Fatalities',ascending=False))\n",
    "plt.subplots(figsize=(17,8))\n",
    "sns.barplot(x=ms_update_state[ms_update_state['Fatalities']>2]['State'],\n",
    "            y=ms_update_state[ms_update_state['Fatalities']>2]['Fatalities'])\n",
    "plt.title('States that had most fatalities during shooting')\n",
    "plt.xticks(rotation=90)"
   ]
  },
  {
   "cell_type": "code",
   "execution_count": 62,
   "metadata": {
    "scrolled": true
   },
   "outputs": [
    {
     "data": {
      "text/html": [
       "<div>\n",
       "<style scoped>\n",
       "    .dataframe tbody tr th:only-of-type {\n",
       "        vertical-align: middle;\n",
       "    }\n",
       "\n",
       "    .dataframe tbody tr th {\n",
       "        vertical-align: top;\n",
       "    }\n",
       "\n",
       "    .dataframe thead th {\n",
       "        text-align: right;\n",
       "    }\n",
       "</style>\n",
       "<table border=\"1\" class=\"dataframe\">\n",
       "  <thead>\n",
       "    <tr style=\"text-align: right;\">\n",
       "      <th></th>\n",
       "      <th>Shooting_year</th>\n",
       "      <th>Fatalities</th>\n",
       "      <th>Injured</th>\n",
       "      <th>Total victims</th>\n",
       "      <th>State</th>\n",
       "      <th>Race</th>\n",
       "      <th>Cause</th>\n",
       "      <th>Mental Health Issues</th>\n",
       "      <th>FTarget</th>\n",
       "      <th>Area</th>\n",
       "    </tr>\n",
       "  </thead>\n",
       "  <tbody>\n",
       "    <tr>\n",
       "      <th>91</th>\n",
       "      <td>2015</td>\n",
       "      <td>1</td>\n",
       "      <td>3</td>\n",
       "      <td>4</td>\n",
       "      <td>Arizona</td>\n",
       "      <td>White</td>\n",
       "      <td>anger</td>\n",
       "      <td>Unknown</td>\n",
       "      <td>School</td>\n",
       "      <td>School</td>\n",
       "    </tr>\n",
       "    <tr>\n",
       "      <th>92</th>\n",
       "      <td>2015</td>\n",
       "      <td>10</td>\n",
       "      <td>7</td>\n",
       "      <td>16</td>\n",
       "      <td>Oregon</td>\n",
       "      <td>Other</td>\n",
       "      <td>terrorism</td>\n",
       "      <td>Unknown</td>\n",
       "      <td>School</td>\n",
       "      <td>School</td>\n",
       "    </tr>\n",
       "    <tr>\n",
       "      <th>148</th>\n",
       "      <td>2014</td>\n",
       "      <td>1</td>\n",
       "      <td>3</td>\n",
       "      <td>3</td>\n",
       "      <td>Florida</td>\n",
       "      <td>Black</td>\n",
       "      <td>terrorism</td>\n",
       "      <td>Yes</td>\n",
       "      <td>Random</td>\n",
       "      <td>School</td>\n",
       "    </tr>\n",
       "    <tr>\n",
       "      <th>153</th>\n",
       "      <td>2014</td>\n",
       "      <td>1</td>\n",
       "      <td>2</td>\n",
       "      <td>3</td>\n",
       "      <td>Washington</td>\n",
       "      <td>Other</td>\n",
       "      <td>terrorism</td>\n",
       "      <td>Yes</td>\n",
       "      <td>School</td>\n",
       "      <td>School</td>\n",
       "    </tr>\n",
       "    <tr>\n",
       "      <th>187</th>\n",
       "      <td>2012</td>\n",
       "      <td>7</td>\n",
       "      <td>3</td>\n",
       "      <td>10</td>\n",
       "      <td>California</td>\n",
       "      <td>Asian American</td>\n",
       "      <td>terrorism</td>\n",
       "      <td>Yes</td>\n",
       "      <td>Random</td>\n",
       "      <td>School</td>\n",
       "    </tr>\n",
       "  </tbody>\n",
       "</table>\n",
       "</div>"
      ],
      "text/plain": [
       "     Shooting_year  Fatalities  Injured  Total victims        State  \\\n",
       "91            2015           1        3              4      Arizona   \n",
       "92            2015          10        7             16       Oregon   \n",
       "148           2014           1        3              3      Florida   \n",
       "153           2014           1        2              3   Washington   \n",
       "187           2012           7        3             10   California   \n",
       "\n",
       "               Race      Cause Mental Health Issues FTarget    Area  \n",
       "91            White      anger              Unknown  School  School  \n",
       "92            Other  terrorism              Unknown  School  School  \n",
       "148           Black  terrorism                  Yes  Random  School  \n",
       "153           Other  terrorism                  Yes  School  School  \n",
       "187  Asian American  terrorism                  Yes  Random  School  "
      ]
     },
     "execution_count": 62,
     "metadata": {},
     "output_type": "execute_result"
    }
   ],
   "source": [
    "ms_school = useful_data[['Shooting_year', 'Fatalities', 'Injured', 'Total victims','State',\n",
    "                         'Race','Cause','Mental Health Issues',\n",
    "                'FTarget', 'Area']][useful_data['Area'] == 'School']\n",
    "ms_school.head()"
   ]
  },
  {
   "cell_type": "code",
   "execution_count": 63,
   "metadata": {},
   "outputs": [],
   "source": [
    "ms_school0 = ms_school[['Shooting_year', 'Total victims' ]].groupby(['Shooting_year'], \n",
    "                    as_index=False).sum().sort_values(by='Shooting_year', ascending=False)\n",
    "ms_school1 = ms_school[['Shooting_year', 'Fatalities' ]].groupby(['Shooting_year'],\n",
    "                    as_index=False).sum().sort_values(by='Shooting_year', ascending=False)\n",
    "ms_school2 = ms_school[['Shooting_year', 'Injured' ]].groupby(['Shooting_year'], \n",
    "                    as_index=False).sum().sort_values(by='Shooting_year', ascending=False)\n",
    "ms_school3 = ms_school[['Shooting_year', 'Total victims' ]].groupby(['Shooting_year'], \n",
    "            as_index=False).count().sort_values(by='Shooting_year', ascending=False)"
   ]
  },
  {
   "cell_type": "code",
   "execution_count": 64,
   "metadata": {},
   "outputs": [],
   "source": [
    "trace1=go.Scatter(mode='lines+markers',x=ms_school0['Shooting_year'],\n",
    "                  y=ms_school0['Total victims'],name='Total Victims')\n",
    "trace2=go.Scatter(mode='lines+markers',x=ms_school1['Shooting_year'],\n",
    "                  y=ms_school1['Fatalities'],name='Fatalities')\n",
    "trace3=go.Scatter(mode='lines+markers',x=ms_school2['Shooting_year'],\n",
    "                  y=ms_school2['Injured'],name='Injuries')\n",
    "trace4=go.Scatter(mode='lines',x=ms_school3['Shooting_year'],\n",
    "                  y=ms_school3['Total victims'],name='Count of Shooting')\n",
    "layout=dict(title='Shooting Stats in the school')"
   ]
  },
  {
   "cell_type": "code",
   "execution_count": 65,
   "metadata": {},
   "outputs": [
    {
     "data": {
      "application/vnd.plotly.v1+json": {
       "config": {
        "linkText": "Export to plot.ly",
        "plotlyServerURL": "https://plot.ly",
        "showLink": true
       },
       "data": [
        {
         "mode": "lines+markers",
         "name": "Total Victims",
         "type": "scatter",
         "uid": "e3376ade-c060-4d7b-be57-68ecb9c1c790",
         "x": [
          2015,
          2014,
          2012,
          2011,
          2010,
          2008,
          2007,
          2003,
          2002,
          2001,
          1999,
          1998,
          1997,
          1996,
          1995,
          1994,
          1993,
          1992,
          1991,
          1989,
          1988,
          1986,
          1985,
          1982,
          1976,
          1974,
          1966
         ],
         "y": [
          20,
          6,
          16,
          4,
          6,
          32,
          79,
          3,
          9,
          15,
          47,
          15,
          12,
          7,
          3,
          4,
          10,
          20,
          6,
          35,
          14,
          9,
          4,
          3,
          17,
          4,
          54
         ]
        },
        {
         "mode": "lines+markers",
         "name": "Fatalities",
         "type": "scatter",
         "uid": "1da74227-7f14-48d1-a350-28e0eb3f8313",
         "x": [
          2015,
          2014,
          2012,
          2011,
          2010,
          2008,
          2007,
          2003,
          2002,
          2001,
          1999,
          1998,
          1997,
          1996,
          1995,
          1994,
          1993,
          1992,
          1991,
          1989,
          1988,
          1986,
          1985,
          1982,
          1976,
          1974,
          1966
         ],
         "y": [
          11,
          2,
          10,
          1,
          0,
          5,
          33,
          1,
          7,
          2,
          15,
          5,
          5,
          6,
          2,
          1,
          3,
          6,
          6,
          6,
          3,
          2,
          1,
          1,
          8,
          1,
          22
         ]
        },
        {
         "mode": "lines+markers",
         "name": "Injuries",
         "type": "scatter",
         "uid": "570258bb-2fad-4d99-bbcb-f7b4e31cea72",
         "x": [
          2015,
          2014,
          2012,
          2011,
          2010,
          2008,
          2007,
          2003,
          2002,
          2001,
          1999,
          1998,
          1997,
          1996,
          1995,
          1994,
          1993,
          1992,
          1991,
          1989,
          1988,
          1986,
          1985,
          1982,
          1976,
          1974,
          1966
         ],
         "y": [
          10,
          5,
          6,
          3,
          3,
          25,
          47,
          2,
          3,
          13,
          34,
          10,
          7,
          1,
          1,
          3,
          9,
          14,
          1,
          30,
          11,
          7,
          3,
          2,
          9,
          3,
          33
         ]
        },
        {
         "mode": "lines",
         "name": "Count of Shooting",
         "type": "scatter",
         "uid": "6e4fb0f3-033e-4b8f-9123-2b97258821c3",
         "x": [
          2015,
          2014,
          2012,
          2011,
          2010,
          2008,
          2007,
          2003,
          2002,
          2001,
          1999,
          1998,
          1997,
          1996,
          1995,
          1994,
          1993,
          1992,
          1991,
          1989,
          1988,
          1986,
          1985,
          1982,
          1976,
          1974,
          1966
         ],
         "y": [
          2,
          2,
          2,
          1,
          1,
          3,
          5,
          1,
          2,
          1,
          3,
          1,
          2,
          2,
          1,
          1,
          3,
          2,
          1,
          1,
          2,
          2,
          1,
          1,
          2,
          1,
          2
         ]
        }
       ],
       "layout": {
        "title": "Shooting Stats in the school"
       }
      },
      "text/html": [
       "<div id=\"761a29c5-7205-4e42-a57d-9ff8e64ca096\" style=\"height: 525px; width: 100%;\" class=\"plotly-graph-div\"></div><script type=\"text/javascript\">require([\"plotly\"], function(Plotly) { window.PLOTLYENV=window.PLOTLYENV || {};window.PLOTLYENV.BASE_URL=\"https://plot.ly\";Plotly.newPlot(\"761a29c5-7205-4e42-a57d-9ff8e64ca096\", [{\"name\": \"Total Victims\", \"y\": [20, 6, 16, 4, 6, 32, 79, 3, 9, 15, 47, 15, 12, 7, 3, 4, 10, 20, 6, 35, 14, 9, 4, 3, 17, 4, 54], \"x\": [2015, 2014, 2012, 2011, 2010, 2008, 2007, 2003, 2002, 2001, 1999, 1998, 1997, 1996, 1995, 1994, 1993, 1992, 1991, 1989, 1988, 1986, 1985, 1982, 1976, 1974, 1966], \"uid\": \"4125c3e7-815d-46a1-ab0a-8c303151fb2b\", \"mode\": \"lines+markers\", \"type\": \"scatter\"}, {\"name\": \"Fatalities\", \"y\": [11, 2, 10, 1, 0, 5, 33, 1, 7, 2, 15, 5, 5, 6, 2, 1, 3, 6, 6, 6, 3, 2, 1, 1, 8, 1, 22], \"x\": [2015, 2014, 2012, 2011, 2010, 2008, 2007, 2003, 2002, 2001, 1999, 1998, 1997, 1996, 1995, 1994, 1993, 1992, 1991, 1989, 1988, 1986, 1985, 1982, 1976, 1974, 1966], \"uid\": \"e472713f-2947-4273-9e58-b43628aec896\", \"mode\": \"lines+markers\", \"type\": \"scatter\"}, {\"name\": \"Injuries\", \"y\": [10, 5, 6, 3, 3, 25, 47, 2, 3, 13, 34, 10, 7, 1, 1, 3, 9, 14, 1, 30, 11, 7, 3, 2, 9, 3, 33], \"x\": [2015, 2014, 2012, 2011, 2010, 2008, 2007, 2003, 2002, 2001, 1999, 1998, 1997, 1996, 1995, 1994, 1993, 1992, 1991, 1989, 1988, 1986, 1985, 1982, 1976, 1974, 1966], \"uid\": \"c8a66568-de6b-414e-9467-5b1ddc48fb5c\", \"mode\": \"lines+markers\", \"type\": \"scatter\"}, {\"name\": \"Count of Shooting\", \"y\": [2, 2, 2, 1, 1, 3, 5, 1, 2, 1, 3, 1, 2, 2, 1, 1, 3, 2, 1, 1, 2, 2, 1, 1, 2, 1, 2], \"x\": [2015, 2014, 2012, 2011, 2010, 2008, 2007, 2003, 2002, 2001, 1999, 1998, 1997, 1996, 1995, 1994, 1993, 1992, 1991, 1989, 1988, 1986, 1985, 1982, 1976, 1974, 1966], \"uid\": \"8132311d-e4e4-4669-a403-94fdb73edf7d\", \"mode\": \"lines\", \"type\": \"scatter\"}], {\"title\": \"Shooting Stats in the school\"}, {\"linkText\": \"Export to plot.ly\", \"showLink\": true, \"plotlyServerURL\": \"https://plot.ly\"})});</script><script type=\"text/javascript\">window.addEventListener(\"resize\", function(){window._Plotly.Plots.resize(document.getElementById(\"761a29c5-7205-4e42-a57d-9ff8e64ca096\"));});</script>"
      ],
      "text/vnd.plotly.v1+html": [
       "<div id=\"761a29c5-7205-4e42-a57d-9ff8e64ca096\" style=\"height: 525px; width: 100%;\" class=\"plotly-graph-div\"></div><script type=\"text/javascript\">require([\"plotly\"], function(Plotly) { window.PLOTLYENV=window.PLOTLYENV || {};window.PLOTLYENV.BASE_URL=\"https://plot.ly\";Plotly.newPlot(\"761a29c5-7205-4e42-a57d-9ff8e64ca096\", [{\"name\": \"Total Victims\", \"y\": [20, 6, 16, 4, 6, 32, 79, 3, 9, 15, 47, 15, 12, 7, 3, 4, 10, 20, 6, 35, 14, 9, 4, 3, 17, 4, 54], \"x\": [2015, 2014, 2012, 2011, 2010, 2008, 2007, 2003, 2002, 2001, 1999, 1998, 1997, 1996, 1995, 1994, 1993, 1992, 1991, 1989, 1988, 1986, 1985, 1982, 1976, 1974, 1966], \"uid\": \"4125c3e7-815d-46a1-ab0a-8c303151fb2b\", \"mode\": \"lines+markers\", \"type\": \"scatter\"}, {\"name\": \"Fatalities\", \"y\": [11, 2, 10, 1, 0, 5, 33, 1, 7, 2, 15, 5, 5, 6, 2, 1, 3, 6, 6, 6, 3, 2, 1, 1, 8, 1, 22], \"x\": [2015, 2014, 2012, 2011, 2010, 2008, 2007, 2003, 2002, 2001, 1999, 1998, 1997, 1996, 1995, 1994, 1993, 1992, 1991, 1989, 1988, 1986, 1985, 1982, 1976, 1974, 1966], \"uid\": \"e472713f-2947-4273-9e58-b43628aec896\", \"mode\": \"lines+markers\", \"type\": \"scatter\"}, {\"name\": \"Injuries\", \"y\": [10, 5, 6, 3, 3, 25, 47, 2, 3, 13, 34, 10, 7, 1, 1, 3, 9, 14, 1, 30, 11, 7, 3, 2, 9, 3, 33], \"x\": [2015, 2014, 2012, 2011, 2010, 2008, 2007, 2003, 2002, 2001, 1999, 1998, 1997, 1996, 1995, 1994, 1993, 1992, 1991, 1989, 1988, 1986, 1985, 1982, 1976, 1974, 1966], \"uid\": \"c8a66568-de6b-414e-9467-5b1ddc48fb5c\", \"mode\": \"lines+markers\", \"type\": \"scatter\"}, {\"name\": \"Count of Shooting\", \"y\": [2, 2, 2, 1, 1, 3, 5, 1, 2, 1, 3, 1, 2, 2, 1, 1, 3, 2, 1, 1, 2, 2, 1, 1, 2, 1, 2], \"x\": [2015, 2014, 2012, 2011, 2010, 2008, 2007, 2003, 2002, 2001, 1999, 1998, 1997, 1996, 1995, 1994, 1993, 1992, 1991, 1989, 1988, 1986, 1985, 1982, 1976, 1974, 1966], \"uid\": \"8132311d-e4e4-4669-a403-94fdb73edf7d\", \"mode\": \"lines\", \"type\": \"scatter\"}], {\"title\": \"Shooting Stats in the school\"}, {\"linkText\": \"Export to plot.ly\", \"showLink\": true, \"plotlyServerURL\": \"https://plot.ly\"})});</script><script type=\"text/javascript\">window.addEventListener(\"resize\", function(){window._Plotly.Plots.resize(document.getElementById(\"761a29c5-7205-4e42-a57d-9ff8e64ca096\"));});</script>"
      ]
     },
     "metadata": {},
     "output_type": "display_data"
    }
   ],
   "source": [
    "data=[trace1,trace2,trace3,trace4]\n",
    "py.iplot(dict(data=data,layout=layout))"
   ]
  },
  {
   "cell_type": "code",
   "execution_count": 66,
   "metadata": {},
   "outputs": [],
   "source": [
    "ms_sch_target_cnt = ms_school[['FTarget', 'Total victims' ]].groupby(['FTarget'],\n",
    "            as_index=False).count().sort_values(by='Total victims', ascending=False)\n",
    "ms_sch_target_sum = ms_school[['FTarget', 'Total victims' ]].groupby(['FTarget'],\n",
    "        as_index=False).sum().sort_values(by='Total victims', ascending=False)"
   ]
  },
  {
   "cell_type": "code",
   "execution_count": 67,
   "metadata": {},
   "outputs": [
    {
     "data": {
      "application/vnd.plotly.v1+json": {
       "config": {
        "linkText": "Export to plot.ly",
        "plotlyServerURL": "https://plot.ly",
        "showLink": true
       },
       "data": [
        {
         "domain": {
          "x": [
           0,
           0.5
          ]
         },
         "hole": 0.2,
         "hoverinfo": "label+percent+name",
         "labels": [
          "School",
          "Random",
          "Coworkers",
          "Family",
          "prayer group"
         ],
         "name": "Target type in Shooting",
         "type": "pie",
         "uid": "2b276a27-ea48-4183-9b46-7b0ff5b0deb9",
         "values": [
          31,
          11,
          3,
          1,
          1
         ]
        },
        {
         "domain": {
          "x": [
           0.5,
           1
          ]
         },
         "hole": 0.2,
         "hoverinfo": "label+percent",
         "labels": [
          "School",
          "Random",
          "Coworkers",
          "prayer group",
          "Family"
         ],
         "type": "pie",
         "uid": "e952f380-cbde-4cde-a555-12d5a779b184",
         "values": [
          273,
          151,
          15,
          8,
          4
         ]
        }
       ],
       "layout": {
        "annotations": [
         {
          "font": {
           "size": 15
          },
          "showarrow": false,
          "text": "Target type in Shooting",
          "x": 0.1,
          "y": -0.14
         },
         {
          "font": {
           "size": 15
          },
          "showarrow": false,
          "text": "Victims type in Shooting",
          "x": 0.9,
          "y": -0.14
         }
        ],
        "title": " \b Type of people in shooting and type of people affected in victims \b"
       }
      },
      "text/html": [
       "<div id=\"943a9b58-f2d4-486c-be82-b3e1a854b0cf\" style=\"height: 525px; width: 100%;\" class=\"plotly-graph-div\"></div><script type=\"text/javascript\">require([\"plotly\"], function(Plotly) { window.PLOTLYENV=window.PLOTLYENV || {};window.PLOTLYENV.BASE_URL=\"https://plot.ly\";Plotly.newPlot(\"943a9b58-f2d4-486c-be82-b3e1a854b0cf\", [{\"name\": \"Target type in Shooting\", \"hole\": 0.2, \"domain\": {\"x\": [0, 0.5]}, \"labels\": [\"School\", \"Random\", \"Coworkers\", \"Family\", \"prayer group\"], \"uid\": \"d3de1da3-368b-4c02-bc36-3a72c28b59da\", \"values\": [31, 11, 3, 1, 1], \"type\": \"pie\", \"hoverinfo\": \"label+percent+name\"}, {\"hole\": 0.2, \"domain\": {\"x\": [0.5, 1]}, \"labels\": [\"School\", \"Random\", \"Coworkers\", \"prayer group\", \"Family\"], \"uid\": \"f8fb6713-8d01-4ef5-82c9-dd957673b777\", \"values\": [273, 151, 15, 8, 4], \"type\": \"pie\", \"hoverinfo\": \"label+percent\"}], {\"annotations\": [{\"x\": 0.1, \"text\": \"Target type in Shooting\", \"font\": {\"size\": 15}, \"y\": -0.14, \"showarrow\": false}, {\"x\": 0.9, \"text\": \"Victims type in Shooting\", \"font\": {\"size\": 15}, \"y\": -0.14, \"showarrow\": false}], \"title\": \" \\b Type of people in shooting and type of people affected in victims \\b\"}, {\"linkText\": \"Export to plot.ly\", \"showLink\": true, \"plotlyServerURL\": \"https://plot.ly\"})});</script><script type=\"text/javascript\">window.addEventListener(\"resize\", function(){window._Plotly.Plots.resize(document.getElementById(\"943a9b58-f2d4-486c-be82-b3e1a854b0cf\"));});</script>"
      ],
      "text/vnd.plotly.v1+html": [
       "<div id=\"943a9b58-f2d4-486c-be82-b3e1a854b0cf\" style=\"height: 525px; width: 100%;\" class=\"plotly-graph-div\"></div><script type=\"text/javascript\">require([\"plotly\"], function(Plotly) { window.PLOTLYENV=window.PLOTLYENV || {};window.PLOTLYENV.BASE_URL=\"https://plot.ly\";Plotly.newPlot(\"943a9b58-f2d4-486c-be82-b3e1a854b0cf\", [{\"name\": \"Target type in Shooting\", \"hole\": 0.2, \"domain\": {\"x\": [0, 0.5]}, \"labels\": [\"School\", \"Random\", \"Coworkers\", \"Family\", \"prayer group\"], \"uid\": \"d3de1da3-368b-4c02-bc36-3a72c28b59da\", \"values\": [31, 11, 3, 1, 1], \"type\": \"pie\", \"hoverinfo\": \"label+percent+name\"}, {\"hole\": 0.2, \"domain\": {\"x\": [0.5, 1]}, \"labels\": [\"School\", \"Random\", \"Coworkers\", \"prayer group\", \"Family\"], \"uid\": \"f8fb6713-8d01-4ef5-82c9-dd957673b777\", \"values\": [273, 151, 15, 8, 4], \"type\": \"pie\", \"hoverinfo\": \"label+percent\"}], {\"annotations\": [{\"x\": 0.1, \"text\": \"Target type in Shooting\", \"font\": {\"size\": 15}, \"y\": -0.14, \"showarrow\": false}, {\"x\": 0.9, \"text\": \"Victims type in Shooting\", \"font\": {\"size\": 15}, \"y\": -0.14, \"showarrow\": false}], \"title\": \" \\b Type of people in shooting and type of people affected in victims \\b\"}, {\"linkText\": \"Export to plot.ly\", \"showLink\": true, \"plotlyServerURL\": \"https://plot.ly\"})});</script><script type=\"text/javascript\">window.addEventListener(\"resize\", function(){window._Plotly.Plots.resize(document.getElementById(\"943a9b58-f2d4-486c-be82-b3e1a854b0cf\"));});</script>"
      ]
     },
     "metadata": {},
     "output_type": "display_data"
    }
   ],
   "source": [
    "trace1=go.Pie(values=ms_sch_target_cnt['Total victims'],labels=ms_sch_target_cnt['FTarget'],\n",
    "              hoverinfo=\"label+percent+name\",name=\"Target type in Shooting\",hole=0.2,domain={'x':[0,.5]})\n",
    "trace2=go.Pie(values=ms_sch_target_sum['Total victims'],labels=ms_sch_target_sum[\"FTarget\"],\n",
    "              hoverinfo=\"label+percent\",domain={'x':[0.5,1]},hole=0.2)\n",
    "annotations=[]\n",
    "annotations.append(dict(showarrow=False,font=dict(size=15),text='Target type in Shooting',x=0.1,y=-0.14))\n",
    "annotations.append(dict(showarrow=False,font=dict(size=15),text='Victims type in Shooting',x=0.9,y=-0.14))\n",
    "layout=dict(title=\" \\b Type of people in shooting and type of people affected in victims \\b\",\n",
    "            annotations=annotations)\n",
    "data=[trace1,trace2]\n",
    "py.iplot(dict(data=data,layout=layout))"
   ]
  },
  {
   "cell_type": "code",
   "execution_count": 68,
   "metadata": {},
   "outputs": [
    {
     "data": {
      "text/plain": [
       "<seaborn.axisgrid.FacetGrid at 0x7fa72f04bfd0>"
      ]
     },
     "execution_count": 68,
     "metadata": {},
     "output_type": "execute_result"
    },
    {
     "data": {
      "image/png": "[encoded data removed]",
      "text/plain": [
       "<matplotlib.figure.Figure at 0x7fa72f047a90>"
      ]
     },
     "metadata": {},
     "output_type": "display_data"
    }
   ],
   "source": [
    "\n",
    "g = sns.factorplot(x='FTarget', y='Total victims', col='Race', hue= 'Cause', kind='bar', \n",
    "                   data=ms_school[ms_school['Total victims']>5], saturation=.8,\n",
    "               ci=None, aspect=.7,  palette='Set1')\n",
    "g.set_xticklabels(step=1,rotation=45)"
   ]
  },
  {
   "cell_type": "code",
   "execution_count": 69,
   "metadata": {},
   "outputs": [],
   "source": [
    "gender_data=pd.DataFrame(useful_data[['Gender','Total victims']].groupby(['Gender'],\n",
    "                                as_index=False).sum().sort_values(by='Total victims',ascending=False))"
   ]
  },
  {
   "cell_type": "code",
   "execution_count": 70,
   "metadata": {},
   "outputs": [
    {
     "data": {
      "text/html": [
       "<div>\n",
       "<style scoped>\n",
       "    .dataframe tbody tr th:only-of-type {\n",
       "        vertical-align: middle;\n",
       "    }\n",
       "\n",
       "    .dataframe tbody tr th {\n",
       "        vertical-align: top;\n",
       "    }\n",
       "\n",
       "    .dataframe thead th {\n",
       "        text-align: right;\n",
       "    }\n",
       "</style>\n",
       "<table border=\"1\" class=\"dataframe\">\n",
       "  <thead>\n",
       "    <tr style=\"text-align: right;\">\n",
       "      <th></th>\n",
       "      <th>Gender</th>\n",
       "      <th>Total victims</th>\n",
       "    </tr>\n",
       "  </thead>\n",
       "  <tbody>\n",
       "    <tr>\n",
       "      <th>1</th>\n",
       "      <td>Male</td>\n",
       "      <td>3096</td>\n",
       "    </tr>\n",
       "    <tr>\n",
       "      <th>3</th>\n",
       "      <td>Unknown</td>\n",
       "      <td>98</td>\n",
       "    </tr>\n",
       "    <tr>\n",
       "      <th>2</th>\n",
       "      <td>Male/Female</td>\n",
       "      <td>83</td>\n",
       "    </tr>\n",
       "    <tr>\n",
       "      <th>0</th>\n",
       "      <td>Female</td>\n",
       "      <td>38</td>\n",
       "    </tr>\n",
       "  </tbody>\n",
       "</table>\n",
       "</div>"
      ],
      "text/plain": [
       "        Gender  Total victims\n",
       "1         Male           3096\n",
       "3      Unknown             98\n",
       "2  Male/Female             83\n",
       "0       Female             38"
      ]
     },
     "execution_count": 70,
     "metadata": {},
     "output_type": "execute_result"
    }
   ],
   "source": [
    "gender_data"
   ]
  },
  {
   "cell_type": "markdown",
   "metadata": {},
   "source": [
    "Various colors : aliceblue, antiquewhite, aqua, aquamarine, azure,\n",
    "            beige, bisque, black, blanchedalmond, blue,\n",
    "            blueviolet, brown, burlywood, cadetblue,\n",
    "            chartreuse, chocolate, coral, cornflowerblue,\n",
    "            cornsilk, crimson, cyan, darkblue, darkcyan,\n",
    "            darkgoldenrod, darkgray, darkgrey, darkgreen,\n",
    "            darkkhaki, darkmagenta, darkolivegreen, darkorange,\n",
    "            darkorchid, darkred, darksalmon, darkseagreen,\n",
    "            darkslateblue, darkslategray, darkslategrey,\n",
    "            darkturquoise, darkviolet, deeppink, deepskyblue,\n",
    "            dimgray, dimgrey, dodgerblue, firebrick,\n",
    "            floralwhite, forestgreen, fuchsia, gainsboro,\n",
    "            ghostwhite, gold, goldenrod, gray, grey, green,\n",
    "            greenyellow, honeydew, hotpink, indianred, indigo,\n",
    "            ivory, khaki, lavender, lavenderblush, lawngreen,\n",
    "            lemonchiffon, lightblue, lightcoral, lightcyan,\n",
    "            lightgoldenrodyellow, lightgray, lightgrey,\n",
    "            lightgreen, lightpink, lightsalmon, lightseagreen,\n",
    "            lightskyblue, lightslategray, lightslategrey,\n",
    "            lightsteelblue, lightyellow, lime, limegreen,\n",
    "            linen, magenta, maroon, mediumaquamarine,\n",
    "            mediumblue, mediumorchid, mediumpurple,\n",
    "            mediumseagreen, mediumslateblue, mediumspringgreen,\n",
    "            mediumturquoise, mediumvioletred, midnightblue,\n",
    "            mintcream, mistyrose, moccasin, navajowhite, navy,\n",
    "            oldlace, olive, olivedrab, orange, orangered,\n",
    "            orchid, palegoldenrod, palegreen, paleturquoise,\n",
    "            palevioletred, papayawhip, peachpuff, peru, pink,\n",
    "            plum, powderblue, purple, red, rosybrown,\n",
    "            royalblue, saddlebrown, salmon, sandybrown,\n",
    "            seagreen, seashell, sienna, silver, skyblue,\n",
    "            slateblue, slategray, slategrey, snow, springgreen,\n",
    "            steelblue, tan, teal, thistle, tomato, turquoise,\n",
    "            violet, wheat, white, whitesmoke, yellow,\n",
    "            yellowgreen"
   ]
  },
  {
   "cell_type": "code",
   "execution_count": 71,
   "metadata": {},
   "outputs": [
    {
     "data": {
      "application/vnd.plotly.v1+json": {
       "config": {
        "linkText": "Export to plot.ly",
        "plotlyServerURL": "https://plot.ly",
        "showLink": true
       },
       "data": [
        {
         "type": "scatter",
         "uid": "b5dfaeee-9675-45bc-aecf-b7613d925572",
         "x": [
          "Male",
          "Unknown",
          "Male/Female",
          "Female"
         ],
         "y": [
          3096,
          98,
          83,
          38
         ]
        }
       ],
       "layout": {
        "plot_bgcolor": "peachpuff",
        "title": "Gender vs Mass Shooting"
       }
      },
      "text/html": [
       "<div id=\"176549f0-44f6-4117-8693-0b32f68005f6\" style=\"height: 525px; width: 100%;\" class=\"plotly-graph-div\"></div><script type=\"text/javascript\">require([\"plotly\"], function(Plotly) { window.PLOTLYENV=window.PLOTLYENV || {};window.PLOTLYENV.BASE_URL=\"https://plot.ly\";Plotly.newPlot(\"176549f0-44f6-4117-8693-0b32f68005f6\", [{\"x\": [\"Male\", \"Unknown\", \"Male/Female\", \"Female\"], \"uid\": \"6e02a8ca-ad60-4852-a7c7-a0cce79301e4\", \"y\": [3096, 98, 83, 38], \"type\": \"scatter\"}], {\"plot_bgcolor\": \"peachpuff\", \"title\": \"Gender vs Mass Shooting\"}, {\"linkText\": \"Export to plot.ly\", \"showLink\": true, \"plotlyServerURL\": \"https://plot.ly\"})});</script><script type=\"text/javascript\">window.addEventListener(\"resize\", function(){window._Plotly.Plots.resize(document.getElementById(\"176549f0-44f6-4117-8693-0b32f68005f6\"));});</script>"
      ],
      "text/vnd.plotly.v1+html": [
       "<div id=\"176549f0-44f6-4117-8693-0b32f68005f6\" style=\"height: 525px; width: 100%;\" class=\"plotly-graph-div\"></div><script type=\"text/javascript\">require([\"plotly\"], function(Plotly) { window.PLOTLYENV=window.PLOTLYENV || {};window.PLOTLYENV.BASE_URL=\"https://plot.ly\";Plotly.newPlot(\"176549f0-44f6-4117-8693-0b32f68005f6\", [{\"x\": [\"Male\", \"Unknown\", \"Male/Female\", \"Female\"], \"uid\": \"6e02a8ca-ad60-4852-a7c7-a0cce79301e4\", \"y\": [3096, 98, 83, 38], \"type\": \"scatter\"}], {\"plot_bgcolor\": \"peachpuff\", \"title\": \"Gender vs Mass Shooting\"}, {\"linkText\": \"Export to plot.ly\", \"showLink\": true, \"plotlyServerURL\": \"https://plot.ly\"})});</script><script type=\"text/javascript\">window.addEventListener(\"resize\", function(){window._Plotly.Plots.resize(document.getElementById(\"176549f0-44f6-4117-8693-0b32f68005f6\"));});</script>"
      ]
     },
     "metadata": {},
     "output_type": "display_data"
    }
   ],
   "source": [
    "trace1=go.Scatter(y=gender_data['Total victims'],x=gender_data['Gender'])\n",
    "layout=dict(title='Gender vs Mass Shooting',plot_bgcolor=('peachpuff'))\n",
    "py.iplot(dict(data=[trace1],layout=layout))\n"
   ]
  },
  {
   "cell_type": "code",
   "execution_count": null,
   "metadata": {},
   "outputs": [],
   "source": []
  }
 ],
 "metadata": {
  "kernelspec": {
   "display_name": "Python 3",
   "language": "python",
   "name": "python3"
  },
  "language_info": {
   "codemirror_mode": {
    "name": "ipython",
    "version": 3
   },
   "file_extension": ".py",
   "mimetype": "text/x-python",
   "name": "python",
   "nbconvert_exporter": "python",
   "pygments_lexer": "ipython3",
   "version": "3.5.2"
  }
 },
 "nbformat": 4,
 "nbformat_minor": 2
}
